{
 "cells": [
  {
   "cell_type": "markdown",
   "metadata": {},
   "source": [
    "# Fungi Classification Data Preprocess/Visualization"
   ]
  },
  {
   "cell_type": "code",
   "execution_count": 362,
   "metadata": {},
   "outputs": [],
   "source": [
    "# import packages\n",
    "import pandas as pd\n",
    "import numpy as np\n",
    "import matplotlib.pyplot as plt\n",
    "%matplotlib inline\n",
    "import os\n",
    "import seaborn as sns\n",
    "from sklearn.preprocessing import LabelEncoder\n",
    "from sklearn.preprocessing import OneHotEncoder"
   ]
  },
  {
   "cell_type": "markdown",
   "metadata": {},
   "source": [
    "# basic data info"
   ]
  },
  {
   "cell_type": "code",
   "execution_count": null,
   "metadata": {},
   "outputs": [],
   "source": [
    "# import data\n",
    "data = pd.read_csv('mushrooms.csv')"
   ]
  },
  {
   "cell_type": "code",
   "execution_count": 136,
   "metadata": {},
   "outputs": [
    {
     "data": {
      "text/plain": [
       "(8124, 23)"
      ]
     },
     "execution_count": 136,
     "metadata": {},
     "output_type": "execute_result"
    }
   ],
   "source": [
    "data.shape"
   ]
  },
  {
   "cell_type": "code",
   "execution_count": 61,
   "metadata": {},
   "outputs": [
    {
     "data": {
      "text/html": [
       "<div>\n",
       "<style scoped>\n",
       "    .dataframe tbody tr th:only-of-type {\n",
       "        vertical-align: middle;\n",
       "    }\n",
       "\n",
       "    .dataframe tbody tr th {\n",
       "        vertical-align: top;\n",
       "    }\n",
       "\n",
       "    .dataframe thead th {\n",
       "        text-align: right;\n",
       "    }\n",
       "</style>\n",
       "<table border=\"1\" class=\"dataframe\">\n",
       "  <thead>\n",
       "    <tr style=\"text-align: right;\">\n",
       "      <th></th>\n",
       "      <th>class</th>\n",
       "      <th>cap-shape</th>\n",
       "      <th>cap-surface</th>\n",
       "      <th>cap-color</th>\n",
       "      <th>bruises</th>\n",
       "      <th>odor</th>\n",
       "      <th>gill-attachment</th>\n",
       "      <th>gill-spacing</th>\n",
       "      <th>gill-size</th>\n",
       "      <th>gill-color</th>\n",
       "      <th>...</th>\n",
       "      <th>stalk-surface-below-ring</th>\n",
       "      <th>stalk-color-above-ring</th>\n",
       "      <th>stalk-color-below-ring</th>\n",
       "      <th>veil-type</th>\n",
       "      <th>veil-color</th>\n",
       "      <th>ring-number</th>\n",
       "      <th>ring-type</th>\n",
       "      <th>spore-print-color</th>\n",
       "      <th>population</th>\n",
       "      <th>habitat</th>\n",
       "    </tr>\n",
       "  </thead>\n",
       "  <tbody>\n",
       "    <tr>\n",
       "      <th>0</th>\n",
       "      <td>p</td>\n",
       "      <td>x</td>\n",
       "      <td>s</td>\n",
       "      <td>n</td>\n",
       "      <td>t</td>\n",
       "      <td>p</td>\n",
       "      <td>f</td>\n",
       "      <td>c</td>\n",
       "      <td>n</td>\n",
       "      <td>k</td>\n",
       "      <td>...</td>\n",
       "      <td>s</td>\n",
       "      <td>w</td>\n",
       "      <td>w</td>\n",
       "      <td>p</td>\n",
       "      <td>w</td>\n",
       "      <td>o</td>\n",
       "      <td>p</td>\n",
       "      <td>k</td>\n",
       "      <td>s</td>\n",
       "      <td>u</td>\n",
       "    </tr>\n",
       "    <tr>\n",
       "      <th>1</th>\n",
       "      <td>e</td>\n",
       "      <td>x</td>\n",
       "      <td>s</td>\n",
       "      <td>y</td>\n",
       "      <td>t</td>\n",
       "      <td>a</td>\n",
       "      <td>f</td>\n",
       "      <td>c</td>\n",
       "      <td>b</td>\n",
       "      <td>k</td>\n",
       "      <td>...</td>\n",
       "      <td>s</td>\n",
       "      <td>w</td>\n",
       "      <td>w</td>\n",
       "      <td>p</td>\n",
       "      <td>w</td>\n",
       "      <td>o</td>\n",
       "      <td>p</td>\n",
       "      <td>n</td>\n",
       "      <td>n</td>\n",
       "      <td>g</td>\n",
       "    </tr>\n",
       "    <tr>\n",
       "      <th>2</th>\n",
       "      <td>e</td>\n",
       "      <td>b</td>\n",
       "      <td>s</td>\n",
       "      <td>w</td>\n",
       "      <td>t</td>\n",
       "      <td>l</td>\n",
       "      <td>f</td>\n",
       "      <td>c</td>\n",
       "      <td>b</td>\n",
       "      <td>n</td>\n",
       "      <td>...</td>\n",
       "      <td>s</td>\n",
       "      <td>w</td>\n",
       "      <td>w</td>\n",
       "      <td>p</td>\n",
       "      <td>w</td>\n",
       "      <td>o</td>\n",
       "      <td>p</td>\n",
       "      <td>n</td>\n",
       "      <td>n</td>\n",
       "      <td>m</td>\n",
       "    </tr>\n",
       "    <tr>\n",
       "      <th>3</th>\n",
       "      <td>p</td>\n",
       "      <td>x</td>\n",
       "      <td>y</td>\n",
       "      <td>w</td>\n",
       "      <td>t</td>\n",
       "      <td>p</td>\n",
       "      <td>f</td>\n",
       "      <td>c</td>\n",
       "      <td>n</td>\n",
       "      <td>n</td>\n",
       "      <td>...</td>\n",
       "      <td>s</td>\n",
       "      <td>w</td>\n",
       "      <td>w</td>\n",
       "      <td>p</td>\n",
       "      <td>w</td>\n",
       "      <td>o</td>\n",
       "      <td>p</td>\n",
       "      <td>k</td>\n",
       "      <td>s</td>\n",
       "      <td>u</td>\n",
       "    </tr>\n",
       "    <tr>\n",
       "      <th>4</th>\n",
       "      <td>e</td>\n",
       "      <td>x</td>\n",
       "      <td>s</td>\n",
       "      <td>g</td>\n",
       "      <td>f</td>\n",
       "      <td>n</td>\n",
       "      <td>f</td>\n",
       "      <td>w</td>\n",
       "      <td>b</td>\n",
       "      <td>k</td>\n",
       "      <td>...</td>\n",
       "      <td>s</td>\n",
       "      <td>w</td>\n",
       "      <td>w</td>\n",
       "      <td>p</td>\n",
       "      <td>w</td>\n",
       "      <td>o</td>\n",
       "      <td>e</td>\n",
       "      <td>n</td>\n",
       "      <td>a</td>\n",
       "      <td>g</td>\n",
       "    </tr>\n",
       "  </tbody>\n",
       "</table>\n",
       "<p>5 rows × 23 columns</p>\n",
       "</div>"
      ],
      "text/plain": [
       "  class cap-shape cap-surface cap-color bruises odor gill-attachment  \\\n",
       "0     p         x           s         n       t    p               f   \n",
       "1     e         x           s         y       t    a               f   \n",
       "2     e         b           s         w       t    l               f   \n",
       "3     p         x           y         w       t    p               f   \n",
       "4     e         x           s         g       f    n               f   \n",
       "\n",
       "  gill-spacing gill-size gill-color  ... stalk-surface-below-ring  \\\n",
       "0            c         n          k  ...                        s   \n",
       "1            c         b          k  ...                        s   \n",
       "2            c         b          n  ...                        s   \n",
       "3            c         n          n  ...                        s   \n",
       "4            w         b          k  ...                        s   \n",
       "\n",
       "  stalk-color-above-ring stalk-color-below-ring veil-type veil-color  \\\n",
       "0                      w                      w         p          w   \n",
       "1                      w                      w         p          w   \n",
       "2                      w                      w         p          w   \n",
       "3                      w                      w         p          w   \n",
       "4                      w                      w         p          w   \n",
       "\n",
       "  ring-number ring-type spore-print-color population habitat  \n",
       "0           o         p                 k          s       u  \n",
       "1           o         p                 n          n       g  \n",
       "2           o         p                 n          n       m  \n",
       "3           o         p                 k          s       u  \n",
       "4           o         e                 n          a       g  \n",
       "\n",
       "[5 rows x 23 columns]"
      ]
     },
     "execution_count": 61,
     "metadata": {},
     "output_type": "execute_result"
    }
   ],
   "source": [
    "data.head()"
   ]
  },
  {
   "cell_type": "code",
   "execution_count": 63,
   "metadata": {},
   "outputs": [
    {
     "data": {
      "text/html": [
       "<div>\n",
       "<style scoped>\n",
       "    .dataframe tbody tr th:only-of-type {\n",
       "        vertical-align: middle;\n",
       "    }\n",
       "\n",
       "    .dataframe tbody tr th {\n",
       "        vertical-align: top;\n",
       "    }\n",
       "\n",
       "    .dataframe thead th {\n",
       "        text-align: right;\n",
       "    }\n",
       "</style>\n",
       "<table border=\"1\" class=\"dataframe\">\n",
       "  <thead>\n",
       "    <tr style=\"text-align: right;\">\n",
       "      <th></th>\n",
       "      <th>class</th>\n",
       "      <th>cap-shape</th>\n",
       "      <th>cap-surface</th>\n",
       "      <th>cap-color</th>\n",
       "      <th>bruises</th>\n",
       "      <th>odor</th>\n",
       "      <th>gill-attachment</th>\n",
       "      <th>gill-spacing</th>\n",
       "      <th>gill-size</th>\n",
       "      <th>gill-color</th>\n",
       "      <th>...</th>\n",
       "      <th>stalk-surface-below-ring</th>\n",
       "      <th>stalk-color-above-ring</th>\n",
       "      <th>stalk-color-below-ring</th>\n",
       "      <th>veil-type</th>\n",
       "      <th>veil-color</th>\n",
       "      <th>ring-number</th>\n",
       "      <th>ring-type</th>\n",
       "      <th>spore-print-color</th>\n",
       "      <th>population</th>\n",
       "      <th>habitat</th>\n",
       "    </tr>\n",
       "  </thead>\n",
       "  <tbody>\n",
       "    <tr>\n",
       "      <th>count</th>\n",
       "      <td>8124</td>\n",
       "      <td>8124</td>\n",
       "      <td>8124</td>\n",
       "      <td>8124</td>\n",
       "      <td>8124</td>\n",
       "      <td>8124</td>\n",
       "      <td>8124</td>\n",
       "      <td>8124</td>\n",
       "      <td>8124</td>\n",
       "      <td>8124</td>\n",
       "      <td>...</td>\n",
       "      <td>8124</td>\n",
       "      <td>8124</td>\n",
       "      <td>8124</td>\n",
       "      <td>8124</td>\n",
       "      <td>8124</td>\n",
       "      <td>8124</td>\n",
       "      <td>8124</td>\n",
       "      <td>8124</td>\n",
       "      <td>8124</td>\n",
       "      <td>8124</td>\n",
       "    </tr>\n",
       "    <tr>\n",
       "      <th>unique</th>\n",
       "      <td>2</td>\n",
       "      <td>6</td>\n",
       "      <td>4</td>\n",
       "      <td>10</td>\n",
       "      <td>2</td>\n",
       "      <td>9</td>\n",
       "      <td>2</td>\n",
       "      <td>2</td>\n",
       "      <td>2</td>\n",
       "      <td>12</td>\n",
       "      <td>...</td>\n",
       "      <td>4</td>\n",
       "      <td>9</td>\n",
       "      <td>9</td>\n",
       "      <td>1</td>\n",
       "      <td>4</td>\n",
       "      <td>3</td>\n",
       "      <td>5</td>\n",
       "      <td>9</td>\n",
       "      <td>6</td>\n",
       "      <td>7</td>\n",
       "    </tr>\n",
       "    <tr>\n",
       "      <th>top</th>\n",
       "      <td>e</td>\n",
       "      <td>x</td>\n",
       "      <td>y</td>\n",
       "      <td>n</td>\n",
       "      <td>f</td>\n",
       "      <td>n</td>\n",
       "      <td>f</td>\n",
       "      <td>c</td>\n",
       "      <td>b</td>\n",
       "      <td>b</td>\n",
       "      <td>...</td>\n",
       "      <td>s</td>\n",
       "      <td>w</td>\n",
       "      <td>w</td>\n",
       "      <td>p</td>\n",
       "      <td>w</td>\n",
       "      <td>o</td>\n",
       "      <td>p</td>\n",
       "      <td>w</td>\n",
       "      <td>v</td>\n",
       "      <td>d</td>\n",
       "    </tr>\n",
       "    <tr>\n",
       "      <th>freq</th>\n",
       "      <td>4208</td>\n",
       "      <td>3656</td>\n",
       "      <td>3244</td>\n",
       "      <td>2284</td>\n",
       "      <td>4748</td>\n",
       "      <td>3528</td>\n",
       "      <td>7914</td>\n",
       "      <td>6812</td>\n",
       "      <td>5612</td>\n",
       "      <td>1728</td>\n",
       "      <td>...</td>\n",
       "      <td>4936</td>\n",
       "      <td>4464</td>\n",
       "      <td>4384</td>\n",
       "      <td>8124</td>\n",
       "      <td>7924</td>\n",
       "      <td>7488</td>\n",
       "      <td>3968</td>\n",
       "      <td>2388</td>\n",
       "      <td>4040</td>\n",
       "      <td>3148</td>\n",
       "    </tr>\n",
       "  </tbody>\n",
       "</table>\n",
       "<p>4 rows × 23 columns</p>\n",
       "</div>"
      ],
      "text/plain": [
       "       class cap-shape cap-surface cap-color bruises  odor gill-attachment  \\\n",
       "count   8124      8124        8124      8124    8124  8124            8124   \n",
       "unique     2         6           4        10       2     9               2   \n",
       "top        e         x           y         n       f     n               f   \n",
       "freq    4208      3656        3244      2284    4748  3528            7914   \n",
       "\n",
       "       gill-spacing gill-size gill-color  ... stalk-surface-below-ring  \\\n",
       "count          8124      8124       8124  ...                     8124   \n",
       "unique            2         2         12  ...                        4   \n",
       "top               c         b          b  ...                        s   \n",
       "freq           6812      5612       1728  ...                     4936   \n",
       "\n",
       "       stalk-color-above-ring stalk-color-below-ring veil-type veil-color  \\\n",
       "count                    8124                   8124      8124       8124   \n",
       "unique                      9                      9         1          4   \n",
       "top                         w                      w         p          w   \n",
       "freq                     4464                   4384      8124       7924   \n",
       "\n",
       "       ring-number ring-type spore-print-color population habitat  \n",
       "count         8124      8124              8124       8124    8124  \n",
       "unique           3         5                 9          6       7  \n",
       "top              o         p                 w          v       d  \n",
       "freq          7488      3968              2388       4040    3148  \n",
       "\n",
       "[4 rows x 23 columns]"
      ]
     },
     "execution_count": 63,
     "metadata": {},
     "output_type": "execute_result"
    }
   ],
   "source": [
    "data.describe()"
   ]
  },
  {
   "cell_type": "code",
   "execution_count": 64,
   "metadata": {},
   "outputs": [
    {
     "data": {
      "text/plain": [
       "Index(['class', 'cap-shape', 'cap-surface', 'cap-color', 'bruises', 'odor',\n",
       "       'gill-attachment', 'gill-spacing', 'gill-size', 'gill-color',\n",
       "       'stalk-shape', 'stalk-root', 'stalk-surface-above-ring',\n",
       "       'stalk-surface-below-ring', 'stalk-color-above-ring',\n",
       "       'stalk-color-below-ring', 'veil-type', 'veil-color', 'ring-number',\n",
       "       'ring-type', 'spore-print-color', 'population', 'habitat'],\n",
       "      dtype='object')"
      ]
     },
     "execution_count": 64,
     "metadata": {},
     "output_type": "execute_result"
    }
   ],
   "source": [
    "data.columns"
   ]
  },
  {
   "cell_type": "code",
   "execution_count": 71,
   "metadata": {},
   "outputs": [
    {
     "data": {
      "text/plain": [
       "class                       0\n",
       "cap-shape                   0\n",
       "cap-surface                 0\n",
       "cap-color                   0\n",
       "bruises                     0\n",
       "odor                        0\n",
       "gill-attachment             0\n",
       "gill-spacing                0\n",
       "gill-size                   0\n",
       "gill-color                  0\n",
       "stalk-shape                 0\n",
       "stalk-root                  0\n",
       "stalk-surface-above-ring    0\n",
       "stalk-surface-below-ring    0\n",
       "stalk-color-above-ring      0\n",
       "stalk-color-below-ring      0\n",
       "veil-type                   0\n",
       "veil-color                  0\n",
       "ring-number                 0\n",
       "ring-type                   0\n",
       "spore-print-color           0\n",
       "population                  0\n",
       "habitat                     0\n",
       "dtype: int64"
      ]
     },
     "execution_count": 71,
     "metadata": {},
     "output_type": "execute_result"
    }
   ],
   "source": [
    "data.isna().sum()"
   ]
  },
  {
   "cell_type": "markdown",
   "metadata": {},
   "source": [
    "# visualization preprocessing"
   ]
  },
  {
   "cell_type": "code",
   "execution_count": null,
   "metadata": {},
   "outputs": [],
   "source": [
    "# create list from categorical columns \n",
    "cat_cols = list(data.columns)\n",
    "# remove target from categorical list for plot purposes\n",
    "cat_cols.remove('class')"
   ]
  },
  {
   "cell_type": "code",
   "execution_count": 51,
   "metadata": {},
   "outputs": [],
   "source": [
    "# function to plot all categorical variables against target\n",
    "def plot_cats(df, cat, target):\n",
    "    fig, ax = plt.pyplot.subplots()\n",
    "    ax = sns.countplot(x=cat, hue=target, data=df)\n",
    "    ax.set_title(f'Count Poisonous VS Edible BY {cat}')"
   ]
  },
  {
   "cell_type": "markdown",
   "metadata": {},
   "source": [
    "# visualizations"
   ]
  },
  {
   "cell_type": "code",
   "execution_count": 52,
   "metadata": {
    "scrolled": false
   },
   "outputs": [
    {
     "name": "stderr",
     "output_type": "stream",
     "text": [
      "<ipython-input-51-982a1e4c8a72>:2: RuntimeWarning: More than 20 figures have been opened. Figures created through the pyplot interface (`matplotlib.pyplot.figure`) are retained until explicitly closed and may consume too much memory. (To control this warning, see the rcParam `figure.max_open_warning`).\n",
      "  fig, ax = plt.pyplot.subplots()\n"
     ]
    },
    {
     "data": {
      "image/png": "[encoded data removed]",
      "text/plain": [
       "<Figure size 432x288 with 1 Axes>"
      ]
     },
     "metadata": {
      "needs_background": "light"
     },
     "output_type": "display_data"
    },
    {
     "data": {
      "image/png": "[encoded data removed]",
      "text/plain": [
       "<Figure size 432x288 with 1 Axes>"
      ]
     },
     "metadata": {
      "needs_background": "light"
     },
     "output_type": "display_data"
    },
    {
     "data": {
      "image/png": "[encoded data removed]",
      "text/plain": [
       "<Figure size 432x288 with 1 Axes>"
      ]
     },
     "metadata": {
      "needs_background": "light"
     },
     "output_type": "display_data"
    },
    {
     "data": {
      "image/png": "[encoded data removed]",
      "text/plain": [
       "<Figure size 432x288 with 1 Axes>"
      ]
     },
     "metadata": {
      "needs_background": "light"
     },
     "output_type": "display_data"
    },
    {
     "data": {
      "image/png": "[encoded data removed]",
      "text/plain": [
       "<Figure size 432x288 with 1 Axes>"
      ]
     },
     "metadata": {
      "needs_background": "light"
     },
     "output_type": "display_data"
    },
    {
     "data": {
      "image/png": "[encoded data removed]",
      "text/plain": [
       "<Figure size 432x288 with 1 Axes>"
      ]
     },
     "metadata": {
      "needs_background": "light"
     },
     "output_type": "display_data"
    },
    {
     "data": {
      "image/png": "[encoded data removed]",
      "text/plain": [
       "<Figure size 432x288 with 1 Axes>"
      ]
     },
     "metadata": {
      "needs_background": "light"
     },
     "output_type": "display_data"
    },
    {
     "data": {
      "image/png": "[encoded data removed]",
      "text/plain": [
       "<Figure size 432x288 with 1 Axes>"
      ]
     },
     "metadata": {
      "needs_background": "light"
     },
     "output_type": "display_data"
    },
    {
     "data": {
      "image/png": "[encoded data removed]",
      "text/plain": [
       "<Figure size 432x288 with 1 Axes>"
      ]
     },
     "metadata": {
      "needs_background": "light"
     },
     "output_type": "display_data"
    },
    {
     "data": {
      "image/png": "[encoded data removed]",
      "text/plain": [
       "<Figure size 432x288 with 1 Axes>"
      ]
     },
     "metadata": {
      "needs_background": "light"
     },
     "output_type": "display_data"
    },
    {
     "data": {
      "image/png": "[encoded data removed]",
      "text/plain": [
       "<Figure size 432x288 with 1 Axes>"
      ]
     },
     "metadata": {
      "needs_background": "light"
     },
     "output_type": "display_data"
    },
    {
     "data": {
      "image/png": "[encoded data removed]",
      "text/plain": [
       "<Figure size 432x288 with 1 Axes>"
      ]
     },
     "metadata": {
      "needs_background": "light"
     },
     "output_type": "display_data"
    },
    {
     "data": {
      "image/png": "[encoded data removed]",
      "text/plain": [
       "<Figure size 432x288 with 1 Axes>"
      ]
     },
     "metadata": {
      "needs_background": "light"
     },
     "output_type": "display_data"
    },
    {
     "data": {
      "image/png": "[encoded data removed]",
      "text/plain": [
       "<Figure size 432x288 with 1 Axes>"
      ]
     },
     "metadata": {
      "needs_background": "light"
     },
     "output_type": "display_data"
    },
    {
     "data": {
      "image/png": "[encoded data removed]",
      "text/plain": [
       "<Figure size 432x288 with 1 Axes>"
      ]
     },
     "metadata": {
      "needs_background": "light"
     },
     "output_type": "display_data"
    },
    {
     "data": {
      "image/png": "[encoded data removed]",
      "text/plain": [
       "<Figure size 432x288 with 1 Axes>"
      ]
     },
     "metadata": {
      "needs_background": "light"
     },
     "output_type": "display_data"
    },
    {
     "data": {
      "image/png": "[encoded data removed]",
      "text/plain": [
       "<Figure size 432x288 with 1 Axes>"
      ]
     },
     "metadata": {
      "needs_background": "light"
     },
     "output_type": "display_data"
    },
    {
     "data": {
      "image/png": "[encoded data removed]",
      "text/plain": [
       "<Figure size 432x288 with 1 Axes>"
      ]
     },
     "metadata": {
      "needs_background": "light"
     },
     "output_type": "display_data"
    },
    {
     "data": {
      "image/png": "[encoded data removed]",
      "text/plain": [
       "<Figure size 432x288 with 1 Axes>"
      ]
     },
     "metadata": {
      "needs_background": "light"
     },
     "output_type": "display_data"
    },
    {
     "data": {
      "image/png": "[encoded data removed]",
      "text/plain": [
       "<Figure size 432x288 with 1 Axes>"
      ]
     },
     "metadata": {
      "needs_background": "light"
     },
     "output_type": "display_data"
    },
    {
     "data": {
      "image/png": "[encoded data removed]",
      "text/plain": [
       "<Figure size 432x288 with 1 Axes>"
      ]
     },
     "metadata": {
      "needs_background": "light"
     },
     "output_type": "display_data"
    },
    {
     "data": {
      "image/png": "[encoded data removed]",
      "text/plain": [
       "<Figure size 432x288 with 1 Axes>"
      ]
     },
     "metadata": {
      "needs_background": "light"
     },
     "output_type": "display_data"
    },
    {
     "data": {
      "image/png": "[encoded data removed]",
      "text/plain": [
       "<Figure size 432x288 with 1 Axes>"
      ]
     },
     "metadata": {
      "needs_background": "light"
     },
     "output_type": "display_data"
    }
   ],
   "source": [
    "for x in cat_cols:\n",
    "    plot_cats(data, x, 'class')"
   ]
  },
  {
   "cell_type": "code",
   "execution_count": 160,
   "metadata": {},
   "outputs": [
    {
     "data": {
      "text/plain": [
       "count     8124\n",
       "unique       1\n",
       "top          p\n",
       "freq      8124\n",
       "Name: veil-type, dtype: object"
      ]
     },
     "execution_count": 160,
     "metadata": {},
     "output_type": "execute_result"
    }
   ],
   "source": [
    "# from graphs, it looks like there is only one response in veil-type category\n",
    "data['veil-type'].describe()"
   ]
  },
  {
   "cell_type": "code",
   "execution_count": 167,
   "metadata": {},
   "outputs": [],
   "source": [
    "# drop due to fact that there is no info gained from category\n",
    "data.drop(columns=['veil-type'], inplace=True)"
   ]
  },
  {
   "cell_type": "code",
   "execution_count": null,
   "metadata": {},
   "outputs": [],
   "source": []
  },
  {
   "cell_type": "code",
   "execution_count": null,
   "metadata": {},
   "outputs": [],
   "source": []
  },
  {
   "cell_type": "markdown",
   "metadata": {},
   "source": [
    "# assess data balance and look at poisonous and edible data separately"
   ]
  },
  {
   "cell_type": "code",
   "execution_count": 168,
   "metadata": {},
   "outputs": [],
   "source": [
    "# create poisonous only df\n",
    "p_df = data[data['class'] == \"p\"]\n",
    "#create edible only df\n",
    "e_df = data[data['class'] == \"e\"]"
   ]
  },
  {
   "cell_type": "code",
   "execution_count": 169,
   "metadata": {},
   "outputs": [
    {
     "data": {
      "text/html": [
       "<div>\n",
       "<style scoped>\n",
       "    .dataframe tbody tr th:only-of-type {\n",
       "        vertical-align: middle;\n",
       "    }\n",
       "\n",
       "    .dataframe tbody tr th {\n",
       "        vertical-align: top;\n",
       "    }\n",
       "\n",
       "    .dataframe thead th {\n",
       "        text-align: right;\n",
       "    }\n",
       "</style>\n",
       "<table border=\"1\" class=\"dataframe\">\n",
       "  <thead>\n",
       "    <tr style=\"text-align: right;\">\n",
       "      <th></th>\n",
       "      <th>class</th>\n",
       "      <th>cap-shape</th>\n",
       "      <th>cap-surface</th>\n",
       "      <th>cap-color</th>\n",
       "      <th>bruises</th>\n",
       "      <th>odor</th>\n",
       "      <th>gill-attachment</th>\n",
       "      <th>gill-spacing</th>\n",
       "      <th>gill-size</th>\n",
       "      <th>gill-color</th>\n",
       "      <th>...</th>\n",
       "      <th>stalk-surface-above-ring</th>\n",
       "      <th>stalk-surface-below-ring</th>\n",
       "      <th>stalk-color-above-ring</th>\n",
       "      <th>stalk-color-below-ring</th>\n",
       "      <th>veil-color</th>\n",
       "      <th>ring-number</th>\n",
       "      <th>ring-type</th>\n",
       "      <th>spore-print-color</th>\n",
       "      <th>population</th>\n",
       "      <th>habitat</th>\n",
       "    </tr>\n",
       "  </thead>\n",
       "  <tbody>\n",
       "    <tr>\n",
       "      <th>count</th>\n",
       "      <td>3916</td>\n",
       "      <td>3916</td>\n",
       "      <td>3916</td>\n",
       "      <td>3916</td>\n",
       "      <td>3916</td>\n",
       "      <td>3916</td>\n",
       "      <td>3916</td>\n",
       "      <td>3916</td>\n",
       "      <td>3916</td>\n",
       "      <td>3916</td>\n",
       "      <td>...</td>\n",
       "      <td>3916</td>\n",
       "      <td>3916</td>\n",
       "      <td>3916</td>\n",
       "      <td>3916</td>\n",
       "      <td>3916</td>\n",
       "      <td>3916</td>\n",
       "      <td>3916</td>\n",
       "      <td>3916</td>\n",
       "      <td>3916</td>\n",
       "      <td>3916</td>\n",
       "    </tr>\n",
       "    <tr>\n",
       "      <th>unique</th>\n",
       "      <td>1</td>\n",
       "      <td>5</td>\n",
       "      <td>4</td>\n",
       "      <td>8</td>\n",
       "      <td>2</td>\n",
       "      <td>7</td>\n",
       "      <td>2</td>\n",
       "      <td>2</td>\n",
       "      <td>2</td>\n",
       "      <td>10</td>\n",
       "      <td>...</td>\n",
       "      <td>4</td>\n",
       "      <td>4</td>\n",
       "      <td>6</td>\n",
       "      <td>6</td>\n",
       "      <td>2</td>\n",
       "      <td>3</td>\n",
       "      <td>4</td>\n",
       "      <td>5</td>\n",
       "      <td>4</td>\n",
       "      <td>6</td>\n",
       "    </tr>\n",
       "    <tr>\n",
       "      <th>top</th>\n",
       "      <td>p</td>\n",
       "      <td>x</td>\n",
       "      <td>y</td>\n",
       "      <td>n</td>\n",
       "      <td>f</td>\n",
       "      <td>f</td>\n",
       "      <td>f</td>\n",
       "      <td>c</td>\n",
       "      <td>n</td>\n",
       "      <td>b</td>\n",
       "      <td>...</td>\n",
       "      <td>k</td>\n",
       "      <td>k</td>\n",
       "      <td>w</td>\n",
       "      <td>w</td>\n",
       "      <td>w</td>\n",
       "      <td>o</td>\n",
       "      <td>e</td>\n",
       "      <td>w</td>\n",
       "      <td>v</td>\n",
       "      <td>d</td>\n",
       "    </tr>\n",
       "    <tr>\n",
       "      <th>freq</th>\n",
       "      <td>3916</td>\n",
       "      <td>1708</td>\n",
       "      <td>1740</td>\n",
       "      <td>1020</td>\n",
       "      <td>3292</td>\n",
       "      <td>2160</td>\n",
       "      <td>3898</td>\n",
       "      <td>3804</td>\n",
       "      <td>2224</td>\n",
       "      <td>1728</td>\n",
       "      <td>...</td>\n",
       "      <td>2228</td>\n",
       "      <td>2160</td>\n",
       "      <td>1712</td>\n",
       "      <td>1680</td>\n",
       "      <td>3908</td>\n",
       "      <td>3808</td>\n",
       "      <td>1768</td>\n",
       "      <td>1812</td>\n",
       "      <td>2848</td>\n",
       "      <td>1268</td>\n",
       "    </tr>\n",
       "  </tbody>\n",
       "</table>\n",
       "<p>4 rows × 22 columns</p>\n",
       "</div>"
      ],
      "text/plain": [
       "       class cap-shape cap-surface cap-color bruises  odor gill-attachment  \\\n",
       "count   3916      3916        3916      3916    3916  3916            3916   \n",
       "unique     1         5           4         8       2     7               2   \n",
       "top        p         x           y         n       f     f               f   \n",
       "freq    3916      1708        1740      1020    3292  2160            3898   \n",
       "\n",
       "       gill-spacing gill-size gill-color  ... stalk-surface-above-ring  \\\n",
       "count          3916      3916       3916  ...                     3916   \n",
       "unique            2         2         10  ...                        4   \n",
       "top               c         n          b  ...                        k   \n",
       "freq           3804      2224       1728  ...                     2228   \n",
       "\n",
       "       stalk-surface-below-ring stalk-color-above-ring stalk-color-below-ring  \\\n",
       "count                      3916                   3916                   3916   \n",
       "unique                        4                      6                      6   \n",
       "top                           k                      w                      w   \n",
       "freq                       2160                   1712                   1680   \n",
       "\n",
       "       veil-color ring-number ring-type spore-print-color population habitat  \n",
       "count        3916        3916      3916              3916       3916    3916  \n",
       "unique          2           3         4                 5          4       6  \n",
       "top             w           o         e                 w          v       d  \n",
       "freq         3908        3808      1768              1812       2848    1268  \n",
       "\n",
       "[4 rows x 22 columns]"
      ]
     },
     "execution_count": 169,
     "metadata": {},
     "output_type": "execute_result"
    }
   ],
   "source": [
    "p_df.describe()"
   ]
  },
  {
   "cell_type": "code",
   "execution_count": 170,
   "metadata": {},
   "outputs": [
    {
     "data": {
      "text/html": [
       "<div>\n",
       "<style scoped>\n",
       "    .dataframe tbody tr th:only-of-type {\n",
       "        vertical-align: middle;\n",
       "    }\n",
       "\n",
       "    .dataframe tbody tr th {\n",
       "        vertical-align: top;\n",
       "    }\n",
       "\n",
       "    .dataframe thead th {\n",
       "        text-align: right;\n",
       "    }\n",
       "</style>\n",
       "<table border=\"1\" class=\"dataframe\">\n",
       "  <thead>\n",
       "    <tr style=\"text-align: right;\">\n",
       "      <th></th>\n",
       "      <th>class</th>\n",
       "      <th>cap-shape</th>\n",
       "      <th>cap-surface</th>\n",
       "      <th>cap-color</th>\n",
       "      <th>bruises</th>\n",
       "      <th>odor</th>\n",
       "      <th>gill-attachment</th>\n",
       "      <th>gill-spacing</th>\n",
       "      <th>gill-size</th>\n",
       "      <th>gill-color</th>\n",
       "      <th>...</th>\n",
       "      <th>stalk-surface-above-ring</th>\n",
       "      <th>stalk-surface-below-ring</th>\n",
       "      <th>stalk-color-above-ring</th>\n",
       "      <th>stalk-color-below-ring</th>\n",
       "      <th>veil-color</th>\n",
       "      <th>ring-number</th>\n",
       "      <th>ring-type</th>\n",
       "      <th>spore-print-color</th>\n",
       "      <th>population</th>\n",
       "      <th>habitat</th>\n",
       "    </tr>\n",
       "  </thead>\n",
       "  <tbody>\n",
       "    <tr>\n",
       "      <th>count</th>\n",
       "      <td>4208</td>\n",
       "      <td>4208</td>\n",
       "      <td>4208</td>\n",
       "      <td>4208</td>\n",
       "      <td>4208</td>\n",
       "      <td>4208</td>\n",
       "      <td>4208</td>\n",
       "      <td>4208</td>\n",
       "      <td>4208</td>\n",
       "      <td>4208</td>\n",
       "      <td>...</td>\n",
       "      <td>4208</td>\n",
       "      <td>4208</td>\n",
       "      <td>4208</td>\n",
       "      <td>4208</td>\n",
       "      <td>4208</td>\n",
       "      <td>4208</td>\n",
       "      <td>4208</td>\n",
       "      <td>4208</td>\n",
       "      <td>4208</td>\n",
       "      <td>4208</td>\n",
       "    </tr>\n",
       "    <tr>\n",
       "      <th>unique</th>\n",
       "      <td>1</td>\n",
       "      <td>5</td>\n",
       "      <td>3</td>\n",
       "      <td>10</td>\n",
       "      <td>2</td>\n",
       "      <td>3</td>\n",
       "      <td>2</td>\n",
       "      <td>2</td>\n",
       "      <td>2</td>\n",
       "      <td>10</td>\n",
       "      <td>...</td>\n",
       "      <td>4</td>\n",
       "      <td>4</td>\n",
       "      <td>6</td>\n",
       "      <td>6</td>\n",
       "      <td>3</td>\n",
       "      <td>2</td>\n",
       "      <td>3</td>\n",
       "      <td>8</td>\n",
       "      <td>6</td>\n",
       "      <td>7</td>\n",
       "    </tr>\n",
       "    <tr>\n",
       "      <th>top</th>\n",
       "      <td>e</td>\n",
       "      <td>x</td>\n",
       "      <td>f</td>\n",
       "      <td>n</td>\n",
       "      <td>t</td>\n",
       "      <td>n</td>\n",
       "      <td>f</td>\n",
       "      <td>c</td>\n",
       "      <td>b</td>\n",
       "      <td>w</td>\n",
       "      <td>...</td>\n",
       "      <td>s</td>\n",
       "      <td>s</td>\n",
       "      <td>w</td>\n",
       "      <td>w</td>\n",
       "      <td>w</td>\n",
       "      <td>o</td>\n",
       "      <td>p</td>\n",
       "      <td>n</td>\n",
       "      <td>v</td>\n",
       "      <td>d</td>\n",
       "    </tr>\n",
       "    <tr>\n",
       "      <th>freq</th>\n",
       "      <td>4208</td>\n",
       "      <td>1948</td>\n",
       "      <td>1560</td>\n",
       "      <td>1264</td>\n",
       "      <td>2752</td>\n",
       "      <td>3408</td>\n",
       "      <td>4016</td>\n",
       "      <td>3008</td>\n",
       "      <td>3920</td>\n",
       "      <td>956</td>\n",
       "      <td>...</td>\n",
       "      <td>3640</td>\n",
       "      <td>3400</td>\n",
       "      <td>2752</td>\n",
       "      <td>2704</td>\n",
       "      <td>4016</td>\n",
       "      <td>3680</td>\n",
       "      <td>3152</td>\n",
       "      <td>1744</td>\n",
       "      <td>1192</td>\n",
       "      <td>1880</td>\n",
       "    </tr>\n",
       "  </tbody>\n",
       "</table>\n",
       "<p>4 rows × 22 columns</p>\n",
       "</div>"
      ],
      "text/plain": [
       "       class cap-shape cap-surface cap-color bruises  odor gill-attachment  \\\n",
       "count   4208      4208        4208      4208    4208  4208            4208   \n",
       "unique     1         5           3        10       2     3               2   \n",
       "top        e         x           f         n       t     n               f   \n",
       "freq    4208      1948        1560      1264    2752  3408            4016   \n",
       "\n",
       "       gill-spacing gill-size gill-color  ... stalk-surface-above-ring  \\\n",
       "count          4208      4208       4208  ...                     4208   \n",
       "unique            2         2         10  ...                        4   \n",
       "top               c         b          w  ...                        s   \n",
       "freq           3008      3920        956  ...                     3640   \n",
       "\n",
       "       stalk-surface-below-ring stalk-color-above-ring stalk-color-below-ring  \\\n",
       "count                      4208                   4208                   4208   \n",
       "unique                        4                      6                      6   \n",
       "top                           s                      w                      w   \n",
       "freq                       3400                   2752                   2704   \n",
       "\n",
       "       veil-color ring-number ring-type spore-print-color population habitat  \n",
       "count        4208        4208      4208              4208       4208    4208  \n",
       "unique          3           2         3                 8          6       7  \n",
       "top             w           o         p                 n          v       d  \n",
       "freq         4016        3680      3152              1744       1192    1880  \n",
       "\n",
       "[4 rows x 22 columns]"
      ]
     },
     "execution_count": 170,
     "metadata": {},
     "output_type": "execute_result"
    }
   ],
   "source": [
    "e_df.describe()"
   ]
  },
  {
   "cell_type": "markdown",
   "metadata": {},
   "source": [
    "# process X and y data"
   ]
  },
  {
   "cell_type": "code",
   "execution_count": 171,
   "metadata": {},
   "outputs": [],
   "source": [
    "features = data.drop(columns=['class'])"
   ]
  },
  {
   "cell_type": "markdown",
   "metadata": {},
   "source": [
    "## label encode categorical variables"
   ]
  },
  {
   "cell_type": "code",
   "execution_count": 172,
   "metadata": {},
   "outputs": [],
   "source": [
    "le = LabelEncoder()"
   ]
  },
  {
   "cell_type": "code",
   "execution_count": 173,
   "metadata": {},
   "outputs": [],
   "source": [
    "from pandas.api.types import CategoricalDtype"
   ]
  },
  {
   "cell_type": "code",
   "execution_count": 312,
   "metadata": {},
   "outputs": [],
   "source": [
    "data = data.astype('category')"
   ]
  },
  {
   "cell_type": "code",
   "execution_count": 313,
   "metadata": {},
   "outputs": [],
   "source": [
    "le_df = data.apply(le.fit_transform)   "
   ]
  },
  {
   "cell_type": "markdown",
   "metadata": {},
   "source": [
    "## feature selection using variance"
   ]
  },
  {
   "cell_type": "code",
   "execution_count": 314,
   "metadata": {
    "scrolled": true
   },
   "outputs": [
    {
     "data": {
      "text/plain": [
       "class                        0.249708\n",
       "cap-shape                    2.573872\n",
       "cap-surface                  1.512586\n",
       "cap-color                    6.481204\n",
       "bruises                      0.242900\n",
       "odor                         4.425676\n",
       "gill-attachment              0.025184\n",
       "gill-spacing                 0.135432\n",
       "gill-size                    0.213624\n",
       "gill-color                  12.534142\n",
       "stalk-shape                  0.245513\n",
       "stalk-root                   1.125946\n",
       "stalk-surface-above-ring     0.386212\n",
       "stalk-surface-below-ring     0.456941\n",
       "stalk-color-above-ring       3.616643\n",
       "stalk-color-below-ring       3.637761\n",
       "veil-color                   0.058888\n",
       "ring-number                  0.073476\n",
       "ring-type                    3.246022\n",
       "spore-print-color            5.677084\n",
       "population                   1.567709\n",
       "habitat                      2.958316\n",
       "dtype: float64"
      ]
     },
     "execution_count": 314,
     "metadata": {},
     "output_type": "execute_result"
    }
   ],
   "source": [
    "le_df.var()"
   ]
  },
  {
   "cell_type": "code",
   "execution_count": 377,
   "metadata": {},
   "outputs": [],
   "source": [
    "X_vf = le_df.filter(['gill-color','cap_color',\n",
    "                     'odor', 'stalk-color-below-ring', \n",
    "                     'spore-print-color'], axis=1) "
   ]
  },
  {
   "cell_type": "code",
   "execution_count": 484,
   "metadata": {},
   "outputs": [],
   "source": [
    "X_vf_ohe = ohe.fit_transform(X_vf)"
   ]
  },
  {
   "cell_type": "code",
   "execution_count": 369,
   "metadata": {},
   "outputs": [
    {
     "data": {
      "text/html": [
       "<div>\n",
       "<style scoped>\n",
       "    .dataframe tbody tr th:only-of-type {\n",
       "        vertical-align: middle;\n",
       "    }\n",
       "\n",
       "    .dataframe tbody tr th {\n",
       "        vertical-align: top;\n",
       "    }\n",
       "\n",
       "    .dataframe thead th {\n",
       "        text-align: right;\n",
       "    }\n",
       "</style>\n",
       "<table border=\"1\" class=\"dataframe\">\n",
       "  <thead>\n",
       "    <tr style=\"text-align: right;\">\n",
       "      <th></th>\n",
       "      <th>cap-shape</th>\n",
       "      <th>cap-surface</th>\n",
       "      <th>cap-color</th>\n",
       "      <th>bruises</th>\n",
       "      <th>odor</th>\n",
       "      <th>gill-attachment</th>\n",
       "      <th>gill-spacing</th>\n",
       "      <th>gill-size</th>\n",
       "      <th>gill-color</th>\n",
       "      <th>stalk-shape</th>\n",
       "      <th>...</th>\n",
       "      <th>stalk-surface-above-ring</th>\n",
       "      <th>stalk-surface-below-ring</th>\n",
       "      <th>stalk-color-above-ring</th>\n",
       "      <th>stalk-color-below-ring</th>\n",
       "      <th>veil-color</th>\n",
       "      <th>ring-number</th>\n",
       "      <th>ring-type</th>\n",
       "      <th>spore-print-color</th>\n",
       "      <th>population</th>\n",
       "      <th>habitat</th>\n",
       "    </tr>\n",
       "  </thead>\n",
       "  <tbody>\n",
       "    <tr>\n",
       "      <th>cap-shape</th>\n",
       "      <td>1.000000</td>\n",
       "      <td>-0.050454</td>\n",
       "      <td>-0.048203</td>\n",
       "      <td>-0.035374</td>\n",
       "      <td>-0.021935</td>\n",
       "      <td>0.078865</td>\n",
       "      <td>0.013196</td>\n",
       "      <td>0.054050</td>\n",
       "      <td>-0.006039</td>\n",
       "      <td>0.063794</td>\n",
       "      <td>...</td>\n",
       "      <td>-0.030417</td>\n",
       "      <td>-0.032591</td>\n",
       "      <td>-0.031659</td>\n",
       "      <td>-0.030390</td>\n",
       "      <td>0.072560</td>\n",
       "      <td>-0.106534</td>\n",
       "      <td>-0.025457</td>\n",
       "      <td>-0.073416</td>\n",
       "      <td>0.063413</td>\n",
       "      <td>-0.042221</td>\n",
       "    </tr>\n",
       "    <tr>\n",
       "      <th>cap-surface</th>\n",
       "      <td>-0.050454</td>\n",
       "      <td>1.000000</td>\n",
       "      <td>-0.019402</td>\n",
       "      <td>0.070228</td>\n",
       "      <td>0.045233</td>\n",
       "      <td>-0.034180</td>\n",
       "      <td>-0.282306</td>\n",
       "      <td>0.208100</td>\n",
       "      <td>-0.161017</td>\n",
       "      <td>-0.014123</td>\n",
       "      <td>...</td>\n",
       "      <td>0.089090</td>\n",
       "      <td>0.107965</td>\n",
       "      <td>0.066050</td>\n",
       "      <td>0.068885</td>\n",
       "      <td>-0.016603</td>\n",
       "      <td>-0.026147</td>\n",
       "      <td>-0.106407</td>\n",
       "      <td>0.230364</td>\n",
       "      <td>0.021555</td>\n",
       "      <td>0.163887</td>\n",
       "    </tr>\n",
       "    <tr>\n",
       "      <th>cap-color</th>\n",
       "      <td>-0.048203</td>\n",
       "      <td>-0.019402</td>\n",
       "      <td>1.000000</td>\n",
       "      <td>-0.000764</td>\n",
       "      <td>-0.387121</td>\n",
       "      <td>0.041436</td>\n",
       "      <td>0.144259</td>\n",
       "      <td>-0.169464</td>\n",
       "      <td>0.084659</td>\n",
       "      <td>-0.456496</td>\n",
       "      <td>...</td>\n",
       "      <td>-0.060837</td>\n",
       "      <td>-0.047710</td>\n",
       "      <td>0.002364</td>\n",
       "      <td>0.008057</td>\n",
       "      <td>0.036130</td>\n",
       "      <td>-0.005822</td>\n",
       "      <td>0.162513</td>\n",
       "      <td>-0.293523</td>\n",
       "      <td>-0.144770</td>\n",
       "      <td>0.033925</td>\n",
       "    </tr>\n",
       "    <tr>\n",
       "      <th>bruises</th>\n",
       "      <td>-0.035374</td>\n",
       "      <td>0.070228</td>\n",
       "      <td>-0.000764</td>\n",
       "      <td>1.000000</td>\n",
       "      <td>-0.061825</td>\n",
       "      <td>0.137359</td>\n",
       "      <td>-0.299473</td>\n",
       "      <td>-0.369596</td>\n",
       "      <td>0.527120</td>\n",
       "      <td>0.099364</td>\n",
       "      <td>...</td>\n",
       "      <td>0.460824</td>\n",
       "      <td>0.458983</td>\n",
       "      <td>0.083538</td>\n",
       "      <td>0.092874</td>\n",
       "      <td>0.119770</td>\n",
       "      <td>0.056788</td>\n",
       "      <td>0.692973</td>\n",
       "      <td>-0.285008</td>\n",
       "      <td>0.088137</td>\n",
       "      <td>-0.075095</td>\n",
       "    </tr>\n",
       "    <tr>\n",
       "      <th>odor</th>\n",
       "      <td>-0.021935</td>\n",
       "      <td>0.045233</td>\n",
       "      <td>-0.387121</td>\n",
       "      <td>-0.061825</td>\n",
       "      <td>1.000000</td>\n",
       "      <td>-0.059590</td>\n",
       "      <td>0.063936</td>\n",
       "      <td>0.310495</td>\n",
       "      <td>-0.129213</td>\n",
       "      <td>0.459766</td>\n",
       "      <td>...</td>\n",
       "      <td>0.118617</td>\n",
       "      <td>0.061820</td>\n",
       "      <td>0.174532</td>\n",
       "      <td>0.169407</td>\n",
       "      <td>-0.057747</td>\n",
       "      <td>0.111905</td>\n",
       "      <td>-0.281387</td>\n",
       "      <td>0.469055</td>\n",
       "      <td>-0.043623</td>\n",
       "      <td>-0.026610</td>\n",
       "    </tr>\n",
       "    <tr>\n",
       "      <th>gill-attachment</th>\n",
       "      <td>0.078865</td>\n",
       "      <td>-0.034180</td>\n",
       "      <td>0.041436</td>\n",
       "      <td>0.137359</td>\n",
       "      <td>-0.059590</td>\n",
       "      <td>1.000000</td>\n",
       "      <td>0.071489</td>\n",
       "      <td>0.108984</td>\n",
       "      <td>-0.128567</td>\n",
       "      <td>0.186485</td>\n",
       "      <td>...</td>\n",
       "      <td>-0.088916</td>\n",
       "      <td>-0.116177</td>\n",
       "      <td>0.099299</td>\n",
       "      <td>0.097160</td>\n",
       "      <td>0.897518</td>\n",
       "      <td>0.093236</td>\n",
       "      <td>-0.146689</td>\n",
       "      <td>-0.029524</td>\n",
       "      <td>0.165575</td>\n",
       "      <td>-0.030304</td>\n",
       "    </tr>\n",
       "    <tr>\n",
       "      <th>gill-spacing</th>\n",
       "      <td>0.013196</td>\n",
       "      <td>-0.282306</td>\n",
       "      <td>0.144259</td>\n",
       "      <td>-0.299473</td>\n",
       "      <td>0.063936</td>\n",
       "      <td>0.071489</td>\n",
       "      <td>1.000000</td>\n",
       "      <td>-0.108333</td>\n",
       "      <td>0.100193</td>\n",
       "      <td>0.080895</td>\n",
       "      <td>...</td>\n",
       "      <td>-0.212359</td>\n",
       "      <td>-0.213775</td>\n",
       "      <td>0.274574</td>\n",
       "      <td>0.253505</td>\n",
       "      <td>0.073363</td>\n",
       "      <td>0.243014</td>\n",
       "      <td>-0.195897</td>\n",
       "      <td>0.047323</td>\n",
       "      <td>-0.529253</td>\n",
       "      <td>-0.154680</td>\n",
       "    </tr>\n",
       "    <tr>\n",
       "      <th>gill-size</th>\n",
       "      <td>0.054050</td>\n",
       "      <td>0.208100</td>\n",
       "      <td>-0.169464</td>\n",
       "      <td>-0.369596</td>\n",
       "      <td>0.310495</td>\n",
       "      <td>0.108984</td>\n",
       "      <td>-0.108333</td>\n",
       "      <td>1.000000</td>\n",
       "      <td>-0.516736</td>\n",
       "      <td>0.214576</td>\n",
       "      <td>...</td>\n",
       "      <td>0.056310</td>\n",
       "      <td>0.010894</td>\n",
       "      <td>0.296548</td>\n",
       "      <td>0.278708</td>\n",
       "      <td>0.103809</td>\n",
       "      <td>-0.171362</td>\n",
       "      <td>-0.460872</td>\n",
       "      <td>0.622991</td>\n",
       "      <td>0.147682</td>\n",
       "      <td>0.161418</td>\n",
       "    </tr>\n",
       "    <tr>\n",
       "      <th>gill-color</th>\n",
       "      <td>-0.006039</td>\n",
       "      <td>-0.161017</td>\n",
       "      <td>0.084659</td>\n",
       "      <td>0.527120</td>\n",
       "      <td>-0.129213</td>\n",
       "      <td>-0.128567</td>\n",
       "      <td>0.100193</td>\n",
       "      <td>-0.516736</td>\n",
       "      <td>1.000000</td>\n",
       "      <td>-0.175699</td>\n",
       "      <td>...</td>\n",
       "      <td>0.224287</td>\n",
       "      <td>0.257224</td>\n",
       "      <td>-0.058299</td>\n",
       "      <td>-0.074781</td>\n",
       "      <td>-0.097583</td>\n",
       "      <td>0.096054</td>\n",
       "      <td>0.629398</td>\n",
       "      <td>-0.416135</td>\n",
       "      <td>-0.034090</td>\n",
       "      <td>-0.202972</td>\n",
       "    </tr>\n",
       "    <tr>\n",
       "      <th>stalk-shape</th>\n",
       "      <td>0.063794</td>\n",
       "      <td>-0.014123</td>\n",
       "      <td>-0.456496</td>\n",
       "      <td>0.099364</td>\n",
       "      <td>0.459766</td>\n",
       "      <td>0.186485</td>\n",
       "      <td>0.080895</td>\n",
       "      <td>0.214576</td>\n",
       "      <td>-0.175699</td>\n",
       "      <td>1.000000</td>\n",
       "      <td>...</td>\n",
       "      <td>0.015193</td>\n",
       "      <td>-0.034399</td>\n",
       "      <td>0.223439</td>\n",
       "      <td>0.235794</td>\n",
       "      <td>0.162604</td>\n",
       "      <td>-0.293221</td>\n",
       "      <td>-0.291444</td>\n",
       "      <td>0.258831</td>\n",
       "      <td>0.087383</td>\n",
       "      <td>-0.269216</td>\n",
       "    </tr>\n",
       "    <tr>\n",
       "      <th>stalk-root</th>\n",
       "      <td>0.030191</td>\n",
       "      <td>-0.126245</td>\n",
       "      <td>0.321274</td>\n",
       "      <td>0.244188</td>\n",
       "      <td>-0.205215</td>\n",
       "      <td>0.144063</td>\n",
       "      <td>0.350548</td>\n",
       "      <td>-0.344345</td>\n",
       "      <td>0.315080</td>\n",
       "      <td>-0.163422</td>\n",
       "      <td>...</td>\n",
       "      <td>-0.027065</td>\n",
       "      <td>0.087454</td>\n",
       "      <td>0.157140</td>\n",
       "      <td>0.159805</td>\n",
       "      <td>0.156213</td>\n",
       "      <td>-0.247357</td>\n",
       "      <td>0.210155</td>\n",
       "      <td>-0.536996</td>\n",
       "      <td>-0.306747</td>\n",
       "      <td>-0.007668</td>\n",
       "    </tr>\n",
       "    <tr>\n",
       "      <th>stalk-surface-above-ring</th>\n",
       "      <td>-0.030417</td>\n",
       "      <td>0.089090</td>\n",
       "      <td>-0.060837</td>\n",
       "      <td>0.460824</td>\n",
       "      <td>0.118617</td>\n",
       "      <td>-0.088916</td>\n",
       "      <td>-0.212359</td>\n",
       "      <td>0.056310</td>\n",
       "      <td>0.224287</td>\n",
       "      <td>0.015193</td>\n",
       "      <td>...</td>\n",
       "      <td>1.000000</td>\n",
       "      <td>0.437164</td>\n",
       "      <td>0.132708</td>\n",
       "      <td>0.142835</td>\n",
       "      <td>-0.090591</td>\n",
       "      <td>0.107904</td>\n",
       "      <td>0.390091</td>\n",
       "      <td>0.100764</td>\n",
       "      <td>0.079604</td>\n",
       "      <td>-0.058076</td>\n",
       "    </tr>\n",
       "    <tr>\n",
       "      <th>stalk-surface-below-ring</th>\n",
       "      <td>-0.032591</td>\n",
       "      <td>0.107965</td>\n",
       "      <td>-0.047710</td>\n",
       "      <td>0.458983</td>\n",
       "      <td>0.061820</td>\n",
       "      <td>-0.116177</td>\n",
       "      <td>-0.213775</td>\n",
       "      <td>0.010894</td>\n",
       "      <td>0.257224</td>\n",
       "      <td>-0.034399</td>\n",
       "      <td>...</td>\n",
       "      <td>0.437164</td>\n",
       "      <td>1.000000</td>\n",
       "      <td>0.106933</td>\n",
       "      <td>0.110656</td>\n",
       "      <td>-0.077284</td>\n",
       "      <td>0.040006</td>\n",
       "      <td>0.394644</td>\n",
       "      <td>0.130974</td>\n",
       "      <td>0.046797</td>\n",
       "      <td>-0.039628</td>\n",
       "    </tr>\n",
       "    <tr>\n",
       "      <th>stalk-color-above-ring</th>\n",
       "      <td>-0.031659</td>\n",
       "      <td>0.066050</td>\n",
       "      <td>0.002364</td>\n",
       "      <td>0.083538</td>\n",
       "      <td>0.174532</td>\n",
       "      <td>0.099299</td>\n",
       "      <td>0.274574</td>\n",
       "      <td>0.296548</td>\n",
       "      <td>-0.058299</td>\n",
       "      <td>0.223439</td>\n",
       "      <td>...</td>\n",
       "      <td>0.132708</td>\n",
       "      <td>0.106933</td>\n",
       "      <td>1.000000</td>\n",
       "      <td>0.491510</td>\n",
       "      <td>0.067377</td>\n",
       "      <td>0.084917</td>\n",
       "      <td>-0.048878</td>\n",
       "      <td>0.271533</td>\n",
       "      <td>-0.240261</td>\n",
       "      <td>0.042561</td>\n",
       "    </tr>\n",
       "    <tr>\n",
       "      <th>stalk-color-below-ring</th>\n",
       "      <td>-0.030390</td>\n",
       "      <td>0.068885</td>\n",
       "      <td>0.008057</td>\n",
       "      <td>0.092874</td>\n",
       "      <td>0.169407</td>\n",
       "      <td>0.097160</td>\n",
       "      <td>0.253505</td>\n",
       "      <td>0.278708</td>\n",
       "      <td>-0.074781</td>\n",
       "      <td>0.235794</td>\n",
       "      <td>...</td>\n",
       "      <td>0.142835</td>\n",
       "      <td>0.110656</td>\n",
       "      <td>0.491510</td>\n",
       "      <td>1.000000</td>\n",
       "      <td>0.065567</td>\n",
       "      <td>0.087580</td>\n",
       "      <td>-0.034284</td>\n",
       "      <td>0.254518</td>\n",
       "      <td>-0.242792</td>\n",
       "      <td>0.041594</td>\n",
       "    </tr>\n",
       "    <tr>\n",
       "      <th>veil-color</th>\n",
       "      <td>0.072560</td>\n",
       "      <td>-0.016603</td>\n",
       "      <td>0.036130</td>\n",
       "      <td>0.119770</td>\n",
       "      <td>-0.057747</td>\n",
       "      <td>0.897518</td>\n",
       "      <td>0.073363</td>\n",
       "      <td>0.103809</td>\n",
       "      <td>-0.097583</td>\n",
       "      <td>0.162604</td>\n",
       "      <td>...</td>\n",
       "      <td>-0.090591</td>\n",
       "      <td>-0.077284</td>\n",
       "      <td>0.067377</td>\n",
       "      <td>0.065567</td>\n",
       "      <td>1.000000</td>\n",
       "      <td>0.036380</td>\n",
       "      <td>-0.143673</td>\n",
       "      <td>-0.003600</td>\n",
       "      <td>0.124924</td>\n",
       "      <td>-0.040581</td>\n",
       "    </tr>\n",
       "    <tr>\n",
       "      <th>ring-number</th>\n",
       "      <td>-0.106534</td>\n",
       "      <td>-0.026147</td>\n",
       "      <td>-0.005822</td>\n",
       "      <td>0.056788</td>\n",
       "      <td>0.111905</td>\n",
       "      <td>0.093236</td>\n",
       "      <td>0.243014</td>\n",
       "      <td>-0.171362</td>\n",
       "      <td>0.096054</td>\n",
       "      <td>-0.293221</td>\n",
       "      <td>...</td>\n",
       "      <td>0.107904</td>\n",
       "      <td>0.040006</td>\n",
       "      <td>0.084917</td>\n",
       "      <td>0.087580</td>\n",
       "      <td>0.036380</td>\n",
       "      <td>1.000000</td>\n",
       "      <td>0.058312</td>\n",
       "      <td>0.338417</td>\n",
       "      <td>-0.242020</td>\n",
       "      <td>0.235835</td>\n",
       "    </tr>\n",
       "    <tr>\n",
       "      <th>ring-type</th>\n",
       "      <td>-0.025457</td>\n",
       "      <td>-0.106407</td>\n",
       "      <td>0.162513</td>\n",
       "      <td>0.692973</td>\n",
       "      <td>-0.281387</td>\n",
       "      <td>-0.146689</td>\n",
       "      <td>-0.195897</td>\n",
       "      <td>-0.460872</td>\n",
       "      <td>0.629398</td>\n",
       "      <td>-0.291444</td>\n",
       "      <td>...</td>\n",
       "      <td>0.390091</td>\n",
       "      <td>0.394644</td>\n",
       "      <td>-0.048878</td>\n",
       "      <td>-0.034284</td>\n",
       "      <td>-0.143673</td>\n",
       "      <td>0.058312</td>\n",
       "      <td>1.000000</td>\n",
       "      <td>-0.487048</td>\n",
       "      <td>0.211763</td>\n",
       "      <td>-0.212080</td>\n",
       "    </tr>\n",
       "    <tr>\n",
       "      <th>spore-print-color</th>\n",
       "      <td>-0.073416</td>\n",
       "      <td>0.230364</td>\n",
       "      <td>-0.293523</td>\n",
       "      <td>-0.285008</td>\n",
       "      <td>0.469055</td>\n",
       "      <td>-0.029524</td>\n",
       "      <td>0.047323</td>\n",
       "      <td>0.622991</td>\n",
       "      <td>-0.416135</td>\n",
       "      <td>0.258831</td>\n",
       "      <td>...</td>\n",
       "      <td>0.100764</td>\n",
       "      <td>0.130974</td>\n",
       "      <td>0.271533</td>\n",
       "      <td>0.254518</td>\n",
       "      <td>-0.003600</td>\n",
       "      <td>0.338417</td>\n",
       "      <td>-0.487048</td>\n",
       "      <td>1.000000</td>\n",
       "      <td>-0.126859</td>\n",
       "      <td>0.185954</td>\n",
       "    </tr>\n",
       "    <tr>\n",
       "      <th>population</th>\n",
       "      <td>0.063413</td>\n",
       "      <td>0.021555</td>\n",
       "      <td>-0.144770</td>\n",
       "      <td>0.088137</td>\n",
       "      <td>-0.043623</td>\n",
       "      <td>0.165575</td>\n",
       "      <td>-0.529253</td>\n",
       "      <td>0.147682</td>\n",
       "      <td>-0.034090</td>\n",
       "      <td>0.087383</td>\n",
       "      <td>...</td>\n",
       "      <td>0.079604</td>\n",
       "      <td>0.046797</td>\n",
       "      <td>-0.240261</td>\n",
       "      <td>-0.242792</td>\n",
       "      <td>0.124924</td>\n",
       "      <td>-0.242020</td>\n",
       "      <td>0.211763</td>\n",
       "      <td>-0.126859</td>\n",
       "      <td>1.000000</td>\n",
       "      <td>-0.174529</td>\n",
       "    </tr>\n",
       "    <tr>\n",
       "      <th>habitat</th>\n",
       "      <td>-0.042221</td>\n",
       "      <td>0.163887</td>\n",
       "      <td>0.033925</td>\n",
       "      <td>-0.075095</td>\n",
       "      <td>-0.026610</td>\n",
       "      <td>-0.030304</td>\n",
       "      <td>-0.154680</td>\n",
       "      <td>0.161418</td>\n",
       "      <td>-0.202972</td>\n",
       "      <td>-0.269216</td>\n",
       "      <td>...</td>\n",
       "      <td>-0.058076</td>\n",
       "      <td>-0.039628</td>\n",
       "      <td>0.042561</td>\n",
       "      <td>0.041594</td>\n",
       "      <td>-0.040581</td>\n",
       "      <td>0.235835</td>\n",
       "      <td>-0.212080</td>\n",
       "      <td>0.185954</td>\n",
       "      <td>-0.174529</td>\n",
       "      <td>1.000000</td>\n",
       "    </tr>\n",
       "  </tbody>\n",
       "</table>\n",
       "<p>21 rows × 21 columns</p>\n",
       "</div>"
      ],
      "text/plain": [
       "                          cap-shape  cap-surface  cap-color   bruises  \\\n",
       "cap-shape                  1.000000    -0.050454  -0.048203 -0.035374   \n",
       "cap-surface               -0.050454     1.000000  -0.019402  0.070228   \n",
       "cap-color                 -0.048203    -0.019402   1.000000 -0.000764   \n",
       "bruises                   -0.035374     0.070228  -0.000764  1.000000   \n",
       "odor                      -0.021935     0.045233  -0.387121 -0.061825   \n",
       "gill-attachment            0.078865    -0.034180   0.041436  0.137359   \n",
       "gill-spacing               0.013196    -0.282306   0.144259 -0.299473   \n",
       "gill-size                  0.054050     0.208100  -0.169464 -0.369596   \n",
       "gill-color                -0.006039    -0.161017   0.084659  0.527120   \n",
       "stalk-shape                0.063794    -0.014123  -0.456496  0.099364   \n",
       "stalk-root                 0.030191    -0.126245   0.321274  0.244188   \n",
       "stalk-surface-above-ring  -0.030417     0.089090  -0.060837  0.460824   \n",
       "stalk-surface-below-ring  -0.032591     0.107965  -0.047710  0.458983   \n",
       "stalk-color-above-ring    -0.031659     0.066050   0.002364  0.083538   \n",
       "stalk-color-below-ring    -0.030390     0.068885   0.008057  0.092874   \n",
       "veil-color                 0.072560    -0.016603   0.036130  0.119770   \n",
       "ring-number               -0.106534    -0.026147  -0.005822  0.056788   \n",
       "ring-type                 -0.025457    -0.106407   0.162513  0.692973   \n",
       "spore-print-color         -0.073416     0.230364  -0.293523 -0.285008   \n",
       "population                 0.063413     0.021555  -0.144770  0.088137   \n",
       "habitat                   -0.042221     0.163887   0.033925 -0.075095   \n",
       "\n",
       "                              odor  gill-attachment  gill-spacing  gill-size  \\\n",
       "cap-shape                -0.021935         0.078865      0.013196   0.054050   \n",
       "cap-surface               0.045233        -0.034180     -0.282306   0.208100   \n",
       "cap-color                -0.387121         0.041436      0.144259  -0.169464   \n",
       "bruises                  -0.061825         0.137359     -0.299473  -0.369596   \n",
       "odor                      1.000000        -0.059590      0.063936   0.310495   \n",
       "gill-attachment          -0.059590         1.000000      0.071489   0.108984   \n",
       "gill-spacing              0.063936         0.071489      1.000000  -0.108333   \n",
       "gill-size                 0.310495         0.108984     -0.108333   1.000000   \n",
       "gill-color               -0.129213        -0.128567      0.100193  -0.516736   \n",
       "stalk-shape               0.459766         0.186485      0.080895   0.214576   \n",
       "stalk-root               -0.205215         0.144063      0.350548  -0.344345   \n",
       "stalk-surface-above-ring  0.118617        -0.088916     -0.212359   0.056310   \n",
       "stalk-surface-below-ring  0.061820        -0.116177     -0.213775   0.010894   \n",
       "stalk-color-above-ring    0.174532         0.099299      0.274574   0.296548   \n",
       "stalk-color-below-ring    0.169407         0.097160      0.253505   0.278708   \n",
       "veil-color               -0.057747         0.897518      0.073363   0.103809   \n",
       "ring-number               0.111905         0.093236      0.243014  -0.171362   \n",
       "ring-type                -0.281387        -0.146689     -0.195897  -0.460872   \n",
       "spore-print-color         0.469055        -0.029524      0.047323   0.622991   \n",
       "population               -0.043623         0.165575     -0.529253   0.147682   \n",
       "habitat                  -0.026610        -0.030304     -0.154680   0.161418   \n",
       "\n",
       "                          gill-color  stalk-shape  ...  \\\n",
       "cap-shape                  -0.006039     0.063794  ...   \n",
       "cap-surface                -0.161017    -0.014123  ...   \n",
       "cap-color                   0.084659    -0.456496  ...   \n",
       "bruises                     0.527120     0.099364  ...   \n",
       "odor                       -0.129213     0.459766  ...   \n",
       "gill-attachment            -0.128567     0.186485  ...   \n",
       "gill-spacing                0.100193     0.080895  ...   \n",
       "gill-size                  -0.516736     0.214576  ...   \n",
       "gill-color                  1.000000    -0.175699  ...   \n",
       "stalk-shape                -0.175699     1.000000  ...   \n",
       "stalk-root                  0.315080    -0.163422  ...   \n",
       "stalk-surface-above-ring    0.224287     0.015193  ...   \n",
       "stalk-surface-below-ring    0.257224    -0.034399  ...   \n",
       "stalk-color-above-ring     -0.058299     0.223439  ...   \n",
       "stalk-color-below-ring     -0.074781     0.235794  ...   \n",
       "veil-color                 -0.097583     0.162604  ...   \n",
       "ring-number                 0.096054    -0.293221  ...   \n",
       "ring-type                   0.629398    -0.291444  ...   \n",
       "spore-print-color          -0.416135     0.258831  ...   \n",
       "population                 -0.034090     0.087383  ...   \n",
       "habitat                    -0.202972    -0.269216  ...   \n",
       "\n",
       "                          stalk-surface-above-ring  stalk-surface-below-ring  \\\n",
       "cap-shape                                -0.030417                 -0.032591   \n",
       "cap-surface                               0.089090                  0.107965   \n",
       "cap-color                                -0.060837                 -0.047710   \n",
       "bruises                                   0.460824                  0.458983   \n",
       "odor                                      0.118617                  0.061820   \n",
       "gill-attachment                          -0.088916                 -0.116177   \n",
       "gill-spacing                             -0.212359                 -0.213775   \n",
       "gill-size                                 0.056310                  0.010894   \n",
       "gill-color                                0.224287                  0.257224   \n",
       "stalk-shape                               0.015193                 -0.034399   \n",
       "stalk-root                               -0.027065                  0.087454   \n",
       "stalk-surface-above-ring                  1.000000                  0.437164   \n",
       "stalk-surface-below-ring                  0.437164                  1.000000   \n",
       "stalk-color-above-ring                    0.132708                  0.106933   \n",
       "stalk-color-below-ring                    0.142835                  0.110656   \n",
       "veil-color                               -0.090591                 -0.077284   \n",
       "ring-number                               0.107904                  0.040006   \n",
       "ring-type                                 0.390091                  0.394644   \n",
       "spore-print-color                         0.100764                  0.130974   \n",
       "population                                0.079604                  0.046797   \n",
       "habitat                                  -0.058076                 -0.039628   \n",
       "\n",
       "                          stalk-color-above-ring  stalk-color-below-ring  \\\n",
       "cap-shape                              -0.031659               -0.030390   \n",
       "cap-surface                             0.066050                0.068885   \n",
       "cap-color                               0.002364                0.008057   \n",
       "bruises                                 0.083538                0.092874   \n",
       "odor                                    0.174532                0.169407   \n",
       "gill-attachment                         0.099299                0.097160   \n",
       "gill-spacing                            0.274574                0.253505   \n",
       "gill-size                               0.296548                0.278708   \n",
       "gill-color                             -0.058299               -0.074781   \n",
       "stalk-shape                             0.223439                0.235794   \n",
       "stalk-root                              0.157140                0.159805   \n",
       "stalk-surface-above-ring                0.132708                0.142835   \n",
       "stalk-surface-below-ring                0.106933                0.110656   \n",
       "stalk-color-above-ring                  1.000000                0.491510   \n",
       "stalk-color-below-ring                  0.491510                1.000000   \n",
       "veil-color                              0.067377                0.065567   \n",
       "ring-number                             0.084917                0.087580   \n",
       "ring-type                              -0.048878               -0.034284   \n",
       "spore-print-color                       0.271533                0.254518   \n",
       "population                             -0.240261               -0.242792   \n",
       "habitat                                 0.042561                0.041594   \n",
       "\n",
       "                          veil-color  ring-number  ring-type  \\\n",
       "cap-shape                   0.072560    -0.106534  -0.025457   \n",
       "cap-surface                -0.016603    -0.026147  -0.106407   \n",
       "cap-color                   0.036130    -0.005822   0.162513   \n",
       "bruises                     0.119770     0.056788   0.692973   \n",
       "odor                       -0.057747     0.111905  -0.281387   \n",
       "gill-attachment             0.897518     0.093236  -0.146689   \n",
       "gill-spacing                0.073363     0.243014  -0.195897   \n",
       "gill-size                   0.103809    -0.171362  -0.460872   \n",
       "gill-color                 -0.097583     0.096054   0.629398   \n",
       "stalk-shape                 0.162604    -0.293221  -0.291444   \n",
       "stalk-root                  0.156213    -0.247357   0.210155   \n",
       "stalk-surface-above-ring   -0.090591     0.107904   0.390091   \n",
       "stalk-surface-below-ring   -0.077284     0.040006   0.394644   \n",
       "stalk-color-above-ring      0.067377     0.084917  -0.048878   \n",
       "stalk-color-below-ring      0.065567     0.087580  -0.034284   \n",
       "veil-color                  1.000000     0.036380  -0.143673   \n",
       "ring-number                 0.036380     1.000000   0.058312   \n",
       "ring-type                  -0.143673     0.058312   1.000000   \n",
       "spore-print-color          -0.003600     0.338417  -0.487048   \n",
       "population                  0.124924    -0.242020   0.211763   \n",
       "habitat                    -0.040581     0.235835  -0.212080   \n",
       "\n",
       "                          spore-print-color  population   habitat  \n",
       "cap-shape                         -0.073416    0.063413 -0.042221  \n",
       "cap-surface                        0.230364    0.021555  0.163887  \n",
       "cap-color                         -0.293523   -0.144770  0.033925  \n",
       "bruises                           -0.285008    0.088137 -0.075095  \n",
       "odor                               0.469055   -0.043623 -0.026610  \n",
       "gill-attachment                   -0.029524    0.165575 -0.030304  \n",
       "gill-spacing                       0.047323   -0.529253 -0.154680  \n",
       "gill-size                          0.622991    0.147682  0.161418  \n",
       "gill-color                        -0.416135   -0.034090 -0.202972  \n",
       "stalk-shape                        0.258831    0.087383 -0.269216  \n",
       "stalk-root                        -0.536996   -0.306747 -0.007668  \n",
       "stalk-surface-above-ring           0.100764    0.079604 -0.058076  \n",
       "stalk-surface-below-ring           0.130974    0.046797 -0.039628  \n",
       "stalk-color-above-ring             0.271533   -0.240261  0.042561  \n",
       "stalk-color-below-ring             0.254518   -0.242792  0.041594  \n",
       "veil-color                        -0.003600    0.124924 -0.040581  \n",
       "ring-number                        0.338417   -0.242020  0.235835  \n",
       "ring-type                         -0.487048    0.211763 -0.212080  \n",
       "spore-print-color                  1.000000   -0.126859  0.185954  \n",
       "population                        -0.126859    1.000000 -0.174529  \n",
       "habitat                            0.185954   -0.174529  1.000000  \n",
       "\n",
       "[21 rows x 21 columns]"
      ]
     },
     "execution_count": 369,
     "metadata": {},
     "output_type": "execute_result"
    }
   ],
   "source": [
    "le_df.corr()"
   ]
  },
  {
   "cell_type": "code",
   "execution_count": 363,
   "metadata": {
    "scrolled": true
   },
   "outputs": [
    {
     "data": {
      "image/png": "[encoded data removed]",
      "text/plain": [
       "<Figure size 1440x1440 with 2 Axes>"
      ]
     },
     "metadata": {
      "needs_background": "light"
     },
     "output_type": "display_data"
    }
   ],
   "source": [
    "#heat map to assess correlation/collinearity\n",
    "fig, ax = plt.subplots(figsize=(20, 20))\n",
    "\n",
    "    \n",
    "sns.heatmap(le_df.corr(), annot = True,  fmt='.2g', vmin=-1, vmax=1, center= 0, \n",
    "            cmap= 'coolwarm', linewidths=1, linecolor='black')\n",
    "ax.set_title('Mushroom Classification Heatmap')\n",
    "plt.show() "
   ]
  },
  {
   "cell_type": "markdown",
   "metadata": {},
   "source": [
    "## define target variable, 1=poisonous, 0=edible"
   ]
  },
  {
   "cell_type": "code",
   "execution_count": 315,
   "metadata": {},
   "outputs": [],
   "source": [
    "y = le_df['class']"
   ]
  },
  {
   "cell_type": "markdown",
   "metadata": {},
   "source": [
    "## define feature variables"
   ]
  },
  {
   "cell_type": "code",
   "execution_count": 316,
   "metadata": {},
   "outputs": [],
   "source": [
    "le_df.drop(columns=['class'], inplace=True)"
   ]
  },
  {
   "cell_type": "markdown",
   "metadata": {},
   "source": [
    "## one hot encode X categorical variables"
   ]
  },
  {
   "cell_type": "code",
   "execution_count": 179,
   "metadata": {},
   "outputs": [],
   "source": [
    "ohe = OneHotEncoder(drop='first', sparse=False) "
   ]
  },
  {
   "cell_type": "code",
   "execution_count": 180,
   "metadata": {},
   "outputs": [
    {
     "data": {
      "text/plain": [
       "[array([0, 1, 2, 3, 4, 5]),\n",
       " array([0, 1, 2, 3]),\n",
       " array([0, 1, 2, 3, 4, 5, 6, 7, 8, 9]),\n",
       " array([0, 1]),\n",
       " array([0, 1, 2, 3, 4, 5, 6, 7, 8]),\n",
       " array([0, 1]),\n",
       " array([0, 1]),\n",
       " array([0, 1]),\n",
       " array([ 0,  1,  2,  3,  4,  5,  6,  7,  8,  9, 10, 11]),\n",
       " array([0, 1]),\n",
       " array([0, 1, 2, 3, 4]),\n",
       " array([0, 1, 2, 3]),\n",
       " array([0, 1, 2, 3]),\n",
       " array([0, 1, 2, 3, 4, 5, 6, 7, 8]),\n",
       " array([0, 1, 2, 3, 4, 5, 6, 7, 8]),\n",
       " array([0, 1, 2, 3]),\n",
       " array([0, 1, 2]),\n",
       " array([0, 1, 2, 3, 4]),\n",
       " array([0, 1, 2, 3, 4, 5, 6, 7, 8]),\n",
       " array([0, 1, 2, 3, 4, 5]),\n",
       " array([0, 1, 2, 3, 4, 5, 6])]"
      ]
     },
     "execution_count": 180,
     "metadata": {},
     "output_type": "execute_result"
    }
   ],
   "source": [
    "ohe.fit(le_df)\n",
    "ohe.categories_"
   ]
  },
  {
   "cell_type": "code",
   "execution_count": 181,
   "metadata": {},
   "outputs": [],
   "source": [
    "X = ohe.transform(le_df)"
   ]
  },
  {
   "cell_type": "code",
   "execution_count": 370,
   "metadata": {},
   "outputs": [
    {
     "data": {
      "text/plain": [
       "(8124, 95)"
      ]
     },
     "execution_count": 370,
     "metadata": {},
     "output_type": "execute_result"
    }
   ],
   "source": [
    "X.shape"
   ]
  },
  {
   "cell_type": "code",
   "execution_count": 371,
   "metadata": {},
   "outputs": [
    {
     "data": {
      "text/plain": [
       "(8124, 21)"
      ]
     },
     "execution_count": 371,
     "metadata": {},
     "output_type": "execute_result"
    }
   ],
   "source": [
    "le_df.shape"
   ]
  },
  {
   "cell_type": "code",
   "execution_count": 183,
   "metadata": {},
   "outputs": [
    {
     "data": {
      "text/plain": [
       "(8124,)"
      ]
     },
     "execution_count": 183,
     "metadata": {},
     "output_type": "execute_result"
    }
   ],
   "source": [
    "target.shape"
   ]
  },
  {
   "cell_type": "code",
   "execution_count": 381,
   "metadata": {},
   "outputs": [],
   "source": [
    "X_ohe = pd.DataFrame(X)"
   ]
  },
  {
   "cell_type": "code",
   "execution_count": 186,
   "metadata": {},
   "outputs": [
    {
     "data": {
      "text/plain": [
       "[array([0, 1, 2, 3, 4, 5]),\n",
       " array([0, 1, 2, 3]),\n",
       " array([0, 1, 2, 3, 4, 5, 6, 7, 8, 9]),\n",
       " array([0, 1]),\n",
       " array([0, 1, 2, 3, 4, 5, 6, 7, 8]),\n",
       " array([0, 1]),\n",
       " array([0, 1]),\n",
       " array([0, 1]),\n",
       " array([ 0,  1,  2,  3,  4,  5,  6,  7,  8,  9, 10, 11]),\n",
       " array([0, 1]),\n",
       " array([0, 1, 2, 3, 4]),\n",
       " array([0, 1, 2, 3]),\n",
       " array([0, 1, 2, 3]),\n",
       " array([0, 1, 2, 3, 4, 5, 6, 7, 8]),\n",
       " array([0, 1, 2, 3, 4, 5, 6, 7, 8]),\n",
       " array([0, 1, 2, 3]),\n",
       " array([0, 1, 2]),\n",
       " array([0, 1, 2, 3, 4]),\n",
       " array([0, 1, 2, 3, 4, 5, 6, 7, 8]),\n",
       " array([0, 1, 2, 3, 4, 5]),\n",
       " array([0, 1, 2, 3, 4, 5, 6])]"
      ]
     },
     "execution_count": 186,
     "metadata": {},
     "output_type": "execute_result"
    }
   ],
   "source": [
    "ohe.categories_"
   ]
  },
  {
   "cell_type": "markdown",
   "metadata": {},
   "source": [
    "## feature selection using correlation\n"
   ]
  },
  {
   "cell_type": "code",
   "execution_count": 322,
   "metadata": {},
   "outputs": [],
   "source": [
    "def cor_selector(X, y ,num_feats):\n",
    "    cor_list = []\n",
    "    feature_name = X.columns.tolist()\n",
    "    # calculate the correlation with y for each feature\n",
    "    for i in X.columns.tolist():\n",
    "        cor = np.corrcoef(X[i], y)[0, 1]\n",
    "        cor_list.append(cor)\n",
    "    # replace NaN with 0\n",
    "    cor_list = [0 if np.isnan(i) else i for i in cor_list]\n",
    "    # feature name\n",
    "    cor_feature = X.iloc[:,np.argsort(np.abs(cor_list))[-num_feats:]].columns.tolist()\n",
    "    # feature selection? 0 for not select, 1 for select\n",
    "    cor_support = [True if i in cor_feature else False for i in feature_name]\n",
    "    return cor_support, cor_feature\n",
    "    cor_support, cor_feature = cor_selector(X, y, num_feats)\n",
    "    print(str(len(cor_feature)), 'selected features')"
   ]
  },
  {
   "cell_type": "code",
   "execution_count": 378,
   "metadata": {},
   "outputs": [
    {
     "data": {
      "text/plain": [
       "([False,\n",
       "  False,\n",
       "  False,\n",
       "  True,\n",
       "  False,\n",
       "  False,\n",
       "  False,\n",
       "  True,\n",
       "  True,\n",
       "  False,\n",
       "  True,\n",
       "  False,\n",
       "  False,\n",
       "  False,\n",
       "  False,\n",
       "  False,\n",
       "  False,\n",
       "  True,\n",
       "  False,\n",
       "  False,\n",
       "  False],\n",
       " ['stalk-root', 'ring-type', 'bruises', 'gill-color', 'gill-size'])"
      ]
     },
     "execution_count": 378,
     "metadata": {},
     "output_type": "execute_result"
    }
   ],
   "source": [
    "cor_selector(le_df, y, 5)"
   ]
  },
  {
   "cell_type": "code",
   "execution_count": 379,
   "metadata": {},
   "outputs": [],
   "source": [
    "X_cf = le_df.filter(['stalk-root', 'ring-type', 'bruises', 'gill-color', 'gill-size'], axis=1) "
   ]
  },
  {
   "cell_type": "code",
   "execution_count": 409,
   "metadata": {},
   "outputs": [],
   "source": [
    "XC_ohe = ohe.fit_transform(X_cf)"
   ]
  },
  {
   "cell_type": "code",
   "execution_count": 420,
   "metadata": {},
   "outputs": [],
   "source": [
    "from sklearn import preprocessing\n",
    "from sklearn.feature_selection import RFE\n",
    "\n",
    "from sklearn.feature_selection import SelectKBest\n",
    "from sklearn.feature_selection import f_classif\n",
    "from sklearn.metrics import confusion_matrix\n",
    "from sklearn.decomposition import PCA\n",
    "from sklearn.metrics import accuracy_score\n",
    "from sklearn.metrics import precision_score\n",
    "from sklearn.metrics import recall_score\n",
    "from sklearn.metrics import f1_score\n",
    "from sklearn.metrics import roc_auc_score\n",
    "\n",
    "from sklearn.model_selection import train_test_split, KFold\n",
    "from sklearn.preprocessing import MinMaxScaler\n",
    "\n",
    "from sklearn.metrics import silhouette_score, adjusted_rand_score\n",
    "from sklearn.cluster import KMeans\n",
    "from sklearn.model_selection import GridSearchCV, cross_val_score\n",
    "from sklearn.metrics import roc_curve, auc, make_scorer\n",
    "from sklearn.preprocessing import StandardScaler\n",
    "from sklearn.pipeline import Pipeline"
   ]
  },
  {
   "cell_type": "code",
   "execution_count": 421,
   "metadata": {},
   "outputs": [],
   "source": [
    "from sklearn.tree import DecisionTreeClassifier\n",
    "from sklearn.ensemble import RandomForestClassifier, AdaBoostClassifier, GradientBoostingClassifier\n",
    "from sklearn.compose import ColumnTransformer\n",
    "from sklearn.linear_model import SGDClassifier\n",
    "from sklearn.metrics import confusion_matrix, classification_report\n",
    "from sklearn.neighbors import KNeighborsClassifier\n",
    "from sklearn import svm\n",
    "from sklearn.svm import SVC\n",
    "\n",
    "from sklearn.metrics import log_loss\n"
   ]
  },
  {
   "cell_type": "code",
   "execution_count": 444,
   "metadata": {},
   "outputs": [],
   "source": [
    "\n",
    "def cv_score(model, x_train, y_train, y_test):\n",
    "    #CV scores, 3 fold CV\n",
    "    scores = cross_val_score(model, x_train, y_train, cv=3)\n",
    "    #Prediction and accuracy\n",
    "    accuracy_test = accuracy_score(y_test, y_pred)\n",
    "    #Print the summary\n",
    "    print(\"Accuracy: %0.2f (+/- %0.2f)\" % (scores.mean(), scores.std() * 2))\n",
    "    print (\"Test Accuracy: %0.2f\" % (accuracy_test))\n",
    "    \n",
    "\n",
    "#display confusion matrix \n",
    "def confusion(y_test, y_pred):\n",
    "    cm = confusion_matrix(y_test, y_pred)\n",
    "    print(cm)\n",
    "    \n",
    "#Visualize the confusion matrix\n",
    "def vis_cm(model, X, y):\n",
    "    score = model.score(X, y)\n",
    "    y_pred = model.predict(X, y)\n",
    "    confusion = confusion_matrix(y, y_pred)\n",
    "    group_names = ['True Neg','False Pos','False Neg','True Pos']\n",
    "    group_counts = ['{0:0.0f}'.format(value) for value in\n",
    "                    confusion]\n",
    "    group_percentages = ['{0:.2%}'.format(value) for value in\n",
    "                     confusion/np.sum(confusion)]\n",
    "    labels = [f'{v1}\\n{v2}\\n{v3}' for v1, v2, v3 in\n",
    "          zip(group_names,group_counts,group_percentages)]\n",
    "    labels = np.asarray(labels).reshape(2,2)\n",
    "    sns.heatmap(confusion, annot=labels, fmt='', cmap='Blues')\n",
    "    matrix_title = \"Test Accuracy: %0.2f for {model}\" % (score)"
   ]
  },
  {
   "cell_type": "markdown",
   "metadata": {},
   "source": [
    "# prep data for model"
   ]
  },
  {
   "cell_type": "code",
   "execution_count": 382,
   "metadata": {},
   "outputs": [],
   "source": [
    "# split ohe data\n",
    "X_train, X_test, y_train, y_test = train_test_split(X_ohe, y, random_state=42,\n",
    "                                                     test_size=.2)"
   ]
  },
  {
   "cell_type": "code",
   "execution_count": 453,
   "metadata": {},
   "outputs": [],
   "source": [
    "# split label encoded data\n",
    "X_train2, X_test2, y_train2, y_test2 = train_test_split(X_vf, y, random_state=42,\n",
    "                                                     test_size=.2)"
   ]
  },
  {
   "cell_type": "code",
   "execution_count": 410,
   "metadata": {},
   "outputs": [],
   "source": [
    "X_train3, X_test3, y_train3, y_test3 = train_test_split(XC_ohe, y, random_state=42,\n",
    "                                                     test_size=.2)"
   ]
  },
  {
   "cell_type": "code",
   "execution_count": 485,
   "metadata": {},
   "outputs": [],
   "source": [
    "X_train4, X_test4, y_train4, y_test4 = train_test_split(X_vf_ohe, y, random_state=42,\n",
    "                                                     test_size=.2)"
   ]
  },
  {
   "cell_type": "code",
   "execution_count": 454,
   "metadata": {},
   "outputs": [],
   "source": [
    "# normalize feature data for label encoded data\n",
    "ss = StandardScaler()\n",
    "X_ts = ss.fit_transform(X_train2)\n",
    "X_tests = ss.transform(X_test2)"
   ]
  },
  {
   "cell_type": "code",
   "execution_count": 480,
   "metadata": {},
   "outputs": [],
   "source": [
    "kf = KFold(n_splits=3, shuffle=True)"
   ]
  },
  {
   "cell_type": "code",
   "execution_count": 521,
   "metadata": {},
   "outputs": [],
   "source": [
    "# classification models used to fit data\n",
    "models = {\n",
    "    'clf_randforest': RandomForestClassifier(),\n",
    "    'clf_knn': KNeighborsClassifier(),\n",
    "    'clf_sgdc': SGDClassifier(),\n",
    "    'clf_svm': SVC(),\n",
    "                                                            }\n",
    "# the optimization parameters for each of the above models\n",
    "params = {\n",
    "    'clf_randforest':{ \n",
    "        'n_jobs': [-1],\n",
    "        'max_features': [2, 3, 5, 7, 10],\n",
    "        'min_samples_leaf':[2, 5],\n",
    "        'criterion': ['gini'],\n",
    "        'max_depth':[3, 5, 8, 10],\n",
    "},\n",
    "    \n",
    "    'clf_knn': {\n",
    "        'weights': ['distance'],\n",
    "        'algorithm': ['ball_tree', 'kd_tree'],\n",
    "      \n",
    "},\n",
    "\n",
    "    'clf_sgdc' : {\n",
    "        'learning_rate': ['optimal'],\n",
    "        'loss':['hinge', 'log',],\n",
    "},\n",
    "    \n",
    "    'clf_svm' : {\n",
    "        'kernel': ['rbf',], \n",
    "        'degree' : [1, 2,],\n",
    "        'C': [.01, .05, 1, 10, ],\n",
    "},\n",
    "    \n",
    "\n",
    "\n",
    "                                                               }"
   ]
  },
  {
   "cell_type": "code",
   "execution_count": 522,
   "metadata": {},
   "outputs": [],
   "source": [
    "def fit_search(X_data, y_data):\n",
    "    for name in models.keys():\n",
    "        clf = models[name]\n",
    "        clf_params = params[name]\n",
    "        gscv = GridSearchCV(estimator=clf, param_grid=clf_params, \n",
    "                                cv=kf, return_train_score=True, refit=True)\n",
    "        gscv.fit(X_data, y_data)\n",
    "        print(\"best parameters are: {}\".format(gscv.best_estimator_))\n",
    "        print('cv results: {}'.format(gscv.cv_results_))\n",
    "        y_pred = gscv.predict(X_data)\n",
    "        print(classification_report(y_data, y_pred))\n",
    "    "
   ]
  },
  {
   "cell_type": "code",
   "execution_count": 523,
   "metadata": {},
   "outputs": [],
   "source": [
    "import warnings\n",
    "warnings.filterwarnings('ignore') "
   ]
  },
  {
   "cell_type": "markdown",
   "metadata": {},
   "source": [
    "# full dataset ohe processed"
   ]
  },
  {
   "cell_type": "code",
   "execution_count": 524,
   "metadata": {
    "scrolled": false
   },
   "outputs": [
    {
     "name": "stdout",
     "output_type": "stream",
     "text": [
      "best parameters are: RandomForestClassifier(max_depth=10, max_features=7, min_samples_leaf=2,\n",
      "                       n_jobs=-1)\n",
      "cv results: {'mean_fit_time': array([0.77071834, 0.21176704, 0.20644816, 0.20013173, 0.21409392,\n",
      "       0.2034564 , 0.20478566, 0.21207802, 0.20511794, 0.20977251,\n",
      "       0.20146139, 0.21548144, 0.20212642, 0.20348843, 0.20944055,\n",
      "       0.20312357, 0.21250979, 0.20844285, 0.20811009, 0.22140813,\n",
      "       0.21076973, 0.20578337, 0.2104373 , 0.21808378, 0.21874873,\n",
      "       0.21110225, 0.20811025, 0.21209947, 0.21143468, 0.2244002 ,\n",
      "       0.20711279, 0.20462179, 0.21410624, 0.20943999, 0.20578313,\n",
      "       0.20996245, 0.22938673, 0.21958137, 0.20944015, 0.21276458]), 'std_fit_time': array([0.80647637, 0.00971502, 0.00244308, 0.00261792, 0.01152542,\n",
      "       0.00293618, 0.00188054, 0.00832787, 0.0065313 , 0.00248786,\n",
      "       0.00215505, 0.01771636, 0.00248791, 0.00217469, 0.00666624,\n",
      "       0.00367207, 0.00438177, 0.00282058, 0.00571961, 0.01154478,\n",
      "       0.01143905, 0.00169548, 0.004309  , 0.01480022, 0.0145746 ,\n",
      "       0.00094021, 0.00308306, 0.00261741, 0.00666563, 0.01551482,\n",
      "       0.00329143, 0.00208871, 0.00837347, 0.00354941, 0.00261764,\n",
      "       0.00122192, 0.02963054, 0.01024151, 0.00614829, 0.00248765]), 'mean_score_time': array([0.02393635, 0.02360408, 0.02726062, 0.0246009 , 0.02460114,\n",
      "       0.02393595, 0.02426831, 0.02460114, 0.02393603, 0.02393595,\n",
      "       0.03025262, 0.02393556, 0.02460122, 0.02492261, 0.0246009 ,\n",
      "       0.02493374, 0.02393603, 0.0259308 , 0.02426879, 0.02393564,\n",
      "       0.02393587, 0.02726046, 0.02460066, 0.02393603, 0.02426815,\n",
      "       0.02426863, 0.03091757, 0.02393619, 0.02393595, 0.02393595,\n",
      "       0.02393627, 0.02426831, 0.02426847, 0.02426871, 0.02526569,\n",
      "       0.02393659, 0.02393603, 0.02393635, 0.02393619, 0.02426799]), 'std_score_time': array([1.12391596e-07, 4.69965469e-04, 4.70218341e-03, 9.40436725e-04,\n",
      "       9.39593823e-04, 5.61957980e-07, 4.69740686e-04, 9.40268092e-04,\n",
      "       3.89335909e-07, 4.89903609e-07, 8.93215351e-03, 3.89335909e-07,\n",
      "       4.70021695e-04, 8.01772744e-04, 4.69965550e-04, 8.14198722e-04,\n",
      "       3.37174788e-07, 2.82052330e-03, 4.70246438e-04, 1.12391596e-07,\n",
      "       8.14296085e-04, 4.01682050e-03, 4.70302724e-04, 1.94667955e-07,\n",
      "       4.70021816e-04, 4.70696366e-04, 7.76810355e-03, 2.97360213e-07,\n",
      "       5.94720425e-07, 2.97360213e-07, 3.89335909e-07, 4.69909626e-04,\n",
      "       4.69628294e-04, 4.70134046e-04, 1.88076098e-03, 4.49566384e-07,\n",
      "       5.15042996e-07, 1.12391596e-07, 4.89903609e-07, 4.70639818e-04]), 'param_criterion': masked_array(data=['gini', 'gini', 'gini', 'gini', 'gini', 'gini', 'gini',\n",
      "                   'gini', 'gini', 'gini', 'gini', 'gini', 'gini', 'gini',\n",
      "                   'gini', 'gini', 'gini', 'gini', 'gini', 'gini', 'gini',\n",
      "                   'gini', 'gini', 'gini', 'gini', 'gini', 'gini', 'gini',\n",
      "                   'gini', 'gini', 'gini', 'gini', 'gini', 'gini', 'gini',\n",
      "                   'gini', 'gini', 'gini', 'gini', 'gini'],\n",
      "             mask=[False, False, False, False, False, False, False, False,\n",
      "                   False, False, False, False, False, False, False, False,\n",
      "                   False, False, False, False, False, False, False, False,\n",
      "                   False, False, False, False, False, False, False, False,\n",
      "                   False, False, False, False, False, False, False, False],\n",
      "       fill_value='?',\n",
      "            dtype=object), 'param_max_depth': masked_array(data=[3, 3, 3, 3, 3, 3, 3, 3, 3, 3, 5, 5, 5, 5, 5, 5, 5, 5,\n",
      "                   5, 5, 8, 8, 8, 8, 8, 8, 8, 8, 8, 8, 10, 10, 10, 10, 10,\n",
      "                   10, 10, 10, 10, 10],\n",
      "             mask=[False, False, False, False, False, False, False, False,\n",
      "                   False, False, False, False, False, False, False, False,\n",
      "                   False, False, False, False, False, False, False, False,\n",
      "                   False, False, False, False, False, False, False, False,\n",
      "                   False, False, False, False, False, False, False, False],\n",
      "       fill_value='?',\n",
      "            dtype=object), 'param_max_features': masked_array(data=[2, 2, 3, 3, 5, 5, 7, 7, 10, 10, 2, 2, 3, 3, 5, 5, 7, 7,\n",
      "                   10, 10, 2, 2, 3, 3, 5, 5, 7, 7, 10, 10, 2, 2, 3, 3, 5,\n",
      "                   5, 7, 7, 10, 10],\n",
      "             mask=[False, False, False, False, False, False, False, False,\n",
      "                   False, False, False, False, False, False, False, False,\n",
      "                   False, False, False, False, False, False, False, False,\n",
      "                   False, False, False, False, False, False, False, False,\n",
      "                   False, False, False, False, False, False, False, False],\n",
      "       fill_value='?',\n",
      "            dtype=object), 'param_min_samples_leaf': masked_array(data=[2, 5, 2, 5, 2, 5, 2, 5, 2, 5, 2, 5, 2, 5, 2, 5, 2, 5,\n",
      "                   2, 5, 2, 5, 2, 5, 2, 5, 2, 5, 2, 5, 2, 5, 2, 5, 2, 5,\n",
      "                   2, 5, 2, 5],\n",
      "             mask=[False, False, False, False, False, False, False, False,\n",
      "                   False, False, False, False, False, False, False, False,\n",
      "                   False, False, False, False, False, False, False, False,\n",
      "                   False, False, False, False, False, False, False, False,\n",
      "                   False, False, False, False, False, False, False, False],\n",
      "       fill_value='?',\n",
      "            dtype=object), 'param_n_jobs': masked_array(data=[-1, -1, -1, -1, -1, -1, -1, -1, -1, -1, -1, -1, -1, -1,\n",
      "                   -1, -1, -1, -1, -1, -1, -1, -1, -1, -1, -1, -1, -1, -1,\n",
      "                   -1, -1, -1, -1, -1, -1, -1, -1, -1, -1, -1, -1],\n",
      "             mask=[False, False, False, False, False, False, False, False,\n",
      "                   False, False, False, False, False, False, False, False,\n",
      "                   False, False, False, False, False, False, False, False,\n",
      "                   False, False, False, False, False, False, False, False,\n",
      "                   False, False, False, False, False, False, False, False],\n",
      "       fill_value='?',\n",
      "            dtype=object), 'params': [{'criterion': 'gini', 'max_depth': 3, 'max_features': 2, 'min_samples_leaf': 2, 'n_jobs': -1}, {'criterion': 'gini', 'max_depth': 3, 'max_features': 2, 'min_samples_leaf': 5, 'n_jobs': -1}, {'criterion': 'gini', 'max_depth': 3, 'max_features': 3, 'min_samples_leaf': 2, 'n_jobs': -1}, {'criterion': 'gini', 'max_depth': 3, 'max_features': 3, 'min_samples_leaf': 5, 'n_jobs': -1}, {'criterion': 'gini', 'max_depth': 3, 'max_features': 5, 'min_samples_leaf': 2, 'n_jobs': -1}, {'criterion': 'gini', 'max_depth': 3, 'max_features': 5, 'min_samples_leaf': 5, 'n_jobs': -1}, {'criterion': 'gini', 'max_depth': 3, 'max_features': 7, 'min_samples_leaf': 2, 'n_jobs': -1}, {'criterion': 'gini', 'max_depth': 3, 'max_features': 7, 'min_samples_leaf': 5, 'n_jobs': -1}, {'criterion': 'gini', 'max_depth': 3, 'max_features': 10, 'min_samples_leaf': 2, 'n_jobs': -1}, {'criterion': 'gini', 'max_depth': 3, 'max_features': 10, 'min_samples_leaf': 5, 'n_jobs': -1}, {'criterion': 'gini', 'max_depth': 5, 'max_features': 2, 'min_samples_leaf': 2, 'n_jobs': -1}, {'criterion': 'gini', 'max_depth': 5, 'max_features': 2, 'min_samples_leaf': 5, 'n_jobs': -1}, {'criterion': 'gini', 'max_depth': 5, 'max_features': 3, 'min_samples_leaf': 2, 'n_jobs': -1}, {'criterion': 'gini', 'max_depth': 5, 'max_features': 3, 'min_samples_leaf': 5, 'n_jobs': -1}, {'criterion': 'gini', 'max_depth': 5, 'max_features': 5, 'min_samples_leaf': 2, 'n_jobs': -1}, {'criterion': 'gini', 'max_depth': 5, 'max_features': 5, 'min_samples_leaf': 5, 'n_jobs': -1}, {'criterion': 'gini', 'max_depth': 5, 'max_features': 7, 'min_samples_leaf': 2, 'n_jobs': -1}, {'criterion': 'gini', 'max_depth': 5, 'max_features': 7, 'min_samples_leaf': 5, 'n_jobs': -1}, {'criterion': 'gini', 'max_depth': 5, 'max_features': 10, 'min_samples_leaf': 2, 'n_jobs': -1}, {'criterion': 'gini', 'max_depth': 5, 'max_features': 10, 'min_samples_leaf': 5, 'n_jobs': -1}, {'criterion': 'gini', 'max_depth': 8, 'max_features': 2, 'min_samples_leaf': 2, 'n_jobs': -1}, {'criterion': 'gini', 'max_depth': 8, 'max_features': 2, 'min_samples_leaf': 5, 'n_jobs': -1}, {'criterion': 'gini', 'max_depth': 8, 'max_features': 3, 'min_samples_leaf': 2, 'n_jobs': -1}, {'criterion': 'gini', 'max_depth': 8, 'max_features': 3, 'min_samples_leaf': 5, 'n_jobs': -1}, {'criterion': 'gini', 'max_depth': 8, 'max_features': 5, 'min_samples_leaf': 2, 'n_jobs': -1}, {'criterion': 'gini', 'max_depth': 8, 'max_features': 5, 'min_samples_leaf': 5, 'n_jobs': -1}, {'criterion': 'gini', 'max_depth': 8, 'max_features': 7, 'min_samples_leaf': 2, 'n_jobs': -1}, {'criterion': 'gini', 'max_depth': 8, 'max_features': 7, 'min_samples_leaf': 5, 'n_jobs': -1}, {'criterion': 'gini', 'max_depth': 8, 'max_features': 10, 'min_samples_leaf': 2, 'n_jobs': -1}, {'criterion': 'gini', 'max_depth': 8, 'max_features': 10, 'min_samples_leaf': 5, 'n_jobs': -1}, {'criterion': 'gini', 'max_depth': 10, 'max_features': 2, 'min_samples_leaf': 2, 'n_jobs': -1}, {'criterion': 'gini', 'max_depth': 10, 'max_features': 2, 'min_samples_leaf': 5, 'n_jobs': -1}, {'criterion': 'gini', 'max_depth': 10, 'max_features': 3, 'min_samples_leaf': 2, 'n_jobs': -1}, {'criterion': 'gini', 'max_depth': 10, 'max_features': 3, 'min_samples_leaf': 5, 'n_jobs': -1}, {'criterion': 'gini', 'max_depth': 10, 'max_features': 5, 'min_samples_leaf': 2, 'n_jobs': -1}, {'criterion': 'gini', 'max_depth': 10, 'max_features': 5, 'min_samples_leaf': 5, 'n_jobs': -1}, {'criterion': 'gini', 'max_depth': 10, 'max_features': 7, 'min_samples_leaf': 2, 'n_jobs': -1}, {'criterion': 'gini', 'max_depth': 10, 'max_features': 7, 'min_samples_leaf': 5, 'n_jobs': -1}, {'criterion': 'gini', 'max_depth': 10, 'max_features': 10, 'min_samples_leaf': 2, 'n_jobs': -1}, {'criterion': 'gini', 'max_depth': 10, 'max_features': 10, 'min_samples_leaf': 5, 'n_jobs': -1}], 'split0_test_score': array([0.90724504, 0.93493309, 0.93401015, 0.90401477, 0.93031841,\n",
      "       0.94739271, 0.95246885, 0.97646516, 0.97231195, 0.97969543,\n",
      "       0.95339179, 0.93908629, 0.97600369, 0.96585141, 0.98707891,\n",
      "       0.98938625, 0.99077065, 0.99077065, 0.99077065, 0.99261652,\n",
      "       0.99676973, 0.99584679, 0.99769266, 0.99630826, 0.99815413,\n",
      "       0.99538533, 0.99815413, 0.99815413, 0.99815413, 0.99815413,\n",
      "       0.9986156 , 0.99584679, 0.9986156 , 0.99815413, 1.        ,\n",
      "       0.99815413, 1.        , 0.99815413, 1.        , 0.99815413]), 'split1_test_score': array([0.91366574, 0.9312096 , 0.92843952, 0.95106187, 0.9312096 ,\n",
      "       0.94506002, 0.95383195, 0.98014774, 0.98845799, 0.98707295,\n",
      "       0.97276085, 0.95752539, 0.9478301 , 0.98245614, 0.98753463,\n",
      "       0.98753463, 0.98845799, 0.98845799, 0.98845799, 0.98845799,\n",
      "       0.99492151, 0.99168975, 0.99722992, 0.98891967, 1.        ,\n",
      "       1.        , 1.        , 1.        , 1.        , 1.        ,\n",
      "       1.        , 1.        , 1.        , 1.        , 1.        ,\n",
      "       1.        , 1.        , 1.        , 1.        , 1.        ]), 'split2_test_score': array([0.93582641, 0.93582641, 0.94413666, 0.94044321, 0.93490305,\n",
      "       0.97691597, 0.95891043, 0.95475531, 0.98707295, 0.98845799,\n",
      "       0.97045245, 0.96121884, 0.97599261, 0.9856879 , 0.98845799,\n",
      "       0.99076639, 0.99215143, 0.99168975, 0.99076639, 0.99399815,\n",
      "       0.99815328, 0.99353647, 0.99261311, 0.99630656, 0.99907664,\n",
      "       0.99861496, 0.99907664, 0.99861496, 1.        , 0.99861496,\n",
      "       0.99907664, 0.9976916 , 1.        , 0.99861496, 0.99953832,\n",
      "       0.99861496, 1.        , 0.99861496, 1.        , 0.99861496]), 'mean_test_score': array([0.9189124 , 0.9339897 , 0.93552878, 0.93183995, 0.93214369,\n",
      "       0.95645623, 0.95507041, 0.97045607, 0.98261429, 0.98507545,\n",
      "       0.96553503, 0.95261017, 0.9666088 , 0.97799848, 0.98769051,\n",
      "       0.98922909, 0.99046002, 0.99030613, 0.98999834, 0.99169089,\n",
      "       0.99661484, 0.99369101, 0.99584523, 0.99384483, 0.99907692,\n",
      "       0.99800009, 0.99907692, 0.99892303, 0.99938471, 0.99892303,\n",
      "       0.99923075, 0.99784613, 0.99953853, 0.99892303, 0.99984611,\n",
      "       0.99892303, 1.        , 0.99892303, 1.        , 0.99892303]), 'std_test_score': array([0.01224389, 0.00199937, 0.00649768, 0.02014728, 0.00198479,\n",
      "       0.01449853, 0.00277174, 0.01120344, 0.00730677, 0.00384604,\n",
      "       0.00863813, 0.00968097, 0.01327855, 0.00869002, 0.00057369,\n",
      "       0.00132403, 0.00152376, 0.00135963, 0.0010892 , 0.00235456,\n",
      "       0.0013239 , 0.00170062, 0.00229325, 0.00348261, 0.00075357,\n",
      "       0.00193345, 0.00075357, 0.00078443, 0.00087015, 0.00078443,\n",
      "       0.00057559, 0.00169906, 0.00065261, 0.00078443, 0.00021764,\n",
      "       0.00078443, 0.        , 0.00078443, 0.        , 0.00078443]), 'rank_test_score': array([40, 37, 36, 39, 38, 33, 34, 30, 28, 27, 32, 35, 31, 29, 26, 25, 22,\n",
      "       23, 24, 21, 17, 20, 18, 19,  7, 15,  7,  9,  5,  9,  6, 16,  4,  9,\n",
      "        3,  9,  1,  9,  1,  9]), 'split0_train_score': array([0.91643583, 0.93651893, 0.93813481, 0.9134349 , 0.93767313,\n",
      "       0.94506002, 0.96075716, 0.97783934, 0.97668513, 0.98245614,\n",
      "       0.96537396, 0.9455217 , 0.97645429, 0.97183749, 0.98799631,\n",
      "       0.98868883, 0.98961219, 0.98961219, 0.98961219, 0.99122807,\n",
      "       0.99861496, 0.9965374 , 0.99861496, 0.9976916 , 0.99930748,\n",
      "       0.9965374 , 0.99953832, 0.99930748, 0.99930748, 0.99930748,\n",
      "       0.99976916, 0.9976916 , 0.99976916, 0.99792244, 1.        ,\n",
      "       0.99930748, 1.        , 0.99930748, 1.        , 0.99930748]), 'split1_train_score': array([0.91068544, 0.92868682, 0.92799446, 0.94414955, 0.92984076,\n",
      "       0.94230325, 0.95015001, 0.98015232, 0.99076852, 0.98822986,\n",
      "       0.97299792, 0.95707362, 0.94599585, 0.98176783, 0.98799908,\n",
      "       0.98961459, 0.99076852, 0.99076852, 0.99076852, 0.99076852,\n",
      "       0.99607662, 0.99399954, 0.99884607, 0.99099931, 1.        ,\n",
      "       0.9981537 , 1.        , 0.99930764, 1.        , 1.        ,\n",
      "       1.        , 0.99838449, 1.        , 0.99838449, 1.        ,\n",
      "       0.99838449, 1.        , 1.        , 1.        , 1.        ]), 'split2_train_score': array([0.93122548, 0.93168705, 0.94022617, 0.93514886, 0.93168705,\n",
      "       0.97807524, 0.95891992, 0.95476575, 0.98730672, 0.98776829,\n",
      "       0.96653589, 0.96353566, 0.97807524, 0.98615278, 0.98892222,\n",
      "       0.98961459, 0.98961459, 0.99007616, 0.98961459, 0.99099931,\n",
      "       0.9981537 , 0.99307639, 0.99192246, 0.99676898, 1.        ,\n",
      "       0.99907685, 1.        , 0.99907685, 1.        , 0.99907685,\n",
      "       0.99976921, 0.99884607, 1.        , 0.99907685, 1.        ,\n",
      "       0.99907685, 1.        , 0.99907685, 1.        , 0.99907685]), 'mean_train_score': array([0.91944891, 0.9322976 , 0.93545181, 0.9309111 , 0.93306698,\n",
      "       0.95514617, 0.95660903, 0.97091914, 0.98492012, 0.98615143,\n",
      "       0.96830259, 0.95537699, 0.96684179, 0.97991937, 0.98830587,\n",
      "       0.989306  , 0.98999843, 0.99015229, 0.98999843, 0.99099863,\n",
      "       0.99761509, 0.99453778, 0.99646116, 0.9951533 , 0.99976916,\n",
      "       0.99792265, 0.99984611, 0.99923066, 0.99976916, 0.99946144,\n",
      "       0.99984612, 0.99830738, 0.99992305, 0.99846126, 1.        ,\n",
      "       0.99892294, 1.        , 0.99946144, 1.        , 0.99946144]), 'std_train_score': array([0.00865187, 0.00322646, 0.00534182, 0.01289228, 0.00334312,\n",
      "       0.01625231, 0.00462839, 0.01146113, 0.00599207, 0.00261975,\n",
      "       0.00335382, 0.00745138, 0.01475516, 0.00598857, 0.00043583,\n",
      "       0.00043641, 0.00054454, 0.00047513, 0.00054454, 0.00018761,\n",
      "       0.00110404, 0.00146331, 0.00321074, 0.00296136, 0.00032646,\n",
      "       0.00104952, 0.00021764, 0.00010876, 0.00032646, 0.00039228,\n",
      "       0.00010881, 0.00047445, 0.00010882, 0.0004744 , 0.        ,\n",
      "       0.00039221, 0.        , 0.00039228, 0.        , 0.00039228])}\n",
      "              precision    recall  f1-score   support\n",
      "\n",
      "           0       1.00      1.00      1.00      3365\n",
      "           1       1.00      1.00      1.00      3134\n",
      "\n",
      "    accuracy                           1.00      6499\n",
      "   macro avg       1.00      1.00      1.00      6499\n",
      "weighted avg       1.00      1.00      1.00      6499\n",
      "\n"
     ]
    },
    {
     "name": "stdout",
     "output_type": "stream",
     "text": [
      "best parameters are: KNeighborsClassifier(algorithm='ball_tree', weights='distance')\n",
      "cv results: {'mean_fit_time': array([0.05817771, 0.09015171]), 'std_fit_time': array([0.0028597 , 0.00270031]), 'mean_score_time': array([0.77411493, 0.94697126]), 'std_score_time': array([0.00978079, 0.01287191]), 'param_algorithm': masked_array(data=['ball_tree', 'kd_tree'],\n",
      "             mask=[False, False],\n",
      "       fill_value='?',\n",
      "            dtype=object), 'param_weights': masked_array(data=['distance', 'distance'],\n",
      "             mask=[False, False],\n",
      "       fill_value='?',\n",
      "            dtype=object), 'params': [{'algorithm': 'ball_tree', 'weights': 'distance'}, {'algorithm': 'kd_tree', 'weights': 'distance'}], 'split0_test_score': array([1., 1.]), 'split1_test_score': array([1., 1.]), 'split2_test_score': array([1., 1.]), 'mean_test_score': array([1., 1.]), 'std_test_score': array([0., 0.]), 'rank_test_score': array([1, 1]), 'split0_train_score': array([1., 1.]), 'split1_train_score': array([1., 1.]), 'split2_train_score': array([1., 1.]), 'mean_train_score': array([1., 1.]), 'std_train_score': array([0., 0.])}\n",
      "              precision    recall  f1-score   support\n",
      "\n",
      "           0       1.00      1.00      1.00      3365\n",
      "           1       1.00      1.00      1.00      3134\n",
      "\n",
      "    accuracy                           1.00      6499\n",
      "   macro avg       1.00      1.00      1.00      6499\n",
      "weighted avg       1.00      1.00      1.00      6499\n",
      "\n",
      "best parameters are: SGDClassifier()\n",
      "cv results: {'mean_fit_time': array([0.01063784, 0.01263237]), 'std_fit_time': array([0.00047008, 0.00047019]), 'mean_score_time': array([0.00233388, 0.00199517]), 'std_score_time': array([4.65710158e-04, 4.49566384e-07]), 'param_learning_rate': masked_array(data=['optimal', 'optimal'],\n",
      "             mask=[False, False],\n",
      "       fill_value='?',\n",
      "            dtype=object), 'param_loss': masked_array(data=['hinge', 'log'],\n",
      "             mask=[False, False],\n",
      "       fill_value='?',\n",
      "            dtype=object), 'params': [{'learning_rate': 'optimal', 'loss': 'hinge'}, {'learning_rate': 'optimal', 'loss': 'log'}], 'split0_test_score': array([1., 1.]), 'split1_test_score': array([1., 1.]), 'split2_test_score': array([1., 1.]), 'mean_test_score': array([1., 1.]), 'std_test_score': array([0., 0.]), 'rank_test_score': array([1, 1]), 'split0_train_score': array([1., 1.]), 'split1_train_score': array([1., 1.]), 'split2_train_score': array([1., 1.]), 'mean_train_score': array([1., 1.]), 'std_train_score': array([0., 0.])}\n",
      "              precision    recall  f1-score   support\n",
      "\n",
      "           0       1.00      1.00      1.00      3365\n",
      "           1       1.00      1.00      1.00      3134\n",
      "\n",
      "    accuracy                           1.00      6499\n",
      "   macro avg       1.00      1.00      1.00      6499\n",
      "weighted avg       1.00      1.00      1.00      6499\n",
      "\n",
      "best parameters are: SVC(C=10, degree=1)\n",
      "cv results: {'mean_fit_time': array([1.14948448, 1.12876209, 0.55602129, 0.57664005, 0.31649884,\n",
      "       0.29870375, 0.28306532, 0.286081  ]), 'std_fit_time': array([0.00831994, 0.02435738, 0.02188713, 0.0240471 , 0.02199529,\n",
      "       0.0018681 , 0.01010401, 0.0022567 ]), 'mean_score_time': array([0.48138714, 0.4560082 , 0.22178316, 0.25697962, 0.10720976,\n",
      "       0.09740615, 0.09890461, 0.09541114]), 'std_score_time': array([0.00653118, 0.01766881, 0.00975663, 0.0335391 , 0.01171416,\n",
      "       0.00248776, 0.00265152, 0.00188099]), 'param_C': masked_array(data=[0.01, 0.01, 0.05, 0.05, 1, 1, 10, 10],\n",
      "             mask=[False, False, False, False, False, False, False, False],\n",
      "       fill_value='?',\n",
      "            dtype=object), 'param_degree': masked_array(data=[1, 2, 1, 2, 1, 2, 1, 2],\n",
      "             mask=[False, False, False, False, False, False, False, False],\n",
      "       fill_value='?',\n",
      "            dtype=object), 'param_kernel': masked_array(data=['rbf', 'rbf', 'rbf', 'rbf', 'rbf', 'rbf', 'rbf', 'rbf'],\n",
      "             mask=[False, False, False, False, False, False, False, False],\n",
      "       fill_value='?',\n",
      "            dtype=object), 'params': [{'C': 0.01, 'degree': 1, 'kernel': 'rbf'}, {'C': 0.01, 'degree': 2, 'kernel': 'rbf'}, {'C': 0.05, 'degree': 1, 'kernel': 'rbf'}, {'C': 0.05, 'degree': 2, 'kernel': 'rbf'}, {'C': 1, 'degree': 1, 'kernel': 'rbf'}, {'C': 1, 'degree': 2, 'kernel': 'rbf'}, {'C': 10, 'degree': 1, 'kernel': 'rbf'}, {'C': 10, 'degree': 2, 'kernel': 'rbf'}], 'split0_test_score': array([0.93354868, 0.93354868, 0.98431011, 0.98431011, 0.99769266,\n",
      "       0.99769266, 1.        , 1.        ]), 'split1_test_score': array([0.9312096 , 0.9312096 , 0.98707295, 0.98707295, 1.        ,\n",
      "       1.        , 1.        , 1.        ]), 'split2_test_score': array([0.92797784, 0.92797784, 0.98060942, 0.98060942, 1.        ,\n",
      "       1.        , 1.        , 1.        ]), 'mean_test_score': array([0.93091204, 0.93091204, 0.98399749, 0.98399749, 0.99923089,\n",
      "       0.99923089, 1.        , 1.        ]), 'std_test_score': array([0.002284  , 0.002284  , 0.00264797, 0.00264797, 0.00108769,\n",
      "       0.00108769, 0.        , 0.        ]), 'rank_test_score': array([7, 7, 5, 5, 3, 3, 1, 1]), 'split0_train_score': array([0.93490305, 0.93490305, 0.98476454, 0.98476454, 0.99976916,\n",
      "       0.99976916, 1.        , 1.        ]), 'split1_train_score': array([0.93030233, 0.93030233, 0.98569121, 0.98569121, 1.        ,\n",
      "       1.        , 1.        , 1.        ]), 'split2_train_score': array([0.93053312, 0.93053312, 0.98638357, 0.98638357, 1.        ,\n",
      "       1.        , 1.        , 1.        ]), 'mean_train_score': array([0.93191283, 0.93191283, 0.98561311, 0.98561311, 0.99992305,\n",
      "       0.99992305, 1.        , 1.        ]), 'std_train_score': array([0.0021165 , 0.0021165 , 0.00066327, 0.00066327, 0.00010882,\n",
      "       0.00010882, 0.        , 0.        ])}\n",
      "              precision    recall  f1-score   support\n",
      "\n",
      "           0       1.00      1.00      1.00      3365\n",
      "           1       1.00      1.00      1.00      3134\n",
      "\n",
      "    accuracy                           1.00      6499\n",
      "   macro avg       1.00      1.00      1.00      6499\n",
      "weighted avg       1.00      1.00      1.00      6499\n",
      "\n"
     ]
    }
   ],
   "source": [
    "fit_search(X_train, y_train)"
   ]
  },
  {
   "cell_type": "code",
   "execution_count": 471,
   "metadata": {},
   "outputs": [
    {
     "name": "stdout",
     "output_type": "stream",
     "text": [
      "1.0\n",
      "1.0\n",
      "[[843   0]\n",
      " [  0 782]]\n",
      "              precision    recall  f1-score   support\n",
      "\n",
      "      edible       1.00      1.00      1.00       843\n",
      "   poisonous       1.00      1.00      1.00       782\n",
      "\n",
      "    accuracy                           1.00      1625\n",
      "   macro avg       1.00      1.00      1.00      1625\n",
      "weighted avg       1.00      1.00      1.00      1625\n",
      "\n"
     ]
    }
   ],
   "source": [
    "rf_model = RandomForestClassifier(max_depth=8, max_features=7, n_jobs=-1, criterion='gini')\n",
    "rf_model.fit(X_train, y_train)\n",
    "# Predict on test set\n",
    "y_pred = rf_model.predict(X_test)\n",
    "print(rf_model.score(X_train, y_train))\n",
    "print(rf_model.score(X_test, y_test))\n",
    "print(confusion_matrix(y_test, y_pred))\n",
    "print(classification_report(y_test, y_pred, target_names=['edible' , 'poisonous']))"
   ]
  },
  {
   "cell_type": "code",
   "execution_count": 516,
   "metadata": {},
   "outputs": [
    {
     "name": "stdout",
     "output_type": "stream",
     "text": [
      "1.0\n",
      "1.0\n",
      "[[843   0]\n",
      " [  0 782]]\n",
      "              precision    recall  f1-score   support\n",
      "\n",
      "      edible       1.00      1.00      1.00       843\n",
      "   poisonous       1.00      1.00      1.00       782\n",
      "\n",
      "    accuracy                           1.00      1625\n",
      "   macro avg       1.00      1.00      1.00      1625\n",
      "weighted avg       1.00      1.00      1.00      1625\n",
      "\n"
     ]
    }
   ],
   "source": [
    "kn_model = KNeighborsClassifier(algorithm='ball_tree', weights='distance')\n",
    "kn_model.fit(X_train, y_train)\n",
    "\n",
    "# Predict on test set\n",
    "y_pred = kn_model.predict(X_test)\n",
    "print(kn_model.score(X_train, y_train))\n",
    "print(kn_model.score(X_test, y_test))\n",
    "print(confusion_matrix(y_test, y_pred))\n",
    "print(classification_report(y_test, y_pred, target_names=['edible' , 'poisonous']))"
   ]
  },
  {
   "cell_type": "code",
   "execution_count": 518,
   "metadata": {},
   "outputs": [],
   "source": [
    "from sklearn.model_selection import cross_val_predict"
   ]
  },
  {
   "cell_type": "code",
   "execution_count": 519,
   "metadata": {},
   "outputs": [
    {
     "ename": "ValueError",
     "evalue": "x and y must be the same size",
     "output_type": "error",
     "traceback": [
      "\u001b[1;31m---------------------------------------------------------------------------\u001b[0m",
      "\u001b[1;31mValueError\u001b[0m                                Traceback (most recent call last)",
      "\u001b[1;32m<ipython-input-519-7e05f5e647e6>\u001b[0m in \u001b[0;36m<module>\u001b[1;34m\u001b[0m\n\u001b[0;32m      2\u001b[0m \u001b[1;33m\u001b[0m\u001b[0m\n\u001b[0;32m      3\u001b[0m \u001b[0mfig\u001b[0m\u001b[1;33m,\u001b[0m \u001b[0max\u001b[0m \u001b[1;33m=\u001b[0m \u001b[0mplt\u001b[0m\u001b[1;33m.\u001b[0m\u001b[0msubplots\u001b[0m\u001b[1;33m(\u001b[0m\u001b[1;33m)\u001b[0m\u001b[1;33m\u001b[0m\u001b[1;33m\u001b[0m\u001b[0m\n\u001b[1;32m----> 4\u001b[1;33m \u001b[0max\u001b[0m\u001b[1;33m.\u001b[0m\u001b[0mscatter\u001b[0m\u001b[1;33m(\u001b[0m\u001b[0my\u001b[0m\u001b[1;33m,\u001b[0m \u001b[0mpredicted\u001b[0m\u001b[1;33m,\u001b[0m \u001b[0medgecolors\u001b[0m\u001b[1;33m=\u001b[0m\u001b[1;33m(\u001b[0m\u001b[1;36m0\u001b[0m\u001b[1;33m,\u001b[0m \u001b[1;36m0\u001b[0m\u001b[1;33m,\u001b[0m \u001b[1;36m0\u001b[0m\u001b[1;33m)\u001b[0m\u001b[1;33m)\u001b[0m\u001b[1;33m\u001b[0m\u001b[1;33m\u001b[0m\u001b[0m\n\u001b[0m\u001b[0;32m      5\u001b[0m \u001b[0max\u001b[0m\u001b[1;33m.\u001b[0m\u001b[0mplot\u001b[0m\u001b[1;33m(\u001b[0m\u001b[1;33m[\u001b[0m\u001b[0my\u001b[0m\u001b[1;33m.\u001b[0m\u001b[0mmin\u001b[0m\u001b[1;33m(\u001b[0m\u001b[1;33m)\u001b[0m\u001b[1;33m,\u001b[0m \u001b[0my\u001b[0m\u001b[1;33m.\u001b[0m\u001b[0mmax\u001b[0m\u001b[1;33m(\u001b[0m\u001b[1;33m)\u001b[0m\u001b[1;33m]\u001b[0m\u001b[1;33m,\u001b[0m \u001b[1;33m[\u001b[0m\u001b[0my\u001b[0m\u001b[1;33m.\u001b[0m\u001b[0mmin\u001b[0m\u001b[1;33m(\u001b[0m\u001b[1;33m)\u001b[0m\u001b[1;33m,\u001b[0m \u001b[0my\u001b[0m\u001b[1;33m.\u001b[0m\u001b[0mmax\u001b[0m\u001b[1;33m(\u001b[0m\u001b[1;33m)\u001b[0m\u001b[1;33m]\u001b[0m\u001b[1;33m,\u001b[0m \u001b[1;34m'k--'\u001b[0m\u001b[1;33m,\u001b[0m \u001b[0mlw\u001b[0m\u001b[1;33m=\u001b[0m\u001b[1;36m4\u001b[0m\u001b[1;33m)\u001b[0m\u001b[1;33m\u001b[0m\u001b[1;33m\u001b[0m\u001b[0m\n\u001b[0;32m      6\u001b[0m \u001b[0max\u001b[0m\u001b[1;33m.\u001b[0m\u001b[0mset_xlabel\u001b[0m\u001b[1;33m(\u001b[0m\u001b[1;34m'Measured'\u001b[0m\u001b[1;33m)\u001b[0m\u001b[1;33m\u001b[0m\u001b[1;33m\u001b[0m\u001b[0m\n",
      "\u001b[1;32m~\\anaconda3\\lib\\site-packages\\matplotlib\\__init__.py\u001b[0m in \u001b[0;36minner\u001b[1;34m(ax, data, *args, **kwargs)\u001b[0m\n\u001b[0;32m   1436\u001b[0m     \u001b[1;32mdef\u001b[0m \u001b[0minner\u001b[0m\u001b[1;33m(\u001b[0m\u001b[0max\u001b[0m\u001b[1;33m,\u001b[0m \u001b[1;33m*\u001b[0m\u001b[0margs\u001b[0m\u001b[1;33m,\u001b[0m \u001b[0mdata\u001b[0m\u001b[1;33m=\u001b[0m\u001b[1;32mNone\u001b[0m\u001b[1;33m,\u001b[0m \u001b[1;33m**\u001b[0m\u001b[0mkwargs\u001b[0m\u001b[1;33m)\u001b[0m\u001b[1;33m:\u001b[0m\u001b[1;33m\u001b[0m\u001b[1;33m\u001b[0m\u001b[0m\n\u001b[0;32m   1437\u001b[0m         \u001b[1;32mif\u001b[0m \u001b[0mdata\u001b[0m \u001b[1;32mis\u001b[0m \u001b[1;32mNone\u001b[0m\u001b[1;33m:\u001b[0m\u001b[1;33m\u001b[0m\u001b[1;33m\u001b[0m\u001b[0m\n\u001b[1;32m-> 1438\u001b[1;33m             \u001b[1;32mreturn\u001b[0m \u001b[0mfunc\u001b[0m\u001b[1;33m(\u001b[0m\u001b[0max\u001b[0m\u001b[1;33m,\u001b[0m \u001b[1;33m*\u001b[0m\u001b[0mmap\u001b[0m\u001b[1;33m(\u001b[0m\u001b[0msanitize_sequence\u001b[0m\u001b[1;33m,\u001b[0m \u001b[0margs\u001b[0m\u001b[1;33m)\u001b[0m\u001b[1;33m,\u001b[0m \u001b[1;33m**\u001b[0m\u001b[0mkwargs\u001b[0m\u001b[1;33m)\u001b[0m\u001b[1;33m\u001b[0m\u001b[1;33m\u001b[0m\u001b[0m\n\u001b[0m\u001b[0;32m   1439\u001b[0m \u001b[1;33m\u001b[0m\u001b[0m\n\u001b[0;32m   1440\u001b[0m         \u001b[0mbound\u001b[0m \u001b[1;33m=\u001b[0m \u001b[0mnew_sig\u001b[0m\u001b[1;33m.\u001b[0m\u001b[0mbind\u001b[0m\u001b[1;33m(\u001b[0m\u001b[0max\u001b[0m\u001b[1;33m,\u001b[0m \u001b[1;33m*\u001b[0m\u001b[0margs\u001b[0m\u001b[1;33m,\u001b[0m \u001b[1;33m**\u001b[0m\u001b[0mkwargs\u001b[0m\u001b[1;33m)\u001b[0m\u001b[1;33m\u001b[0m\u001b[1;33m\u001b[0m\u001b[0m\n",
      "\u001b[1;32m~\\anaconda3\\lib\\site-packages\\matplotlib\\cbook\\deprecation.py\u001b[0m in \u001b[0;36mwrapper\u001b[1;34m(*inner_args, **inner_kwargs)\u001b[0m\n\u001b[0;32m    409\u001b[0m                          \u001b[1;32melse\u001b[0m \u001b[0mdeprecation_addendum\u001b[0m\u001b[1;33m,\u001b[0m\u001b[1;33m\u001b[0m\u001b[1;33m\u001b[0m\u001b[0m\n\u001b[0;32m    410\u001b[0m                 **kwargs)\n\u001b[1;32m--> 411\u001b[1;33m         \u001b[1;32mreturn\u001b[0m \u001b[0mfunc\u001b[0m\u001b[1;33m(\u001b[0m\u001b[1;33m*\u001b[0m\u001b[0minner_args\u001b[0m\u001b[1;33m,\u001b[0m \u001b[1;33m**\u001b[0m\u001b[0minner_kwargs\u001b[0m\u001b[1;33m)\u001b[0m\u001b[1;33m\u001b[0m\u001b[1;33m\u001b[0m\u001b[0m\n\u001b[0m\u001b[0;32m    412\u001b[0m \u001b[1;33m\u001b[0m\u001b[0m\n\u001b[0;32m    413\u001b[0m     \u001b[1;32mreturn\u001b[0m \u001b[0mwrapper\u001b[0m\u001b[1;33m\u001b[0m\u001b[1;33m\u001b[0m\u001b[0m\n",
      "\u001b[1;32m~\\anaconda3\\lib\\site-packages\\matplotlib\\axes\\_axes.py\u001b[0m in \u001b[0;36mscatter\u001b[1;34m(self, x, y, s, c, marker, cmap, norm, vmin, vmax, alpha, linewidths, verts, edgecolors, plotnonfinite, **kwargs)\u001b[0m\n\u001b[0;32m   4439\u001b[0m         \u001b[0my\u001b[0m \u001b[1;33m=\u001b[0m \u001b[0mnp\u001b[0m\u001b[1;33m.\u001b[0m\u001b[0mma\u001b[0m\u001b[1;33m.\u001b[0m\u001b[0mravel\u001b[0m\u001b[1;33m(\u001b[0m\u001b[0my\u001b[0m\u001b[1;33m)\u001b[0m\u001b[1;33m\u001b[0m\u001b[1;33m\u001b[0m\u001b[0m\n\u001b[0;32m   4440\u001b[0m         \u001b[1;32mif\u001b[0m \u001b[0mx\u001b[0m\u001b[1;33m.\u001b[0m\u001b[0msize\u001b[0m \u001b[1;33m!=\u001b[0m \u001b[0my\u001b[0m\u001b[1;33m.\u001b[0m\u001b[0msize\u001b[0m\u001b[1;33m:\u001b[0m\u001b[1;33m\u001b[0m\u001b[1;33m\u001b[0m\u001b[0m\n\u001b[1;32m-> 4441\u001b[1;33m             \u001b[1;32mraise\u001b[0m \u001b[0mValueError\u001b[0m\u001b[1;33m(\u001b[0m\u001b[1;34m\"x and y must be the same size\"\u001b[0m\u001b[1;33m)\u001b[0m\u001b[1;33m\u001b[0m\u001b[1;33m\u001b[0m\u001b[0m\n\u001b[0m\u001b[0;32m   4442\u001b[0m \u001b[1;33m\u001b[0m\u001b[0m\n\u001b[0;32m   4443\u001b[0m         \u001b[1;32mif\u001b[0m \u001b[0ms\u001b[0m \u001b[1;32mis\u001b[0m \u001b[1;32mNone\u001b[0m\u001b[1;33m:\u001b[0m\u001b[1;33m\u001b[0m\u001b[1;33m\u001b[0m\u001b[0m\n",
      "\u001b[1;31mValueError\u001b[0m: x and y must be the same size"
     ]
    },
    {
     "data": {
      "image/png": "[encoded data removed]",
      "text/plain": [
       "<Figure size 432x288 with 1 Axes>"
      ]
     },
     "metadata": {
      "needs_background": "light"
     },
     "output_type": "display_data"
    }
   ],
   "source": [
    "predicted = cross_val_predict(rf_model, X_test, y_test, cv=10)\n",
    "\n",
    "fig, ax = plt.subplots()\n",
    "ax.scatter(y, predicted, edgecolors=(0, 0, 0))\n",
    "ax.plot([y.min(), y.max()], [y.min(), y.max()], 'k--', lw=4)\n",
    "ax.set_xlabel('Measured')\n",
    "ax.set_ylabel('Predicted')\n",
    "plt.show()"
   ]
  },
  {
   "cell_type": "code",
   "execution_count": 469,
   "metadata": {},
   "outputs": [
    {
     "name": "stdout",
     "output_type": "stream",
     "text": [
      "1.0\n",
      "1.0\n",
      "[[843   0]\n",
      " [  0 782]]\n",
      "              precision    recall  f1-score   support\n",
      "\n",
      "      edible       1.00      1.00      1.00       843\n",
      "   poisonous       1.00      1.00      1.00       782\n",
      "\n",
      "    accuracy                           1.00      1625\n",
      "   macro avg       1.00      1.00      1.00      1625\n",
      "weighted avg       1.00      1.00      1.00      1625\n",
      "\n"
     ]
    }
   ],
   "source": [
    "svc_model = SVC(C=1, degree=1)\n",
    "svc_model.fit(X_train, y_train)\n",
    "# Predict on test set\n",
    "y_pred = svc_model.predict(X_test)\n",
    "print(svc_model.score(X_train, y_train))\n",
    "print(svc_model.score(X_test, y_test))\n",
    "print(confusion_matrix(y_test, y_pred))\n",
    "print(classification_report(y_test, y_pred, target_names=['edible' , 'poisonous']))"
   ]
  },
  {
   "cell_type": "code",
   "execution_count": 514,
   "metadata": {},
   "outputs": [
    {
     "name": "stdout",
     "output_type": "stream",
     "text": [
      "1.0\n",
      "1.0\n",
      "[[843   0]\n",
      " [  0 782]]\n",
      "              precision    recall  f1-score   support\n",
      "\n",
      "      edible       1.00      1.00      1.00       843\n",
      "   poisonous       1.00      1.00      1.00       782\n",
      "\n",
      "    accuracy                           1.00      1625\n",
      "   macro avg       1.00      1.00      1.00      1625\n",
      "weighted avg       1.00      1.00      1.00      1625\n",
      "\n"
     ]
    }
   ],
   "source": [
    "sgd_model = SGDClassifier()\n",
    "sgd_model.fit(X_train, y_train)\n",
    "sgd_model.score(X_test, y_test)\n",
    "# Predict on test set\n",
    "y_pred = sgd_model.predict(X_test)\n",
    "print(sgd_model.score(X_train, y_train))\n",
    "print(sgd_model.score(X_test, y_test))\n",
    "print(confusion_matrix(y_test, y_pred))\n",
    "print(classification_report(y_test, y_pred, target_names=['edible' , 'poisonous']))"
   ]
  },
  {
   "cell_type": "code",
   "execution_count": 515,
   "metadata": {},
   "outputs": [],
   "source": [
    "from numpy import where"
   ]
  },
  {
   "cell_type": "markdown",
   "metadata": {},
   "source": [
    "# model fit label encoded data"
   ]
  },
  {
   "cell_type": "code",
   "execution_count": 525,
   "metadata": {
    "scrolled": false
   },
   "outputs": [
    {
     "name": "stdout",
     "output_type": "stream",
     "text": [
      "best parameters are: RandomForestClassifier(max_depth=8, max_features=2, min_samples_leaf=2,\n",
      "                       n_jobs=-1)\n",
      "cv results: {'mean_fit_time': array([0.61369292, 0.07947119, 0.08144855, 0.10704684, 1.30983774,\n",
      "       1.79156097, 1.83874671, 1.79587158, 1.81372968, 1.78540897,\n",
      "       0.601384  , 0.10372289, 0.08444277, 0.08478538, 1.31880879,\n",
      "       1.80168287, 1.79055293, 1.83509851, 1.80434362, 1.7952079 ,\n",
      "       0.60855969, 0.08378704, 0.08844153, 0.08180197, 1.29320439,\n",
      "       1.87166595, 1.84289893, 1.9659191 , 1.86900242, 1.96095268,\n",
      "       0.66572364, 0.0887626 , 0.088763  , 0.08843088, 1.47036068,\n",
      "       2.05889018, 2.03107945, 2.01144449, 2.01791946, 2.09083207]), 'std_fit_time': array([0.75506143, 0.00261125, 0.00490833, 0.03581466, 0.70372849,\n",
      "       0.02693931, 0.05904647, 0.03291983, 0.01108422, 0.01580434,\n",
      "       0.73447422, 0.02681028, 0.00169458, 0.00217058, 0.68857528,\n",
      "       0.01430985, 0.01474988, 0.02346798, 0.01017293, 0.01781023,\n",
      "       0.74353054, 0.00081433, 0.00804993, 0.00139618, 0.70639738,\n",
      "       0.11612642, 0.04780125, 0.08882669, 0.01996023, 0.07489425,\n",
      "       0.81383234, 0.004309  , 0.00141057, 0.00261791, 0.80874234,\n",
      "       0.03309751, 0.0850241 , 0.04374385, 0.03322744, 0.05799425]), 'mean_score_time': array([0.0222737 , 0.02225733, 0.02293865, 0.02260653, 0.        ,\n",
      "       0.        , 0.        , 0.        , 0.        , 0.        ,\n",
      "       0.02294437, 0.02260598, 0.0232687 , 0.02325924, 0.        ,\n",
      "       0.        , 0.        , 0.        , 0.        , 0.        ,\n",
      "       0.02292148, 0.02292864, 0.03622715, 0.02358309, 0.        ,\n",
      "       0.        , 0.        , 0.        , 0.        , 0.        ,\n",
      "       0.02593104, 0.02393603, 0.02526514, 0.02559884, 0.        ,\n",
      "       0.        , 0.        , 0.        , 0.        , 0.        ]), 'std_score_time': array([1.24281704e-03, 1.23908190e-03, 2.97360213e-07, 9.40436685e-04,\n",
      "       0.00000000e+00, 0.00000000e+00, 0.00000000e+00, 0.00000000e+00,\n",
      "       0.00000000e+00, 0.00000000e+00, 8.07588271e-04, 4.70077860e-04,\n",
      "       4.71204672e-04, 4.53275349e-04, 0.00000000e+00, 0.00000000e+00,\n",
      "       0.00000000e+00, 0.00000000e+00, 0.00000000e+00, 0.00000000e+00,\n",
      "       1.28927417e-05, 1.47798154e-05, 1.87928302e-02, 9.54598026e-04,\n",
      "       0.00000000e+00, 0.00000000e+00, 0.00000000e+00, 0.00000000e+00,\n",
      "       0.00000000e+00, 0.00000000e+00, 2.15438810e-03, 1.94667955e-07,\n",
      "       4.70415519e-04, 9.40324293e-04, 0.00000000e+00, 0.00000000e+00,\n",
      "       0.00000000e+00, 0.00000000e+00, 0.00000000e+00, 0.00000000e+00]), 'param_criterion': masked_array(data=['gini', 'gini', 'gini', 'gini', 'gini', 'gini', 'gini',\n",
      "                   'gini', 'gini', 'gini', 'gini', 'gini', 'gini', 'gini',\n",
      "                   'gini', 'gini', 'gini', 'gini', 'gini', 'gini', 'gini',\n",
      "                   'gini', 'gini', 'gini', 'gini', 'gini', 'gini', 'gini',\n",
      "                   'gini', 'gini', 'gini', 'gini', 'gini', 'gini', 'gini',\n",
      "                   'gini', 'gini', 'gini', 'gini', 'gini'],\n",
      "             mask=[False, False, False, False, False, False, False, False,\n",
      "                   False, False, False, False, False, False, False, False,\n",
      "                   False, False, False, False, False, False, False, False,\n",
      "                   False, False, False, False, False, False, False, False,\n",
      "                   False, False, False, False, False, False, False, False],\n",
      "       fill_value='?',\n",
      "            dtype=object), 'param_max_depth': masked_array(data=[3, 3, 3, 3, 3, 3, 3, 3, 3, 3, 5, 5, 5, 5, 5, 5, 5, 5,\n",
      "                   5, 5, 8, 8, 8, 8, 8, 8, 8, 8, 8, 8, 10, 10, 10, 10, 10,\n",
      "                   10, 10, 10, 10, 10],\n",
      "             mask=[False, False, False, False, False, False, False, False,\n",
      "                   False, False, False, False, False, False, False, False,\n",
      "                   False, False, False, False, False, False, False, False,\n",
      "                   False, False, False, False, False, False, False, False,\n",
      "                   False, False, False, False, False, False, False, False],\n",
      "       fill_value='?',\n",
      "            dtype=object), 'param_max_features': masked_array(data=[2, 2, 3, 3, 5, 5, 7, 7, 10, 10, 2, 2, 3, 3, 5, 5, 7, 7,\n",
      "                   10, 10, 2, 2, 3, 3, 5, 5, 7, 7, 10, 10, 2, 2, 3, 3, 5,\n",
      "                   5, 7, 7, 10, 10],\n",
      "             mask=[False, False, False, False, False, False, False, False,\n",
      "                   False, False, False, False, False, False, False, False,\n",
      "                   False, False, False, False, False, False, False, False,\n",
      "                   False, False, False, False, False, False, False, False,\n",
      "                   False, False, False, False, False, False, False, False],\n",
      "       fill_value='?',\n",
      "            dtype=object), 'param_min_samples_leaf': masked_array(data=[2, 5, 2, 5, 2, 5, 2, 5, 2, 5, 2, 5, 2, 5, 2, 5, 2, 5,\n",
      "                   2, 5, 2, 5, 2, 5, 2, 5, 2, 5, 2, 5, 2, 5, 2, 5, 2, 5,\n",
      "                   2, 5, 2, 5],\n",
      "             mask=[False, False, False, False, False, False, False, False,\n",
      "                   False, False, False, False, False, False, False, False,\n",
      "                   False, False, False, False, False, False, False, False,\n",
      "                   False, False, False, False, False, False, False, False,\n",
      "                   False, False, False, False, False, False, False, False],\n",
      "       fill_value='?',\n",
      "            dtype=object), 'param_n_jobs': masked_array(data=[-1, -1, -1, -1, -1, -1, -1, -1, -1, -1, -1, -1, -1, -1,\n",
      "                   -1, -1, -1, -1, -1, -1, -1, -1, -1, -1, -1, -1, -1, -1,\n",
      "                   -1, -1, -1, -1, -1, -1, -1, -1, -1, -1, -1, -1],\n",
      "             mask=[False, False, False, False, False, False, False, False,\n",
      "                   False, False, False, False, False, False, False, False,\n",
      "                   False, False, False, False, False, False, False, False,\n",
      "                   False, False, False, False, False, False, False, False,\n",
      "                   False, False, False, False, False, False, False, False],\n",
      "       fill_value='?',\n",
      "            dtype=object), 'params': [{'criterion': 'gini', 'max_depth': 3, 'max_features': 2, 'min_samples_leaf': 2, 'n_jobs': -1}, {'criterion': 'gini', 'max_depth': 3, 'max_features': 2, 'min_samples_leaf': 5, 'n_jobs': -1}, {'criterion': 'gini', 'max_depth': 3, 'max_features': 3, 'min_samples_leaf': 2, 'n_jobs': -1}, {'criterion': 'gini', 'max_depth': 3, 'max_features': 3, 'min_samples_leaf': 5, 'n_jobs': -1}, {'criterion': 'gini', 'max_depth': 3, 'max_features': 5, 'min_samples_leaf': 2, 'n_jobs': -1}, {'criterion': 'gini', 'max_depth': 3, 'max_features': 5, 'min_samples_leaf': 5, 'n_jobs': -1}, {'criterion': 'gini', 'max_depth': 3, 'max_features': 7, 'min_samples_leaf': 2, 'n_jobs': -1}, {'criterion': 'gini', 'max_depth': 3, 'max_features': 7, 'min_samples_leaf': 5, 'n_jobs': -1}, {'criterion': 'gini', 'max_depth': 3, 'max_features': 10, 'min_samples_leaf': 2, 'n_jobs': -1}, {'criterion': 'gini', 'max_depth': 3, 'max_features': 10, 'min_samples_leaf': 5, 'n_jobs': -1}, {'criterion': 'gini', 'max_depth': 5, 'max_features': 2, 'min_samples_leaf': 2, 'n_jobs': -1}, {'criterion': 'gini', 'max_depth': 5, 'max_features': 2, 'min_samples_leaf': 5, 'n_jobs': -1}, {'criterion': 'gini', 'max_depth': 5, 'max_features': 3, 'min_samples_leaf': 2, 'n_jobs': -1}, {'criterion': 'gini', 'max_depth': 5, 'max_features': 3, 'min_samples_leaf': 5, 'n_jobs': -1}, {'criterion': 'gini', 'max_depth': 5, 'max_features': 5, 'min_samples_leaf': 2, 'n_jobs': -1}, {'criterion': 'gini', 'max_depth': 5, 'max_features': 5, 'min_samples_leaf': 5, 'n_jobs': -1}, {'criterion': 'gini', 'max_depth': 5, 'max_features': 7, 'min_samples_leaf': 2, 'n_jobs': -1}, {'criterion': 'gini', 'max_depth': 5, 'max_features': 7, 'min_samples_leaf': 5, 'n_jobs': -1}, {'criterion': 'gini', 'max_depth': 5, 'max_features': 10, 'min_samples_leaf': 2, 'n_jobs': -1}, {'criterion': 'gini', 'max_depth': 5, 'max_features': 10, 'min_samples_leaf': 5, 'n_jobs': -1}, {'criterion': 'gini', 'max_depth': 8, 'max_features': 2, 'min_samples_leaf': 2, 'n_jobs': -1}, {'criterion': 'gini', 'max_depth': 8, 'max_features': 2, 'min_samples_leaf': 5, 'n_jobs': -1}, {'criterion': 'gini', 'max_depth': 8, 'max_features': 3, 'min_samples_leaf': 2, 'n_jobs': -1}, {'criterion': 'gini', 'max_depth': 8, 'max_features': 3, 'min_samples_leaf': 5, 'n_jobs': -1}, {'criterion': 'gini', 'max_depth': 8, 'max_features': 5, 'min_samples_leaf': 2, 'n_jobs': -1}, {'criterion': 'gini', 'max_depth': 8, 'max_features': 5, 'min_samples_leaf': 5, 'n_jobs': -1}, {'criterion': 'gini', 'max_depth': 8, 'max_features': 7, 'min_samples_leaf': 2, 'n_jobs': -1}, {'criterion': 'gini', 'max_depth': 8, 'max_features': 7, 'min_samples_leaf': 5, 'n_jobs': -1}, {'criterion': 'gini', 'max_depth': 8, 'max_features': 10, 'min_samples_leaf': 2, 'n_jobs': -1}, {'criterion': 'gini', 'max_depth': 8, 'max_features': 10, 'min_samples_leaf': 5, 'n_jobs': -1}, {'criterion': 'gini', 'max_depth': 10, 'max_features': 2, 'min_samples_leaf': 2, 'n_jobs': -1}, {'criterion': 'gini', 'max_depth': 10, 'max_features': 2, 'min_samples_leaf': 5, 'n_jobs': -1}, {'criterion': 'gini', 'max_depth': 10, 'max_features': 3, 'min_samples_leaf': 2, 'n_jobs': -1}, {'criterion': 'gini', 'max_depth': 10, 'max_features': 3, 'min_samples_leaf': 5, 'n_jobs': -1}, {'criterion': 'gini', 'max_depth': 10, 'max_features': 5, 'min_samples_leaf': 2, 'n_jobs': -1}, {'criterion': 'gini', 'max_depth': 10, 'max_features': 5, 'min_samples_leaf': 5, 'n_jobs': -1}, {'criterion': 'gini', 'max_depth': 10, 'max_features': 7, 'min_samples_leaf': 2, 'n_jobs': -1}, {'criterion': 'gini', 'max_depth': 10, 'max_features': 7, 'min_samples_leaf': 5, 'n_jobs': -1}, {'criterion': 'gini', 'max_depth': 10, 'max_features': 10, 'min_samples_leaf': 2, 'n_jobs': -1}, {'criterion': 'gini', 'max_depth': 10, 'max_features': 10, 'min_samples_leaf': 5, 'n_jobs': -1}], 'split0_test_score': array([0.95662206, 0.96400554, 0.96400554, 0.95662206,        nan,\n",
      "              nan,        nan,        nan,        nan,        nan,\n",
      "       0.98477157, 0.98477157, 0.98477157, 0.98477157,        nan,\n",
      "              nan,        nan,        nan,        nan,        nan,\n",
      "       0.99769266, 0.99769266, 0.99769266, 0.99769266,        nan,\n",
      "              nan,        nan,        nan,        nan,        nan,\n",
      "       0.99769266, 0.99769266, 0.99769266, 0.99769266,        nan,\n",
      "              nan,        nan,        nan,        nan,        nan]), 'split1_test_score': array([0.96075716, 0.96075716, 0.96075716, 0.96075716,        nan,\n",
      "              nan,        nan,        nan,        nan,        nan,\n",
      "       0.98661127, 0.98661127, 0.98661127, 0.98661127,        nan,\n",
      "              nan,        nan,        nan,        nan,        nan,\n",
      "       0.99722992, 0.99722992, 0.99722992, 0.99722992,        nan,\n",
      "              nan,        nan,        nan,        nan,        nan,\n",
      "       0.99722992, 0.99722992, 0.99722992, 0.99722992,        nan,\n",
      "              nan,        nan,        nan,        nan,        nan]), 'split2_test_score': array([0.96352724, 0.96352724, 0.98014774, 0.95567867,        nan,\n",
      "              nan,        nan,        nan,        nan,        nan,\n",
      "       0.98476454, 0.98476454, 0.98476454, 0.98476454,        nan,\n",
      "              nan,        nan,        nan,        nan,        nan,\n",
      "       0.99584488, 0.99584488, 0.99584488, 0.99584488,        nan,\n",
      "              nan,        nan,        nan,        nan,        nan,\n",
      "       0.99584488, 0.99584488, 0.99584488, 0.99584488,        nan,\n",
      "              nan,        nan,        nan,        nan,        nan]), 'mean_test_score': array([0.96030215, 0.96276331, 0.96830348, 0.95768596,        nan,\n",
      "              nan,        nan,        nan,        nan,        nan,\n",
      "       0.98538246, 0.98538246, 0.98538246, 0.98538246,        nan,\n",
      "              nan,        nan,        nan,        nan,        nan,\n",
      "       0.99692248, 0.99692248, 0.99692248, 0.99692248,        nan,\n",
      "              nan,        nan,        nan,        nan,        nan,\n",
      "       0.99692248, 0.99692248, 0.99692248, 0.99692248,        nan,\n",
      "              nan,        nan,        nan,        nan,        nan]), 'std_test_score': array([0.00283733, 0.00143194, 0.0084795 , 0.00220555,        nan,\n",
      "              nan,        nan,        nan,        nan,        nan,\n",
      "       0.0008689 , 0.0008689 , 0.0008689 , 0.0008689 ,        nan,\n",
      "              nan,        nan,        nan,        nan,        nan,\n",
      "       0.00078505, 0.00078505, 0.00078505, 0.00078505,        nan,\n",
      "              nan,        nan,        nan,        nan,        nan,\n",
      "       0.00078505, 0.00078505, 0.00078505, 0.00078505,        nan,\n",
      "              nan,        nan,        nan,        nan,        nan]), 'rank_test_score': array([15, 14, 13, 16, 38, 37, 36, 35, 34, 33,  9,  9,  9,  9, 32, 31, 30,\n",
      "       29, 28, 26,  1,  1,  1,  1, 39, 25, 21, 20, 19, 18,  1,  1,  1,  1,\n",
      "       24, 17, 22, 23, 27, 40]), 'split0_train_score': array([0.95683287, 0.9621422 , 0.9621422 , 0.95683287,        nan,\n",
      "              nan,        nan,        nan,        nan,        nan,\n",
      "       0.9856879 , 0.9856879 , 0.9856879 , 0.9856879 ,        nan,\n",
      "              nan,        nan,        nan,        nan,        nan,\n",
      "       0.9965374 , 0.9965374 , 0.9965374 , 0.9965374 ,        nan,\n",
      "              nan,        nan,        nan,        nan,        nan,\n",
      "       0.9965374 , 0.9965374 , 0.9965374 , 0.9965374 ,        nan,\n",
      "              nan,        nan,        nan,        nan,        nan]), 'split1_train_score': array([0.96376644, 0.96376644, 0.96376644, 0.96376644,        nan,\n",
      "              nan,        nan,        nan,        nan,        nan,\n",
      "       0.98476806, 0.98476806, 0.98476806, 0.98476806,        nan,\n",
      "              nan,        nan,        nan,        nan,        nan,\n",
      "       0.99676898, 0.99676898, 0.99676898, 0.99676898,        nan,\n",
      "              nan,        nan,        nan,        nan,        nan,\n",
      "       0.99676898, 0.99676898, 0.99676898, 0.99676898,        nan,\n",
      "              nan,        nan,        nan,        nan,        nan]), 'split2_train_score': array([0.96238172, 0.96238172, 0.98084468, 0.95522733,        nan,\n",
      "              nan,        nan,        nan,        nan,        nan,\n",
      "       0.98569121, 0.98569121, 0.98569121, 0.98569121,        nan,\n",
      "              nan,        nan,        nan,        nan,        nan,\n",
      "       0.99746134, 0.99746134, 0.99746134, 0.99746134,        nan,\n",
      "              nan,        nan,        nan,        nan,        nan,\n",
      "       0.99746134, 0.99746134, 0.99746134, 0.99746134,        nan,\n",
      "              nan,        nan,        nan,        nan,        nan]), 'mean_train_score': array([0.96099368, 0.96276345, 0.96891777, 0.95860888,        nan,\n",
      "              nan,        nan,        nan,        nan,        nan,\n",
      "       0.98538239, 0.98538239, 0.98538239, 0.98538239,        nan,\n",
      "              nan,        nan,        nan,        nan,        nan,\n",
      "       0.99692257, 0.99692257, 0.99692257, 0.99692257,        nan,\n",
      "              nan,        nan,        nan,        nan,        nan,\n",
      "       0.99692257, 0.99692257, 0.99692257, 0.99692257,        nan,\n",
      "              nan,        nan,        nan,        nan,        nan]), 'std_train_score': array([0.00299595, 0.00071593, 0.00845962, 0.00370538,        nan,\n",
      "              nan,        nan,        nan,        nan,        nan,\n",
      "       0.0004344 , 0.0004344 , 0.0004344 , 0.0004344 ,        nan,\n",
      "              nan,        nan,        nan,        nan,        nan,\n",
      "       0.00039252, 0.00039252, 0.00039252, 0.00039252,        nan,\n",
      "              nan,        nan,        nan,        nan,        nan,\n",
      "       0.00039252, 0.00039252, 0.00039252, 0.00039252,        nan,\n",
      "              nan,        nan,        nan,        nan,        nan])}\n",
      "              precision    recall  f1-score   support\n",
      "\n",
      "           0       0.99      1.00      1.00      3365\n",
      "           1       1.00      0.99      1.00      3134\n",
      "\n",
      "    accuracy                           1.00      6499\n",
      "   macro avg       1.00      1.00      1.00      6499\n",
      "weighted avg       1.00      1.00      1.00      6499\n",
      "\n"
     ]
    },
    {
     "name": "stdout",
     "output_type": "stream",
     "text": [
      "best parameters are: KNeighborsClassifier(algorithm='ball_tree', weights='distance')\n",
      "cv results: {'mean_fit_time': array([0.00398946, 0.00531729]), 'std_fit_time': array([3.37174788e-07, 4.65415594e-04]), 'mean_score_time': array([0.01562484, 0.01428636]), 'std_score_time': array([0.00047025, 0.00045698]), 'param_algorithm': masked_array(data=['ball_tree', 'kd_tree'],\n",
      "             mask=[False, False],\n",
      "       fill_value='?',\n",
      "            dtype=object), 'param_weights': masked_array(data=['distance', 'distance'],\n",
      "             mask=[False, False],\n",
      "       fill_value='?',\n",
      "            dtype=object), 'params': [{'algorithm': 'ball_tree', 'weights': 'distance'}, {'algorithm': 'kd_tree', 'weights': 'distance'}], 'split0_test_score': array([0.99630826, 0.99630826]), 'split1_test_score': array([0.99907664, 0.99907664]), 'split2_test_score': array([0.99538319, 0.99538319]), 'mean_test_score': array([0.9969227, 0.9969227]), 'std_test_score': array([0.00156919, 0.00156919]), 'rank_test_score': array([1, 1]), 'split0_train_score': array([0.99722992, 0.99722992]), 'split1_train_score': array([0.99584583, 0.99584583]), 'split2_train_score': array([0.99769213, 0.99769213]), 'mean_train_score': array([0.99692263, 0.99692263]), 'std_train_score': array([0.00078444, 0.00078444])}\n",
      "              precision    recall  f1-score   support\n",
      "\n",
      "           0       0.99      1.00      1.00      3365\n",
      "           1       1.00      0.99      1.00      3134\n",
      "\n",
      "    accuracy                           1.00      6499\n",
      "   macro avg       1.00      1.00      1.00      6499\n",
      "weighted avg       1.00      1.00      1.00      6499\n",
      "\n",
      "best parameters are: SGDClassifier()\n",
      "cv results: {'mean_fit_time': array([0.00831079, 0.0106376 ]), 'std_fit_time': array([0.00094021, 0.00047075]), 'mean_score_time': array([0.00066527, 0.00099746]), 'std_score_time': array([4.70415116e-04, 2.97360213e-07]), 'param_learning_rate': masked_array(data=['optimal', 'optimal'],\n",
      "             mask=[False, False],\n",
      "       fill_value='?',\n",
      "            dtype=object), 'param_loss': masked_array(data=['hinge', 'log'],\n",
      "             mask=[False, False],\n",
      "       fill_value='?',\n",
      "            dtype=object), 'params': [{'learning_rate': 'optimal', 'loss': 'hinge'}, {'learning_rate': 'optimal', 'loss': 'log'}], 'split0_test_score': array([0.81402861, 0.79418551]), 'split1_test_score': array([0.78301016, 0.76685134]), 'split2_test_score': array([0.77931671, 0.7700831 ]), 'mean_test_score': array([0.79211849, 0.77703998]), 'std_test_score': array([0.015566 , 0.0121953]), 'rank_test_score': array([1, 2]), 'split0_train_score': array([0.81394275, 0.79870729]), 'split1_train_score': array([0.79159935, 0.76021232]), 'split2_train_score': array([0.79044542, 0.78029079]), 'mean_train_score': array([0.79866251, 0.7797368 ]), 'std_train_score': array([0.01081503, 0.01572039])}\n",
      "              precision    recall  f1-score   support\n",
      "\n",
      "           0       0.77      0.86      0.81      3365\n",
      "           1       0.83      0.72      0.77      3134\n",
      "\n",
      "    accuracy                           0.79      6499\n",
      "   macro avg       0.80      0.79      0.79      6499\n",
      "weighted avg       0.80      0.79      0.79      6499\n",
      "\n",
      "best parameters are: SVC(C=10, degree=1)\n",
      "cv results: {'mean_fit_time': array([0.25232553, 0.24368215, 0.16805228, 0.16921266, 0.06914218,\n",
      "       0.06881491, 0.05901154, 0.0601724 ]), 'std_fit_time': array([0.00857906, 0.00896962, 0.00388121, 0.00124346, 0.00577864,\n",
      "       0.00646372, 0.00316763, 0.00376158]), 'mean_score_time': array([0.06549128, 0.06748637, 0.04022559, 0.0405581 , 0.0166227 ,\n",
      "       0.01595807, 0.00531944, 0.00565179]), 'std_score_time': array([1.69498331e-03, 1.24434629e-03, 4.69965469e-04, 4.70358991e-04,\n",
      "       4.70302724e-04, 5.84003864e-07, 4.70302724e-04, 4.70583613e-04]), 'param_C': masked_array(data=[0.01, 0.01, 0.05, 0.05, 1, 1, 10, 10],\n",
      "             mask=[False, False, False, False, False, False, False, False],\n",
      "       fill_value='?',\n",
      "            dtype=object), 'param_degree': masked_array(data=[1, 2, 1, 2, 1, 2, 1, 2],\n",
      "             mask=[False, False, False, False, False, False, False, False],\n",
      "       fill_value='?',\n",
      "            dtype=object), 'param_kernel': masked_array(data=['rbf', 'rbf', 'rbf', 'rbf', 'rbf', 'rbf', 'rbf', 'rbf'],\n",
      "             mask=[False, False, False, False, False, False, False, False],\n",
      "       fill_value='?',\n",
      "            dtype=object), 'params': [{'C': 0.01, 'degree': 1, 'kernel': 'rbf'}, {'C': 0.01, 'degree': 2, 'kernel': 'rbf'}, {'C': 0.05, 'degree': 1, 'kernel': 'rbf'}, {'C': 0.05, 'degree': 2, 'kernel': 'rbf'}, {'C': 1, 'degree': 1, 'kernel': 'rbf'}, {'C': 1, 'degree': 2, 'kernel': 'rbf'}, {'C': 10, 'degree': 1, 'kernel': 'rbf'}, {'C': 10, 'degree': 2, 'kernel': 'rbf'}], 'split0_test_score': array([0.88140286, 0.88140286, 0.93124135, 0.93124135, 0.98707891,\n",
      "       0.98707891, 0.9972312 , 0.9972312 ]), 'split1_test_score': array([0.8744229 , 0.8744229 , 0.92059095, 0.92059095, 0.9856879 ,\n",
      "       0.9856879 , 0.99722992, 0.99722992]), 'split2_test_score': array([0.87811634, 0.87811634, 0.92936288, 0.92936288, 0.98430286,\n",
      "       0.98430286, 0.99630656, 0.99630656]), 'mean_test_score': array([0.8779807 , 0.8779807 , 0.92706506, 0.92706506, 0.98568989,\n",
      "       0.98568989, 0.99692256, 0.99692256]), 'std_test_score': array([0.00285117, 0.00285117, 0.00464168, 0.00464168, 0.00113332,\n",
      "       0.00113332, 0.00043558, 0.00043558]), 'rank_test_score': array([7, 7, 5, 5, 3, 3, 1, 1]), 'split0_train_score': array([0.88065559, 0.88065559, 0.92797784, 0.92797784, 0.98845799,\n",
      "       0.98845799, 0.99676824, 0.99676824]), 'split1_train_score': array([0.87306716, 0.87306716, 0.92407108, 0.92407108, 0.98522963,\n",
      "       0.98522963, 0.99676898, 0.99676898]), 'split2_train_score': array([0.88137549, 0.88137549, 0.92891761, 0.92891761, 0.98592199,\n",
      "       0.98592199, 0.99723056, 0.99723056]), 'mean_train_score': array([0.87836608, 0.87836608, 0.92698884, 0.92698884, 0.98653654,\n",
      "       0.98653654, 0.99692259, 0.99692259]), 'std_train_score': array([0.00375841, 0.00375841, 0.00209854, 0.00209854, 0.00138776,\n",
      "       0.00138776, 0.00021776, 0.00021776])}\n",
      "              precision    recall  f1-score   support\n",
      "\n",
      "           0       0.99      1.00      1.00      3365\n",
      "           1       1.00      0.99      1.00      3134\n",
      "\n",
      "    accuracy                           1.00      6499\n",
      "   macro avg       1.00      1.00      1.00      6499\n",
      "weighted avg       1.00      1.00      1.00      6499\n",
      "\n"
     ]
    }
   ],
   "source": [
    "fit_search(X_ts, y_train)"
   ]
  },
  {
   "cell_type": "code",
   "execution_count": 456,
   "metadata": {},
   "outputs": [
    {
     "name": "stdout",
     "output_type": "stream",
     "text": [
      "0.9969226034774581\n",
      "0.9975384615384615\n",
      "[[843   0]\n",
      " [  4 778]]\n"
     ]
    }
   ],
   "source": [
    "rf_model = RandomForestClassifier(max_depth=8, max_features=2, n_jobs=-1)\n",
    "rf_model.fit(X_ts, y_train2)\n",
    "# Predict on test set\n",
    "y_pred = rf_model.predict(X_tests)\n",
    "print(rf_model.score(X_ts, y_train2))\n",
    "print(rf_model.score(X_tests, y_test2))\n",
    "print(confusion_matrix(y_test2, y_pred))\n",
    "print(classification_report(y_test2, y_pred, target_names=['edible' , 'poisonous']))"
   ]
  },
  {
   "cell_type": "code",
   "execution_count": 472,
   "metadata": {},
   "outputs": [
    {
     "name": "stdout",
     "output_type": "stream",
     "text": [
      "0.9969226034774581\n",
      "0.9975384615384615\n",
      "[[843   0]\n",
      " [  4 778]]\n",
      "              precision    recall  f1-score   support\n",
      "\n",
      "      edible       1.00      1.00      1.00       843\n",
      "   poisonous       1.00      0.99      1.00       782\n",
      "\n",
      "    accuracy                           1.00      1625\n",
      "   macro avg       1.00      1.00      1.00      1625\n",
      "weighted avg       1.00      1.00      1.00      1625\n",
      "\n"
     ]
    }
   ],
   "source": [
    "kn_model = KNeighborsClassifier(algorithm='ball_tree', weights='distance')\n",
    "kn_model.fit(X_ts, y_train2)\n",
    "# Predict on test set\n",
    "y_pred = kn_model.predict(X_tests)\n",
    "print(kn_model.score(X_ts, y_train2))\n",
    "print(kn_model.score(X_tests, y_test2))\n",
    "print(confusion_matrix(y_test2, y_pred))\n",
    "print(classification_report(y_test2, y_pred, target_names=['edible' , 'poisonous']))"
   ]
  },
  {
   "cell_type": "code",
   "execution_count": 473,
   "metadata": {},
   "outputs": [
    {
     "name": "stdout",
     "output_type": "stream",
     "text": [
      "0.9969226034774581\n",
      "0.9975384615384615\n",
      "[[843   0]\n",
      " [  4 778]]\n",
      "              precision    recall  f1-score   support\n",
      "\n",
      "      edible       1.00      1.00      1.00       843\n",
      "   poisonous       1.00      0.99      1.00       782\n",
      "\n",
      "    accuracy                           1.00      1625\n",
      "   macro avg       1.00      1.00      1.00      1625\n",
      "weighted avg       1.00      1.00      1.00      1625\n",
      "\n"
     ]
    }
   ],
   "source": [
    "svc_model = SVC(C=10, degree=1)\n",
    "svc_model.fit(X_ts, y_train2)\n",
    "# Predict on test set\n",
    "y_pred = svc_model.predict(X_tests)\n",
    "print(svc_model.score(X_ts, y_train2))\n",
    "print(svc_model.score(X_tests, y_test2))\n",
    "print(confusion_matrix(y_test2, y_pred))\n",
    "print(classification_report(y_test2, y_pred, target_names=['edible' , 'poisonous']))"
   ]
  },
  {
   "cell_type": "code",
   "execution_count": 474,
   "metadata": {},
   "outputs": [
    {
     "name": "stdout",
     "output_type": "stream",
     "text": [
      "0.7978150484689952\n",
      "0.8043076923076923\n",
      "[[715 128]\n",
      " [190 592]]\n",
      "              precision    recall  f1-score   support\n",
      "\n",
      "      edible       0.79      0.85      0.82       843\n",
      "   poisonous       0.82      0.76      0.79       782\n",
      "\n",
      "    accuracy                           0.80      1625\n",
      "   macro avg       0.81      0.80      0.80      1625\n",
      "weighted avg       0.81      0.80      0.80      1625\n",
      "\n"
     ]
    }
   ],
   "source": [
    "sgd_model = SGDClassifier()\n",
    "sgd_model.fit(X_ts, y_train2)\n",
    "sgd_model.score(X_tests, y_test2)\n",
    "# Predict on test set\n",
    "y_pred = sgd_model.predict(X_tests)\n",
    "print(sgd_model.score(X_ts, y_train2))\n",
    "print(sgd_model.score(X_tests, y_test2))\n",
    "print(confusion_matrix(y_test2, y_pred))\n",
    "print(classification_report(y_test2, y_pred, target_names=['edible' , 'poisonous']))"
   ]
  },
  {
   "cell_type": "markdown",
   "metadata": {},
   "source": [
    "# feature selected dataset ohe"
   ]
  },
  {
   "cell_type": "code",
   "execution_count": 526,
   "metadata": {},
   "outputs": [],
   "source": [
    "# classification models used to fit data\n",
    "models = {\n",
    "    'clf_randforest': RandomForestClassifier(),\n",
    "    'clf_knn': KNeighborsClassifier(),\n",
    "    'clf_sgdc': SGDClassifier(),\n",
    "    'clf_svm': SVC(),\n",
    "                                                            }\n",
    "# the optimization parameters for each of the above models\n",
    "params = {\n",
    "    'clf_randforest':{ \n",
    "        'n_jobs': [-1],\n",
    "        #'max_features': [2, 3, 5, 7, 10],\n",
    "        'criterion': ['gini'],\n",
    "        'max_depth':[3, 5, 8, 10],\n",
    "},\n",
    "    \n",
    "    'clf_knn': {\n",
    "        'weights': ['distance'],\n",
    "        'algorithm': ['ball_tree', 'kd_tree'],\n",
    "      \n",
    "},\n",
    "\n",
    "    'clf_sgdc' : {\n",
    "        'learning_rate': ['optimal'],\n",
    "        'loss':['hinge', 'log',],\n",
    "},\n",
    "    \n",
    "    'clf_svm' : {\n",
    "        'kernel': ['rbf',], \n",
    "        'degree' : [1, 2,],\n",
    "        'C': [.01, .05, 1, 10, ],\n",
    "},\n",
    "    \n",
    "}"
   ]
  },
  {
   "cell_type": "code",
   "execution_count": 527,
   "metadata": {},
   "outputs": [
    {
     "name": "stdout",
     "output_type": "stream",
     "text": [
      "best parameters are: RandomForestClassifier(max_depth=10, n_jobs=-1)\n",
      "cv results: {'mean_fit_time': array([0.6828533 , 0.10239752, 0.10139513, 0.098406  ]), 'std_fit_time': array([0.83099803, 0.00248443, 0.00285953, 0.00401973]), 'mean_score_time': array([0.02592707, 0.02692334, 0.02626332, 0.02459908]), 'std_score_time': array([0.00293823, 0.00495458, 0.00204915, 0.00169652]), 'param_criterion': masked_array(data=['gini', 'gini', 'gini', 'gini'],\n",
      "             mask=[False, False, False, False],\n",
      "       fill_value='?',\n",
      "            dtype=object), 'param_max_depth': masked_array(data=[3, 5, 8, 10],\n",
      "             mask=[False, False, False, False],\n",
      "       fill_value='?',\n",
      "            dtype=object), 'param_n_jobs': masked_array(data=[-1, -1, -1, -1],\n",
      "             mask=[False, False, False, False],\n",
      "       fill_value='?',\n",
      "            dtype=object), 'params': [{'criterion': 'gini', 'max_depth': 3, 'n_jobs': -1}, {'criterion': 'gini', 'max_depth': 5, 'n_jobs': -1}, {'criterion': 'gini', 'max_depth': 8, 'n_jobs': -1}, {'criterion': 'gini', 'max_depth': 10, 'n_jobs': -1}], 'split0_test_score': array([0.93724042, 0.96354407, 0.96723581, 0.96954315]), 'split1_test_score': array([0.94598338, 0.96952909, 0.97460757, 0.97460757]), 'split2_test_score': array([0.93074792, 0.94182825, 0.96814404, 0.97137581]), 'mean_test_score': array([0.93799058, 0.95830047, 0.96999581, 0.97184218]), 'std_test_score': array([0.00624243, 0.01190113, 0.00328202, 0.00209368]), 'rank_test_score': array([4, 3, 2, 1]), 'split0_train_score': array([0.93905817, 0.96745152, 0.96975993, 0.97299169]), 'split1_train_score': array([0.94230325, 0.9644588 , 0.97045927, 0.97045927]), 'split2_train_score': array([0.93353335, 0.94438034, 0.96930533, 0.97207477]), 'mean_train_score': array([0.93829826, 0.95876356, 0.96984151, 0.97184191]), 'std_train_score': array([0.0036204 , 0.01024359, 0.00047461, 0.00104689])}\n",
      "              precision    recall  f1-score   support\n",
      "\n",
      "           0       0.95      1.00      0.97      3365\n",
      "           1       1.00      0.94      0.97      3134\n",
      "\n",
      "    accuracy                           0.97      6499\n",
      "   macro avg       0.97      0.97      0.97      6499\n",
      "weighted avg       0.97      0.97      0.97      6499\n",
      "\n",
      "best parameters are: KNeighborsClassifier(algorithm='ball_tree', weights='distance')\n",
      "cv results: {'mean_fit_time': array([0.01795189, 0.02476954]), 'std_fit_time': array([2.97360213e-07, 2.24127907e-03]), 'mean_score_time': array([0.0914224 , 0.08179204]), 'std_score_time': array([0.00204945, 0.0021694 ]), 'param_algorithm': masked_array(data=['ball_tree', 'kd_tree'],\n",
      "             mask=[False, False],\n",
      "       fill_value='?',\n",
      "            dtype=object), 'param_weights': masked_array(data=['distance', 'distance'],\n",
      "             mask=[False, False],\n",
      "       fill_value='?',\n",
      "            dtype=object), 'params': [{'algorithm': 'ball_tree', 'weights': 'distance'}, {'algorithm': 'kd_tree', 'weights': 'distance'}], 'split0_test_score': array([0.97461929, 0.97461929]), 'split1_test_score': array([0.97137581, 0.97137581]), 'split2_test_score': array([0.96952909, 0.96952909]), 'mean_test_score': array([0.97184139, 0.97184139]), 'std_test_score': array([0.00210398, 0.00210398]), 'rank_test_score': array([1, 1]), 'split0_train_score': array([0.97045245, 0.97045245]), 'split1_train_score': array([0.97207477, 0.97207477]), 'split2_train_score': array([0.97299792, 0.97299792]), 'mean_train_score': array([0.97184171, 0.97184171]), 'std_train_score': array([0.00105217, 0.00105217])}\n",
      "              precision    recall  f1-score   support\n",
      "\n",
      "           0       0.95      1.00      0.97      3365\n",
      "           1       1.00      0.94      0.97      3134\n",
      "\n",
      "    accuracy                           0.97      6499\n",
      "   macro avg       0.97      0.97      0.97      6499\n",
      "weighted avg       0.97      0.97      0.97      6499\n",
      "\n",
      "best parameters are: SGDClassifier()\n",
      "cv results: {'mean_fit_time': array([0.01196814, 0.01296528]), 'std_fit_time': array([0.00215428, 0.0035495 ]), 'mean_score_time': array([0.00066479, 0.00099738]), 'std_score_time': array([4.70077860e-04, 1.12391596e-07]), 'param_learning_rate': masked_array(data=['optimal', 'optimal'],\n",
      "             mask=[False, False],\n",
      "       fill_value='?',\n",
      "            dtype=object), 'param_loss': masked_array(data=['hinge', 'log'],\n",
      "             mask=[False, False],\n",
      "       fill_value='?',\n",
      "            dtype=object), 'params': [{'learning_rate': 'optimal', 'loss': 'hinge'}, {'learning_rate': 'optimal', 'loss': 'log'}], 'split0_test_score': array([0.9603138 , 0.94877711]), 'split1_test_score': array([0.95844875, 0.93951985]), 'split2_test_score': array([0.95614035, 0.94090489]), 'mean_test_score': array([0.95830097, 0.94306729]), 'std_test_score': array([0.001707  , 0.00407686]), 'rank_test_score': array([1, 2]), 'split0_train_score': array([0.95729455, 0.94713758]), 'split1_train_score': array([0.95822756, 0.93722594]), 'split2_train_score': array([0.95938149, 0.94114932]), 'mean_train_score': array([0.9583012 , 0.94183761]), 'std_train_score': array([0.00085358, 0.00407557])}\n",
      "              precision    recall  f1-score   support\n",
      "\n",
      "           0       0.94      0.98      0.96      3365\n",
      "           1       0.98      0.94      0.96      3134\n",
      "\n",
      "    accuracy                           0.96      6499\n",
      "   macro avg       0.96      0.96      0.96      6499\n",
      "weighted avg       0.96      0.96      0.96      6499\n",
      "\n",
      "best parameters are: SVC(C=1, degree=1)\n",
      "cv results: {'mean_fit_time': array([0.29155453, 0.31333208, 0.15059392, 0.18017483, 0.04987764,\n",
      "       0.05183395, 0.0482041 , 0.0482045 ]), 'std_fit_time': array([0.00124297, 0.02673035, 0.00373697, 0.02925904, 0.00141805,\n",
      "       0.0028093 , 0.00047008, 0.0018807 ]), 'mean_score_time': array([0.10838143, 0.11170101, 0.05817803, 0.05518579, 0.01860587,\n",
      "       0.01946052, 0.01740829, 0.01728733]), 'std_score_time': array([0.00245561, 0.0016282 , 0.00124354, 0.00261764, 0.00046307,\n",
      "       0.0007225 , 0.00112053, 0.00047047]), 'param_C': masked_array(data=[0.01, 0.01, 0.05, 0.05, 1, 1, 10, 10],\n",
      "             mask=[False, False, False, False, False, False, False, False],\n",
      "       fill_value='?',\n",
      "            dtype=object), 'param_degree': masked_array(data=[1, 2, 1, 2, 1, 2, 1, 2],\n",
      "             mask=[False, False, False, False, False, False, False, False],\n",
      "       fill_value='?',\n",
      "            dtype=object), 'param_kernel': masked_array(data=['rbf', 'rbf', 'rbf', 'rbf', 'rbf', 'rbf', 'rbf', 'rbf'],\n",
      "             mask=[False, False, False, False, False, False, False, False],\n",
      "       fill_value='?',\n",
      "            dtype=object), 'params': [{'C': 0.01, 'degree': 1, 'kernel': 'rbf'}, {'C': 0.01, 'degree': 2, 'kernel': 'rbf'}, {'C': 0.05, 'degree': 1, 'kernel': 'rbf'}, {'C': 0.05, 'degree': 2, 'kernel': 'rbf'}, {'C': 1, 'degree': 1, 'kernel': 'rbf'}, {'C': 1, 'degree': 2, 'kernel': 'rbf'}, {'C': 10, 'degree': 1, 'kernel': 'rbf'}, {'C': 10, 'degree': 2, 'kernel': 'rbf'}], 'split0_test_score': array([0.90586064, 0.90586064, 0.94739271, 0.94739271, 0.97185048,\n",
      "       0.97185048, 0.97185048, 0.97185048]), 'split1_test_score': array([0.9122807 , 0.9122807 , 0.9455217 , 0.9455217 , 0.97368421,\n",
      "       0.97368421, 0.97368421, 0.97368421]), 'split2_test_score': array([0.90627886, 0.90627886, 0.94182825, 0.94182825, 0.96999077,\n",
      "       0.96999077, 0.96999077, 0.96999077]), 'mean_test_score': array([0.90814006, 0.90814006, 0.94491422, 0.94491422, 0.97184182,\n",
      "       0.97184182, 0.97184182, 0.97184182]), 'std_test_score': array([0.00293285, 0.00293285, 0.00231193, 0.00231193, 0.00150785,\n",
      "       0.00150785, 0.00150785, 0.00150785]), 'rank_test_score': array([7, 7, 5, 5, 1, 1, 1, 1]), 'split0_train_score': array([0.90927978, 0.90927978, 0.94967682, 0.94967682, 0.97183749,\n",
      "       0.97183749, 0.97183749, 0.97183749]), 'split1_train_score': array([0.9060697 , 0.9060697 , 0.94068775, 0.94068775, 0.97092084,\n",
      "       0.97092084, 0.97092084, 0.97092084]), 'split2_train_score': array([0.90906993, 0.90906993, 0.94668821, 0.94668821, 0.97276714,\n",
      "       0.97276714, 0.97276714, 0.97276714]), 'mean_train_score': array([0.9081398 , 0.9081398 , 0.94568426, 0.94568426, 0.97184182,\n",
      "       0.97184182, 0.97184182, 0.97184182]), 'std_train_score': array([0.00146629, 0.00146629, 0.00373781, 0.00373781, 0.00075375,\n",
      "       0.00075375, 0.00075375, 0.00075375])}\n",
      "              precision    recall  f1-score   support\n",
      "\n",
      "           0       0.95      1.00      0.97      3365\n",
      "           1       1.00      0.94      0.97      3134\n",
      "\n",
      "    accuracy                           0.97      6499\n",
      "   macro avg       0.97      0.97      0.97      6499\n",
      "weighted avg       0.97      0.97      0.97      6499\n",
      "\n"
     ]
    }
   ],
   "source": [
    "fit_search(X_train3, y_train3)"
   ]
  },
  {
   "cell_type": "code",
   "execution_count": 529,
   "metadata": {},
   "outputs": [
    {
     "name": "stdout",
     "output_type": "stream",
     "text": [
      "0.9718418218187413\n",
      "0.9747692307692307\n",
      "[[843   0]\n",
      " [ 41 741]]\n",
      "              precision    recall  f1-score   support\n",
      "\n",
      "      edible       0.95      1.00      0.98       843\n",
      "   poisonous       1.00      0.95      0.97       782\n",
      "\n",
      "    accuracy                           0.97      1625\n",
      "   macro avg       0.98      0.97      0.97      1625\n",
      "weighted avg       0.98      0.97      0.97      1625\n",
      "\n"
     ]
    }
   ],
   "source": [
    "rf_model = RandomForestClassifier(max_depth=10, n_jobs=-1, criterion='gini')\n",
    "rf_model.fit(X_train3, y_train3)\n",
    "# Predict on test set\n",
    "y_pred = rf_model.predict(X_test3)\n",
    "print(rf_model.score(X_train3, y_train3))\n",
    "print(rf_model.score(X_test3, y_test3))\n",
    "print(confusion_matrix(y_test3, y_pred))\n",
    "print(classification_report(y_test3, y_pred, target_names=['edible' , 'poisonous']))"
   ]
  },
  {
   "cell_type": "code",
   "execution_count": 507,
   "metadata": {},
   "outputs": [
    {
     "ename": "SyntaxError",
     "evalue": "unexpected EOF while parsing (<ipython-input-507-bfd7ff23bd1c>, line 1)",
     "output_type": "error",
     "traceback": [
      "\u001b[1;36m  File \u001b[1;32m\"<ipython-input-507-bfd7ff23bd1c>\"\u001b[1;36m, line \u001b[1;32m1\u001b[0m\n\u001b[1;33m    print([y_test3.names[rf.predict([[y_test3]])]\u001b[0m\n\u001b[1;37m                                                 ^\u001b[0m\n\u001b[1;31mSyntaxError\u001b[0m\u001b[1;31m:\u001b[0m unexpected EOF while parsing\n"
     ]
    }
   ],
   "source": [
    "print([y_test3.names[rf_model.predict([[y_test3]])]\n",
    "       print(iris.target_names[knn.predict([[3, 5, 4, 2]])])"
   ]
  },
  {
   "cell_type": "code",
   "execution_count": 475,
   "metadata": {},
   "outputs": [
    {
     "name": "stdout",
     "output_type": "stream",
     "text": [
      "0.9718418218187413\n",
      "0.9747692307692307\n",
      "[[843   0]\n",
      " [ 41 741]]\n",
      "              precision    recall  f1-score   support\n",
      "\n",
      "      edible       0.95      1.00      0.98       843\n",
      "   poisonous       1.00      0.95      0.97       782\n",
      "\n",
      "    accuracy                           0.97      1625\n",
      "   macro avg       0.98      0.97      0.97      1625\n",
      "weighted avg       0.98      0.97      0.97      1625\n",
      "\n"
     ]
    }
   ],
   "source": [
    "kn_model = KNeighborsClassifier(algorithm='ball_tree', weights='distance')\n",
    "kn_model.fit(X_train3, y_train3)\n",
    "\n",
    "# Predict on test set\n",
    "y_pred = kn_model.predict(X_test3)\n",
    "print(kn_model.score(X_train3, y_train3))\n",
    "print(kn_model.score(X_test3, y_test3))\n",
    "print(confusion_matrix(y_test3, y_pred))\n",
    "print(classification_report(y_test3, y_pred, target_names=['edible' , 'poisonous']))"
   ]
  },
  {
   "cell_type": "code",
   "execution_count": 476,
   "metadata": {},
   "outputs": [
    {
     "name": "stdout",
     "output_type": "stream",
     "text": [
      "0.9718418218187413\n",
      "0.9747692307692307\n",
      "[[843   0]\n",
      " [ 41 741]]\n",
      "              precision    recall  f1-score   support\n",
      "\n",
      "      edible       0.95      1.00      0.98       843\n",
      "   poisonous       1.00      0.95      0.97       782\n",
      "\n",
      "    accuracy                           0.97      1625\n",
      "   macro avg       0.98      0.97      0.97      1625\n",
      "weighted avg       0.98      0.97      0.97      1625\n",
      "\n"
     ]
    }
   ],
   "source": [
    "svc_model = SVC(C=1, degree=1)\n",
    "svc_model.fit(X_train3, y_train3)\n",
    "# Predict on test set\n",
    "y_pred = svc_model.predict(X_test3)\n",
    "print(svc_model.score(X_train3, y_train3))\n",
    "print(svc_model.score(X_test3, y_test3))\n",
    "print(confusion_matrix(y_test3, y_pred))\n",
    "print(classification_report(y_test3, y_pred, target_names=['edible' , 'poisonous']))"
   ]
  },
  {
   "cell_type": "code",
   "execution_count": 477,
   "metadata": {
    "scrolled": true
   },
   "outputs": [
    {
     "name": "stdout",
     "output_type": "stream",
     "text": [
      "0.9583012771195568\n",
      "0.955076923076923\n",
      "[[816  27]\n",
      " [ 46 736]]\n",
      "              precision    recall  f1-score   support\n",
      "\n",
      "      edible       0.95      0.97      0.96       843\n",
      "   poisonous       0.96      0.94      0.95       782\n",
      "\n",
      "    accuracy                           0.96      1625\n",
      "   macro avg       0.96      0.95      0.95      1625\n",
      "weighted avg       0.96      0.96      0.96      1625\n",
      "\n"
     ]
    }
   ],
   "source": [
    "sgd_model = SGDClassifier()\n",
    "sgd_model.fit(X_train3, y_train3)\n",
    "sgd_model.score(X_test3, y_test3)\n",
    "# Predict on test set\n",
    "y_pred = sgd_model.predict(X_test3)\n",
    "print(sgd_model.score(X_train3, y_train3))\n",
    "print(sgd_model.score(X_test3, y_test3))\n",
    "print(confusion_matrix(y_test3, y_pred))\n",
    "print(classification_report(y_test3, y_pred, target_names=['edible' , 'poisonous']))"
   ]
  },
  {
   "cell_type": "markdown",
   "metadata": {},
   "source": [
    "# features selected by var"
   ]
  },
  {
   "cell_type": "code",
   "execution_count": 528,
   "metadata": {},
   "outputs": [
    {
     "name": "stdout",
     "output_type": "stream",
     "text": [
      "best parameters are: RandomForestClassifier(max_depth=10, n_jobs=-1)\n",
      "cv results: {'mean_fit_time': array([0.10439754, 0.10572783, 0.10673674, 0.10872046]), 'std_fit_time': array([0.0044713 , 0.00242995, 0.00216962, 0.00374574]), 'mean_score_time': array([0.02259604, 0.02359327, 0.02291679, 0.02425742]), 'std_score_time': array([0.00048497, 0.00124093, 0.0008014 , 0.00093322]), 'param_criterion': masked_array(data=['gini', 'gini', 'gini', 'gini'],\n",
      "             mask=[False, False, False, False],\n",
      "       fill_value='?',\n",
      "            dtype=object), 'param_max_depth': masked_array(data=[3, 5, 8, 10],\n",
      "             mask=[False, False, False, False],\n",
      "       fill_value='?',\n",
      "            dtype=object), 'param_n_jobs': masked_array(data=[-1, -1, -1, -1],\n",
      "             mask=[False, False, False, False],\n",
      "       fill_value='?',\n",
      "            dtype=object), 'params': [{'criterion': 'gini', 'max_depth': 3, 'n_jobs': -1}, {'criterion': 'gini', 'max_depth': 5, 'n_jobs': -1}, {'criterion': 'gini', 'max_depth': 8, 'n_jobs': -1}, {'criterion': 'gini', 'max_depth': 10, 'n_jobs': -1}], 'split0_test_score': array([0.94370097, 0.98800185, 0.9972312 , 0.9972312 ]), 'split1_test_score': array([0.94598338, 0.98938135, 0.99538319, 0.99538319]), 'split2_test_score': array([0.9501385 , 0.98384118, 0.99630656, 0.99815328]), 'mean_test_score': array([0.94660762, 0.98707479, 0.99630698, 0.99692256]), 'std_test_score': array([0.00266492, 0.00235484, 0.00075444, 0.00115175]), 'rank_test_score': array([4, 3, 2, 1]), 'split0_train_score': array([0.93975069, 0.98822715, 0.99676824, 0.99676824]), 'split1_train_score': array([0.94484191, 0.9875375 , 0.99769213, 0.99769213]), 'split2_train_score': array([0.95545811, 0.98615278, 0.99630741, 0.99630741]), 'mean_train_score': array([0.94668357, 0.98730581, 0.99692259, 0.99692259]), 'std_train_score': array([0.00654342, 0.00086256, 0.00057575, 0.00057575])}\n",
      "              precision    recall  f1-score   support\n",
      "\n",
      "           0       0.99      1.00      1.00      3365\n",
      "           1       1.00      0.99      1.00      3134\n",
      "\n",
      "    accuracy                           1.00      6499\n",
      "   macro avg       1.00      1.00      1.00      6499\n",
      "weighted avg       1.00      1.00      1.00      6499\n",
      "\n",
      "best parameters are: KNeighborsClassifier(algorithm='ball_tree', weights='distance')\n",
      "cv results: {'mean_fit_time': array([0.03324445, 0.0428892 ]), 'std_fit_time': array([0.00046997, 0.00326303]), 'mean_score_time': array([0.23629459, 0.27343313]), 'std_score_time': array([0.00283601, 0.00653831]), 'param_algorithm': masked_array(data=['ball_tree', 'kd_tree'],\n",
      "             mask=[False, False],\n",
      "       fill_value='?',\n",
      "            dtype=object), 'param_weights': masked_array(data=['distance', 'distance'],\n",
      "             mask=[False, False],\n",
      "       fill_value='?',\n",
      "            dtype=object), 'params': [{'algorithm': 'ball_tree', 'weights': 'distance'}, {'algorithm': 'kd_tree', 'weights': 'distance'}], 'split0_test_score': array([0.99584679, 0.99584679]), 'split1_test_score': array([0.99584488, 0.99584488]), 'split2_test_score': array([0.99030471, 0.99030471]), 'mean_test_score': array([0.99399879, 0.99399879]), 'std_test_score': array([0.00261211, 0.00261211]), 'rank_test_score': array([1, 1]), 'split0_train_score': array([0.99746076, 0.99746076]), 'split1_train_score': array([0.99746134, 0.99746134]), 'split2_train_score': array([0.99192246, 0.99192246]), 'mean_train_score': array([0.99561485, 0.99561485]), 'std_train_score': array([0.00261092, 0.00261092])}\n",
      "              precision    recall  f1-score   support\n",
      "\n",
      "           0       0.99      1.00      1.00      3365\n",
      "           1       1.00      0.99      1.00      3134\n",
      "\n",
      "    accuracy                           1.00      6499\n",
      "   macro avg       1.00      1.00      1.00      6499\n",
      "weighted avg       1.00      1.00      1.00      6499\n",
      "\n",
      "best parameters are: SGDClassifier()\n",
      "cv results: {'mean_fit_time': array([0.00465425, 0.00598359]), 'std_fit_time': array([4.70246438e-04, 1.94667955e-07]), 'mean_score_time': array([0.00066471, 0.00066511]), 'std_score_time': array([0.00047002, 0.0004703 ]), 'param_learning_rate': masked_array(data=['optimal', 'optimal'],\n",
      "             mask=[False, False],\n",
      "       fill_value='?',\n",
      "            dtype=object), 'param_loss': masked_array(data=['hinge', 'log'],\n",
      "             mask=[False, False],\n",
      "       fill_value='?',\n",
      "            dtype=object), 'params': [{'learning_rate': 'optimal', 'loss': 'hinge'}, {'learning_rate': 'optimal', 'loss': 'log'}], 'split0_test_score': array([0.9972312, 0.9972312]), 'split1_test_score': array([0.99630656, 0.99630656]), 'split2_test_score': array([0.99722992, 0.99722992]), 'mean_test_score': array([0.99692256, 0.99692256]), 'std_test_score': array([0.00043558, 0.00043558]), 'rank_test_score': array([1, 1]), 'split0_train_score': array([0.99676824, 0.99676824]), 'split1_train_score': array([0.99723056, 0.99723056]), 'split2_train_score': array([0.99676898, 0.99676898]), 'mean_train_score': array([0.99692259, 0.99692259]), 'std_train_score': array([0.00021776, 0.00021776])}\n",
      "              precision    recall  f1-score   support\n",
      "\n",
      "           0       0.99      1.00      1.00      3365\n",
      "           1       1.00      0.99      1.00      3134\n",
      "\n",
      "    accuracy                           1.00      6499\n",
      "   macro avg       1.00      1.00      1.00      6499\n",
      "weighted avg       1.00      1.00      1.00      6499\n",
      "\n",
      "best parameters are: SVC(C=1, degree=1)\n",
      "cv results: {'mean_fit_time': array([0.41559513, 0.41723855, 0.17352589, 0.17154121, 0.03591402,\n",
      "       0.03423834, 0.03091081, 0.03257942]), 'std_fit_time': array([0.00725975, 0.00369796, 0.00431861, 0.00282097, 0.00140315,\n",
      "       0.00259601, 0.00141163, 0.00235095]), 'mean_score_time': array([0.15657902, 0.15458655, 0.07115404, 0.07014592, 0.01195796,\n",
      "       0.0113043 , 0.01013867, 0.00964093]), 'std_score_time': array([0.00212468, 0.00407197, 0.00408416, 0.00339023, 0.00081443,\n",
      "       0.00046957, 0.00084723, 0.00094004]), 'param_C': masked_array(data=[0.01, 0.01, 0.05, 0.05, 1, 1, 10, 10],\n",
      "             mask=[False, False, False, False, False, False, False, False],\n",
      "       fill_value='?',\n",
      "            dtype=object), 'param_degree': masked_array(data=[1, 2, 1, 2, 1, 2, 1, 2],\n",
      "             mask=[False, False, False, False, False, False, False, False],\n",
      "       fill_value='?',\n",
      "            dtype=object), 'param_kernel': masked_array(data=['rbf', 'rbf', 'rbf', 'rbf', 'rbf', 'rbf', 'rbf', 'rbf'],\n",
      "             mask=[False, False, False, False, False, False, False, False],\n",
      "       fill_value='?',\n",
      "            dtype=object), 'params': [{'C': 0.01, 'degree': 1, 'kernel': 'rbf'}, {'C': 0.01, 'degree': 2, 'kernel': 'rbf'}, {'C': 0.05, 'degree': 1, 'kernel': 'rbf'}, {'C': 0.05, 'degree': 2, 'kernel': 'rbf'}, {'C': 1, 'degree': 1, 'kernel': 'rbf'}, {'C': 1, 'degree': 2, 'kernel': 'rbf'}, {'C': 10, 'degree': 1, 'kernel': 'rbf'}, {'C': 10, 'degree': 2, 'kernel': 'rbf'}], 'split0_test_score': array([0.92939548, 0.92939548, 0.98938625, 0.98938625, 0.99907707,\n",
      "       0.99907707, 0.99907707, 0.99907707]), 'split1_test_score': array([0.92336103, 0.92336103, 0.98614958, 0.98614958, 0.99538319,\n",
      "       0.99538319, 0.99538319, 0.99538319]), 'split2_test_score': array([0.93998153, 0.93998153, 0.98891967, 0.98891967, 0.99630656,\n",
      "       0.99630656, 0.99630656, 0.99630656]), 'mean_test_score': array([0.93091268, 0.93091268, 0.98815183, 0.98815183, 0.99692227,\n",
      "       0.99692227, 0.99692227, 0.99692227]), 'std_test_score': array([0.00686958, 0.00686958, 0.00142856, 0.00142856, 0.00156961,\n",
      "       0.00156961, 0.00156961, 0.00156961]), 'rank_test_score': array([7, 7, 5, 5, 1, 1, 1, 1]), 'split0_train_score': array([0.93167128, 0.93167128, 0.98753463, 0.98753463, 0.99584488,\n",
      "       0.99584488, 0.99584488, 0.99584488]), 'split1_train_score': array([0.93468728, 0.93468728, 0.98915301, 0.98915301, 0.99769213,\n",
      "       0.99769213, 0.99769213, 0.99769213]), 'split2_train_score': array([0.92637895, 0.92637895, 0.98776829, 0.98776829, 0.99723056,\n",
      "       0.99723056, 0.99723056, 0.99723056]), 'mean_train_score': array([0.93091251, 0.93091251, 0.98815198, 0.98815198, 0.99692252,\n",
      "       0.99692252, 0.99692252, 0.99692252]), 'std_train_score': array([0.00343404, 0.00343404, 0.00071424, 0.00071424, 0.00078496,\n",
      "       0.00078496, 0.00078496, 0.00078496])}\n",
      "              precision    recall  f1-score   support\n",
      "\n",
      "           0       0.99      1.00      1.00      3365\n",
      "           1       1.00      0.99      1.00      3134\n",
      "\n",
      "    accuracy                           1.00      6499\n",
      "   macro avg       1.00      1.00      1.00      6499\n",
      "weighted avg       1.00      1.00      1.00      6499\n",
      "\n"
     ]
    }
   ],
   "source": [
    "fit_search(X_train4, y_train4)"
   ]
  },
  {
   "cell_type": "code",
   "execution_count": 530,
   "metadata": {},
   "outputs": [
    {
     "name": "stdout",
     "output_type": "stream",
     "text": [
      "0.9969226034774581\n",
      "0.9975384615384615\n",
      "[[843   0]\n",
      " [  4 778]]\n",
      "              precision    recall  f1-score   support\n",
      "\n",
      "      edible       1.00      1.00      1.00       843\n",
      "   poisonous       1.00      0.99      1.00       782\n",
      "\n",
      "    accuracy                           1.00      1625\n",
      "   macro avg       1.00      1.00      1.00      1625\n",
      "weighted avg       1.00      1.00      1.00      1625\n",
      "\n"
     ]
    }
   ],
   "source": [
    "rf_model = RandomForestClassifier(max_depth=10, n_jobs=-1)\n",
    "rf_model.fit(X_train4, y_train4)\n",
    "# Predict on test set\n",
    "y_pred = rf_model.predict(X_test4)\n",
    "print(rf_model.score(X_train4, y_train4))\n",
    "print(rf_model.score(X_test4, y_test4))\n",
    "print(confusion_matrix(y_test4, y_pred))\n",
    "print(classification_report(y_test4, y_pred, target_names=['edible' , 'poisonous']))"
   ]
  },
  {
   "cell_type": "code",
   "execution_count": 531,
   "metadata": {},
   "outputs": [
    {
     "name": "stdout",
     "output_type": "stream",
     "text": [
      "0.9969226034774581\n",
      "0.9975384615384615\n",
      "[[843   0]\n",
      " [  4 778]]\n",
      "              precision    recall  f1-score   support\n",
      "\n",
      "      edible       1.00      1.00      1.00       843\n",
      "   poisonous       1.00      0.99      1.00       782\n",
      "\n",
      "    accuracy                           1.00      1625\n",
      "   macro avg       1.00      1.00      1.00      1625\n",
      "weighted avg       1.00      1.00      1.00      1625\n",
      "\n"
     ]
    }
   ],
   "source": [
    "kn_model = KNeighborsClassifier(algorithm='ball_tree', weights='distance')\n",
    "kn_model.fit(X_train4, y_train4)\n",
    "\n",
    "# Predict on test set\n",
    "y_pred = kn_model.predict(X_test4)\n",
    "print(kn_model.score(X_train4, y_train4))\n",
    "print(kn_model.score(X_test4, y_test4))\n",
    "print(confusion_matrix(y_test4, y_pred))\n",
    "print(classification_report(y_test4, y_pred, target_names=['edible' , 'poisonous']))"
   ]
  },
  {
   "cell_type": "code",
   "execution_count": 502,
   "metadata": {},
   "outputs": [
    {
     "name": "stdout",
     "output_type": "stream",
     "text": [
      "0.9969226034774581\n",
      "0.9975384615384615\n",
      "[[843   0]\n",
      " [  4 778]]\n",
      "              precision    recall  f1-score   support\n",
      "\n",
      "      edible       1.00      1.00      1.00       843\n",
      "   poisonous       1.00      0.99      1.00       782\n",
      "\n",
      "    accuracy                           1.00      1625\n",
      "   macro avg       1.00      1.00      1.00      1625\n",
      "weighted avg       1.00      1.00      1.00      1625\n",
      "\n"
     ]
    }
   ],
   "source": [
    "svc_model = SVC(C=1, degree=1)\n",
    "svc_model.fit(X_train4, y_train4)\n",
    "# Predict on test set\n",
    "y_pred = svc_model.predict(X_test4)\n",
    "print(svc_model.score(X_train4, y_train4))\n",
    "print(svc_model.score(X_test4, y_test4))\n",
    "print(confusion_matrix(y_test4, y_pred))\n",
    "print(classification_report(y_test4, y_pred, target_names=['edible' , 'poisonous']))"
   ]
  },
  {
   "cell_type": "code",
   "execution_count": 503,
   "metadata": {
    "scrolled": true
   },
   "outputs": [
    {
     "name": "stdout",
     "output_type": "stream",
     "text": [
      "0.9969226034774581\n",
      "0.9975384615384615\n",
      "[[843   0]\n",
      " [  4 778]]\n",
      "              precision    recall  f1-score   support\n",
      "\n",
      "      edible       1.00      1.00      1.00       843\n",
      "   poisonous       1.00      0.99      1.00       782\n",
      "\n",
      "    accuracy                           1.00      1625\n",
      "   macro avg       1.00      1.00      1.00      1625\n",
      "weighted avg       1.00      1.00      1.00      1625\n",
      "\n"
     ]
    }
   ],
   "source": [
    "sgd_model = SGDClassifier()\n",
    "sgd_model.fit(X_train4, y_train4)\n",
    "sgd_model.score(X_test4, y_test4)\n",
    "# Predict on test set\n",
    "y_pred = sgd_model.predict(X_test4)\n",
    "print(sgd_model.score(X_train4, y_train4))\n",
    "print(sgd_model.score(X_test4, y_test4))\n",
    "print(confusion_matrix(y_test4, y_pred))\n",
    "print(classification_report(y_test4, y_pred, target_names=['edible' , 'poisonous']))"
   ]
  },
  {
   "cell_type": "code",
   "execution_count": null,
   "metadata": {},
   "outputs": [],
   "source": []
  }
 ],
 "metadata": {
  "kernelspec": {
   "display_name": "Python 3",
   "language": "python",
   "name": "python3"
  },
  "language_info": {
   "codemirror_mode": {
    "name": "ipython",
    "version": 3
   },
   "file_extension": ".py",
   "mimetype": "text/x-python",
   "name": "python",
   "nbconvert_exporter": "python",
   "pygments_lexer": "ipython3",
   "version": "3.8.5"
  }
 },
 "nbformat": 4,
 "nbformat_minor": 4
}
